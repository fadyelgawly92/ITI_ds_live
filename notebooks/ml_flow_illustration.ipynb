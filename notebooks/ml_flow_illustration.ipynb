{
 "cells": [
  {
   "cell_type": "code",
   "execution_count": 1,
   "id": "19e7cd32-81df-44b3-a657-868c6a606645",
   "metadata": {},
   "outputs": [],
   "source": [
    "DF_PATH       = \"../data/processed/2_cleaned_data.pkl\"\n",
    "\n",
    "ROLE_COLS      = ['DevType']\n",
    "TECH_COLS      = ['LanguageHaveWorkedWith',\n",
    "                  'DatabaseHaveWorkedWith',\n",
    "                  'PlatformHaveWorkedWith',\n",
    "                  'WebframeHaveWorkedWith',\n",
    "                  'MiscTechHaveWorkedWith',\n",
    "                  'ToolsTechHaveWorkedWith',\n",
    "                  'NEWCollabToolsHaveWorkedWith']\n",
    "\n",
    "MLFLOW_TRACKING_URI = '../models/mlruns'\n",
    "MLFLOW_EXPERIMENT_NAME = \"skills_jobs_stackoverflow\"\n",
    "\n",
    "LOG_PATH = \"../models/temp/\"\n",
    "LOG_DATA_PKL    =  \"data.pkl\"\n",
    "LOG_MODEL_PKL   =  \"model.pkl\"\n",
    "LOG_METRICS_PKL =  \"metrics.pkl\"\n",
    "\n",
    "EXPERIMENT_NAME = \"live_illustration\"\n",
    "EXPORT_MODEL_PATH = \"toy_model.pkl\"\n",
    "\n",
    "RANDOM_STATE = 0\n",
    "PCA_VAR = 0.9"
   ]
  },
  {
   "cell_type": "code",
   "execution_count": 2,
   "id": "7c4a413f-2ead-4087-9d93-c7244aa68faf",
   "metadata": {},
   "outputs": [],
   "source": [
    "# Load packages\n",
    "import pandas as pd \n",
    "import numpy as np\n",
    "import logging\n",
    "import pickle\n",
    "import random\n",
    "import plotly \n",
    "import os\n",
    "from pathlib import Path\n",
    "\n",
    "import mlflow\n",
    "from mlflow.tracking import MlflowClient\n",
    "\n",
    "from sklearn.preprocessing import MultiLabelBinarizer\n",
    "from sklearn.preprocessing import StandardScaler, RobustScaler, MinMaxScaler\n",
    "from sklearn.pipeline import make_pipeline, FeatureUnion\n",
    "from sklearn.feature_selection import VarianceThreshold\n",
    "from sklearn.multioutput import MultiOutputClassifier\n",
    "from sklearn.model_selection import train_test_split\n",
    "from sklearn.model_selection import GridSearchCV\n",
    "from sklearn.datasets import load_boston\n",
    "\n",
    "from sklearn import metrics\n",
    "from sklearn.metrics import auc, accuracy_score, confusion_matrix, f1_score, precision_score, recall_score , mean_squared_error\n",
    "\n",
    "from sklearn.decomposition import PCA, KernelPCA\n",
    "\n",
    "from sklearn import tree\n",
    "from sklearn.linear_model import LogisticRegression , LinearRegression\n",
    "\n",
    "from matplotlib import pyplot as plt"
   ]
  },
  {
   "cell_type": "markdown",
   "id": "c42c9f24-a5b1-4e95-b29c-801fc24c2572",
   "metadata": {},
   "source": [
    "Train Toy Model"
   ]
  },
  {
   "cell_type": "code",
   "execution_count": 3,
   "id": "a1d4ad49-0a51-421d-9271-52c24dbb9a31",
   "metadata": {},
   "outputs": [],
   "source": [
    "#load toy data and train toy model\n",
    "features , classes = load_boston(return_X_y = True)"
   ]
  },
  {
   "cell_type": "code",
   "execution_count": 4,
   "id": "e08c6f36-95f4-4cd6-827b-31948b16f1eb",
   "metadata": {},
   "outputs": [],
   "source": [
    "# split train and test data\n",
    "X_train, X_test, Y_train, Y_test = train_test_split(features, classes, test_size=0.3, random_state=RANDOM_STATE)"
   ]
  },
  {
   "cell_type": "code",
   "execution_count": 5,
   "id": "a549b7e5-d139-41e9-b203-236c481e7b08",
   "metadata": {},
   "outputs": [],
   "source": [
    "# set pipeline \n",
    "regressor = make_pipeline(StandardScaler(),\n",
    "                          PCA(n_components=PCA_VAR,random_state=RANDOM_STATE),\n",
    "                          LinearRegression())"
   ]
  },
  {
   "cell_type": "code",
   "execution_count": 6,
   "id": "11d31d07-e4d1-4cc8-a017-8fd9f6c045db",
   "metadata": {},
   "outputs": [
    {
     "data": {
      "text/plain": [
       "Pipeline(steps=[('standardscaler', StandardScaler()),\n",
       "                ('pca', PCA(n_components=0.9, random_state=0)),\n",
       "                ('linearregression', LinearRegression())])"
      ]
     },
     "execution_count": 6,
     "metadata": {},
     "output_type": "execute_result"
    }
   ],
   "source": [
    "# train model\n",
    "regressor.fit(X_train,Y_train)"
   ]
  },
  {
   "cell_type": "code",
   "execution_count": 7,
   "id": "1fcaeb5f-e730-4bfe-bedb-e4f2af83c29e",
   "metadata": {},
   "outputs": [],
   "source": [
    "#predict and calculate metrics\n",
    "train_prediction = regressor.predict(X_train)\n",
    "test_prediction = regressor.predict(X_test)"
   ]
  },
  {
   "cell_type": "code",
   "execution_count": 8,
   "id": "88da8f68-98ee-4d5a-9d1e-73854a1aed9c",
   "metadata": {},
   "outputs": [
    {
     "name": "stdout",
     "output_type": "stream",
     "text": [
      "5.642393765465309\n"
     ]
    },
    {
     "data": {
      "image/png": "[encoded data removed]",
      "text/plain": [
       "<Figure size 432x288 with 1 Axes>"
      ]
     },
     "metadata": {
      "needs_background": "light"
     },
     "output_type": "display_data"
    }
   ],
   "source": [
    "# check prediction \n",
    "plt.scatter(Y_test, test_prediction)\n",
    "mse_test = mean_squared_error(Y_test , test_prediction)\n",
    "print(mse_test ** 0.5)"
   ]
  },
  {
   "cell_type": "code",
   "execution_count": 9,
   "id": "7c8ef804-445b-4ae3-9730-2a46c8b0458f",
   "metadata": {},
   "outputs": [],
   "source": [
    "with open(EXPORT_MODEL_PATH , 'wb') as handle:\n",
    "    pickle.dump(regressor , handle)"
   ]
  },
  {
   "cell_type": "markdown",
   "id": "bc7d4f80-eb06-4e4b-a68a-0254e4b5774b",
   "metadata": {},
   "source": [
    "Track With MLflow"
   ]
  },
  {
   "cell_type": "code",
   "execution_count": 10,
   "id": "00e4be1e-dd5d-424a-9ca3-4ee4d1464471",
   "metadata": {},
   "outputs": [],
   "source": [
    "# initialize client\n",
    "client = MlflowClient()"
   ]
  },
  {
   "cell_type": "code",
   "execution_count": 11,
   "id": "f3df6a63-3b46-4b58-a743-f9c411ee5aa9",
   "metadata": {},
   "outputs": [],
   "source": [
    "# mlflow.create_experiment(EXPERIMENT_NAME)"
   ]
  },
  {
   "cell_type": "code",
   "execution_count": 12,
   "id": "408987e2-0731-45b6-a1a5-e95e46d482d5",
   "metadata": {},
   "outputs": [],
   "source": [
    "# initialize\n",
    "mlflow.set_experiment(EXPERIMENT_NAME)\n",
    "exp = client.get_experiment_by_name(EXPERIMENT_NAME)"
   ]
  },
  {
   "cell_type": "code",
   "execution_count": 13,
   "id": "3ca53515-f571-44c2-bad1-1073fb1a10f6",
   "metadata": {},
   "outputs": [
    {
     "data": {
      "text/plain": [
       "<Experiment: artifact_location='file:///C:/Users/Access/ITI/data_science_skills/notebooks/mlruns/1', experiment_id='1', lifecycle_stage='active', name='live_illustration', tags={}>"
      ]
     },
     "execution_count": 13,
     "metadata": {},
     "output_type": "execute_result"
    }
   ],
   "source": [
    "exp"
   ]
  },
  {
   "cell_type": "code",
   "execution_count": 14,
   "id": "85ff7757-b6c0-4fed-9672-6a58d80785d1",
   "metadata": {},
   "outputs": [],
   "source": [
    "with mlflow.start_run(experiment_id=exp.experiment_id):\n",
    "    \n",
    "    # log parameters\n",
    "    mlflow.log_param(\"pca_var\",PCA_VAR)\n",
    "    mlflow.log_param(\"random_state\",RANDOM_STATE)\n",
    "    \n",
    "    # log metrics\n",
    "    mlflow.log_metric(\"MSE\", mse_test)\n",
    "    \n",
    "    # log model\n",
    "    mlflow.log_artifact(EXPORT_MODEL_PATH)"
   ]
  },
  {
   "cell_type": "code",
   "execution_count": null,
   "id": "222359aa-2255-45c3-9d9b-ad63abf04b18",
   "metadata": {},
   "outputs": [],
   "source": []
  }
 ],
 "metadata": {
  "kernelspec": {
   "display_name": "Python 3",
   "language": "python",
   "name": "python3"
  },
  "language_info": {
   "codemirror_mode": {
    "name": "ipython",
    "version": 3
   },
   "file_extension": ".py",
   "mimetype": "text/x-python",
   "name": "python",
   "nbconvert_exporter": "python",
   "pygments_lexer": "ipython3",
   "version": "3.8.8"
  }
 },
 "nbformat": 4,
 "nbformat_minor": 5
}
