{
 "cells": [
  {
   "cell_type": "code",
   "execution_count": 1,
   "id": "dc45e8b8-906f-4b2e-bf40-1a385fc9e8d0",
   "metadata": {},
   "outputs": [],
   "source": [
    "DF_PATH = 'C:/Users/Access/ITI/data_science_skills/data/processed/1_preprocessed_df.pkl'\n",
    "ROLES_PATH = 'C:/Users/Access/ITI/data_science_skills/data/raw/roles_short_names.csv'\n",
    "\n",
    "NA_STRING = 'Not Specified'\n",
    "TRANSPARENT_STRING = 'rgba(0, 0, 0, 0)'\n",
    "\n",
    "ROLE_COLS = ['DevType']\n",
    "TECH_COLS = ['LanguageWorkedWith' , 'DatabaseWorkedWith' , 'WebframeWorkedWith', 'MiscTechWorkedWith']\n",
    "TECH_NEXT_COLS = ['LanguageDesireNextYear', 'DatabaseDesireNextYear' , 'WebframeDesireNextYear' , 'MiscTechDesireNextYear']"
   ]
  },
  {
   "cell_type": "code",
   "execution_count": 2,
   "id": "12bccaf4-49ac-4f6a-a8a6-48a180ac7134",
   "metadata": {},
   "outputs": [],
   "source": [
    "## Major Libraries\n",
    "import numpy as np\n",
    "import pandas as pd\n",
    "%matplotlib inline\n",
    "import seaborn as sns\n",
    "from matplotlib import pyplot as plt\n",
    "from scipy.cluster.hierarchy import dendrogram\n",
    "\n",
    "## Other\n",
    "import os, joblib, missingno\n",
    "import logging\n",
    "import pickle\n",
    "\n",
    "import plotly\n",
    "import plotly.graph_objects as go\n",
    "from plotly.subplots import make_subplots\n",
    "import plotly.express as px\n",
    "import plotly.figure_factory as ff\n",
    "\n",
    "## sklearn -- Preprocessing & Tuning & Transformation\n",
    "from sklearn.manifold import TSNE\n",
    "from sklearn.model_selection import train_test_split, cross_val_score, cross_val_predict\n",
    "from sklearn.model_selection import GridSearchCV, RandomizedSearchCV\n",
    "from sklearn.impute import SimpleImputer\n",
    "from sklearn.preprocessing import StandardScaler, LabelEncoder, OneHotEncoder, PolynomialFeatures , MultiLabelBinarizer , RobustScaler , MinMaxScaler\n",
    "from sklearn.pipeline import Pipeline, FeatureUnion , make_pipeline\n",
    "from sklearn_features.transformers import DataFrameSelector\n",
    "\n",
    "## sklearn -- metrics\n",
    "from sklearn.metrics import mean_squared_error, r2_score\n",
    "\n",
    "## sklearn -- Models\n",
    "from sklearn.linear_model import LinearRegression, SGDRegressor, Ridge, Lasso, ElasticNet\n",
    "from sklearn.neighbors import KNeighborsRegressor\n",
    "from sklearn.ensemble import RandomForestRegressor, VotingRegressor\n",
    "from sklearn.cluster import KMeans , AgglomerativeClustering\n",
    "\n",
    "## Xgboost\n",
    "from xgboost import XGBRegressor"
   ]
  },
  {
   "cell_type": "markdown",
   "id": "5b988b8e-d278-4397-b67c-bab90b8d2583",
   "metadata": {},
   "source": [
    "Read data and preprocess"
   ]
  },
  {
   "cell_type": "code",
   "execution_count": 3,
   "id": "ac93ac16-b956-4daf-ac3f-70e8b24ede4b",
   "metadata": {},
   "outputs": [],
   "source": [
    "# Read Data\n",
    "raw_df = pd.read_pickle(DF_PATH)\n",
    "# roles_names = pd.read_csv(ROLES_PATH , sep=';')"
   ]
  },
  {
   "cell_type": "markdown",
   "id": "acd1f4f3-0e56-4cbf-8244-16f783245b29",
   "metadata": {},
   "source": [
    "------------------------------------------------------------------------------------------------------------------------------------------------"
   ]
  },
  {
   "cell_type": "markdown",
   "id": "5e9d05f6-f890-4239-a1c0-1bff5b309ca5",
   "metadata": {},
   "source": [
    "Onehot encode"
   ]
  },
  {
   "cell_type": "code",
   "execution_count": 4,
   "id": "6663c4df-3600-45f4-9cd7-7b068eba27e2",
   "metadata": {},
   "outputs": [],
   "source": [
    "df = raw_df.copy()\n",
    "encoded_dfs = {}\n",
    "for col in ROLE_COLS + TECH_COLS :\n",
    "    binarizer = MultiLabelBinarizer()\n",
    "    encoded_df = pd.DataFrame(binarizer.fit_transform(df[col]),\n",
    "                            columns = binarizer.classes_,\n",
    "                            index=df[col].index)\n",
    "    encoded_dfs[col] = encoded_df"
   ]
  },
  {
   "cell_type": "code",
   "execution_count": 5,
   "id": "aeccfd26-9a7e-46fc-a258-f66868f3038f",
   "metadata": {},
   "outputs": [],
   "source": [
    "# merge 1-hot encoded\n",
    "df = pd.concat(encoded_dfs, axis=1)"
   ]
  },
  {
   "cell_type": "code",
   "execution_count": 6,
   "id": "2d84a812-18dc-4ea5-933c-f7771a87d8b9",
   "metadata": {},
   "outputs": [
    {
     "data": {
      "text/html": [
       "<div>\n",
       "<style scoped>\n",
       "    .dataframe tbody tr th:only-of-type {\n",
       "        vertical-align: middle;\n",
       "    }\n",
       "\n",
       "    .dataframe tbody tr th {\n",
       "        vertical-align: top;\n",
       "    }\n",
       "\n",
       "    .dataframe thead tr th {\n",
       "        text-align: left;\n",
       "    }\n",
       "</style>\n",
       "<table border=\"1\" class=\"dataframe\">\n",
       "  <thead>\n",
       "    <tr>\n",
       "      <th></th>\n",
       "      <th colspan=\"10\" halign=\"left\">DevType</th>\n",
       "      <th>...</th>\n",
       "      <th colspan=\"10\" halign=\"left\">MiscTechWorkedWith</th>\n",
       "    </tr>\n",
       "    <tr>\n",
       "      <th></th>\n",
       "      <th>Academic researcher</th>\n",
       "      <th>Data or business analyst</th>\n",
       "      <th>Data scientist or machine learning specialist</th>\n",
       "      <th>Database administrator</th>\n",
       "      <th>Designer</th>\n",
       "      <th>DevOps specialist</th>\n",
       "      <th>Developer, QA or test</th>\n",
       "      <th>Developer, back-end</th>\n",
       "      <th>Developer, desktop or enterprise applications</th>\n",
       "      <th>Developer, embedded applications or devices</th>\n",
       "      <th>...</th>\n",
       "      <th>Node.js</th>\n",
       "      <th>Pandas</th>\n",
       "      <th>Puppet</th>\n",
       "      <th>React Native</th>\n",
       "      <th>TensorFlow</th>\n",
       "      <th>Teraform</th>\n",
       "      <th>Torch/PyTorch</th>\n",
       "      <th>Unity 3D</th>\n",
       "      <th>Unreal Engine</th>\n",
       "      <th>Xamarin</th>\n",
       "    </tr>\n",
       "  </thead>\n",
       "  <tbody>\n",
       "    <tr>\n",
       "      <th>0</th>\n",
       "      <td>0</td>\n",
       "      <td>0</td>\n",
       "      <td>0</td>\n",
       "      <td>0</td>\n",
       "      <td>0</td>\n",
       "      <td>0</td>\n",
       "      <td>0</td>\n",
       "      <td>0</td>\n",
       "      <td>1</td>\n",
       "      <td>0</td>\n",
       "      <td>...</td>\n",
       "      <td>0</td>\n",
       "      <td>0</td>\n",
       "      <td>0</td>\n",
       "      <td>0</td>\n",
       "      <td>0</td>\n",
       "      <td>0</td>\n",
       "      <td>0</td>\n",
       "      <td>0</td>\n",
       "      <td>0</td>\n",
       "      <td>0</td>\n",
       "    </tr>\n",
       "    <tr>\n",
       "      <th>1</th>\n",
       "      <td>0</td>\n",
       "      <td>0</td>\n",
       "      <td>0</td>\n",
       "      <td>0</td>\n",
       "      <td>0</td>\n",
       "      <td>0</td>\n",
       "      <td>0</td>\n",
       "      <td>0</td>\n",
       "      <td>0</td>\n",
       "      <td>0</td>\n",
       "      <td>...</td>\n",
       "      <td>0</td>\n",
       "      <td>0</td>\n",
       "      <td>0</td>\n",
       "      <td>1</td>\n",
       "      <td>0</td>\n",
       "      <td>0</td>\n",
       "      <td>0</td>\n",
       "      <td>0</td>\n",
       "      <td>0</td>\n",
       "      <td>0</td>\n",
       "    </tr>\n",
       "    <tr>\n",
       "      <th>2</th>\n",
       "      <td>0</td>\n",
       "      <td>0</td>\n",
       "      <td>0</td>\n",
       "      <td>0</td>\n",
       "      <td>0</td>\n",
       "      <td>0</td>\n",
       "      <td>0</td>\n",
       "      <td>0</td>\n",
       "      <td>0</td>\n",
       "      <td>0</td>\n",
       "      <td>...</td>\n",
       "      <td>0</td>\n",
       "      <td>0</td>\n",
       "      <td>0</td>\n",
       "      <td>0</td>\n",
       "      <td>0</td>\n",
       "      <td>0</td>\n",
       "      <td>0</td>\n",
       "      <td>0</td>\n",
       "      <td>0</td>\n",
       "      <td>0</td>\n",
       "    </tr>\n",
       "    <tr>\n",
       "      <th>3</th>\n",
       "      <td>0</td>\n",
       "      <td>0</td>\n",
       "      <td>0</td>\n",
       "      <td>0</td>\n",
       "      <td>0</td>\n",
       "      <td>0</td>\n",
       "      <td>0</td>\n",
       "      <td>0</td>\n",
       "      <td>0</td>\n",
       "      <td>0</td>\n",
       "      <td>...</td>\n",
       "      <td>0</td>\n",
       "      <td>0</td>\n",
       "      <td>0</td>\n",
       "      <td>0</td>\n",
       "      <td>0</td>\n",
       "      <td>0</td>\n",
       "      <td>0</td>\n",
       "      <td>0</td>\n",
       "      <td>0</td>\n",
       "      <td>0</td>\n",
       "    </tr>\n",
       "    <tr>\n",
       "      <th>4</th>\n",
       "      <td>0</td>\n",
       "      <td>0</td>\n",
       "      <td>0</td>\n",
       "      <td>0</td>\n",
       "      <td>0</td>\n",
       "      <td>0</td>\n",
       "      <td>0</td>\n",
       "      <td>0</td>\n",
       "      <td>0</td>\n",
       "      <td>0</td>\n",
       "      <td>...</td>\n",
       "      <td>0</td>\n",
       "      <td>0</td>\n",
       "      <td>0</td>\n",
       "      <td>0</td>\n",
       "      <td>0</td>\n",
       "      <td>0</td>\n",
       "      <td>0</td>\n",
       "      <td>0</td>\n",
       "      <td>0</td>\n",
       "      <td>0</td>\n",
       "    </tr>\n",
       "  </tbody>\n",
       "</table>\n",
       "<p>5 rows × 97 columns</p>\n",
       "</div>"
      ],
      "text/plain": [
       "              DevType                           \\\n",
       "  Academic researcher Data or business analyst   \n",
       "0                   0                        0   \n",
       "1                   0                        0   \n",
       "2                   0                        0   \n",
       "3                   0                        0   \n",
       "4                   0                        0   \n",
       "\n",
       "                                                                        \\\n",
       "  Data scientist or machine learning specialist Database administrator   \n",
       "0                                             0                      0   \n",
       "1                                             0                      0   \n",
       "2                                             0                      0   \n",
       "3                                             0                      0   \n",
       "4                                             0                      0   \n",
       "\n",
       "                                                                        \\\n",
       "  Designer DevOps specialist Developer, QA or test Developer, back-end   \n",
       "0        0                 0                     0                   0   \n",
       "1        0                 0                     0                   0   \n",
       "2        0                 0                     0                   0   \n",
       "3        0                 0                     0                   0   \n",
       "4        0                 0                     0                   0   \n",
       "\n",
       "                                                 \\\n",
       "  Developer, desktop or enterprise applications   \n",
       "0                                             1   \n",
       "1                                             0   \n",
       "2                                             0   \n",
       "3                                             0   \n",
       "4                                             0   \n",
       "\n",
       "                                               ... MiscTechWorkedWith         \\\n",
       "  Developer, embedded applications or devices  ...            Node.js Pandas   \n",
       "0                                           0  ...                  0      0   \n",
       "1                                           0  ...                  0      0   \n",
       "2                                           0  ...                  0      0   \n",
       "3                                           0  ...                  0      0   \n",
       "4                                           0  ...                  0      0   \n",
       "\n",
       "                                                                  \\\n",
       "  Puppet React Native TensorFlow Teraform Torch/PyTorch Unity 3D   \n",
       "0      0            0          0        0             0        0   \n",
       "1      0            1          0        0             0        0   \n",
       "2      0            0          0        0             0        0   \n",
       "3      0            0          0        0             0        0   \n",
       "4      0            0          0        0             0        0   \n",
       "\n",
       "                         \n",
       "  Unreal Engine Xamarin  \n",
       "0             0       0  \n",
       "1             0       0  \n",
       "2             0       0  \n",
       "3             0       0  \n",
       "4             0       0  \n",
       "\n",
       "[5 rows x 97 columns]"
      ]
     },
     "execution_count": 6,
     "metadata": {},
     "output_type": "execute_result"
    }
   ],
   "source": [
    "df.head()"
   ]
  },
  {
   "cell_type": "code",
   "execution_count": 7,
   "id": "0c3aeb7a-8974-4725-8ef1-b337d162a184",
   "metadata": {},
   "outputs": [
    {
     "data": {
      "text/plain": [
       "['Developer, full-stack', 'Developer, mobile']"
      ]
     },
     "execution_count": 7,
     "metadata": {},
     "output_type": "execute_result"
    }
   ],
   "source": [
    "raw_df['DevType'][1]"
   ]
  },
  {
   "cell_type": "code",
   "execution_count": 24,
   "id": "02dfa4ac-201b-43d1-81bf-95abbcc8000d",
   "metadata": {},
   "outputs": [
    {
     "data": {
      "text/plain": [
       "('DevType', 'Data or business analyst')"
      ]
     },
     "execution_count": 24,
     "metadata": {},
     "output_type": "execute_result"
    }
   ],
   "source": [
    "df.columns[1]"
   ]
  },
  {
   "cell_type": "code",
   "execution_count": 9,
   "id": "96c13b55-7402-4fe6-980d-b680f690c9d5",
   "metadata": {},
   "outputs": [
    {
     "data": {
      "text/plain": [
       "LanguageWorkedWith  Assembly                  3553\n",
       "                    Bash/Shell/PowerShell    18980\n",
       "                    C                        12487\n",
       "                    C#                       18041\n",
       "                    C++                      13707\n",
       "                                             ...  \n",
       "MiscTechWorkedWith  Teraform                  2518\n",
       "                    Torch/PyTorch             1872\n",
       "                    Unity 3D                  4413\n",
       "                    Unreal Engine             1316\n",
       "                    Xamarin                   2357\n",
       "Length: 74, dtype: int64"
      ]
     },
     "execution_count": 9,
     "metadata": {},
     "output_type": "execute_result"
    }
   ],
   "source": [
    "df.drop('DevType' , axis = 1).sum()"
   ]
  },
  {
   "cell_type": "markdown",
   "id": "c8fd021b-539f-42be-ac8d-c35572df7622",
   "metadata": {},
   "source": [
    "--------------------------------------------------------------------------------------------------------------------------------------"
   ]
  },
  {
   "cell_type": "markdown",
   "id": "32b08b57-b950-4e9f-880e-89392466a56c",
   "metadata": {},
   "source": [
    "Display Skills Frequency"
   ]
  },
  {
   "cell_type": "code",
   "execution_count": 10,
   "id": "858eae13-6515-484d-94f6-2267cfc6e587",
   "metadata": {},
   "outputs": [
    {
     "data": {
      "text/html": [
       "<div>\n",
       "<style scoped>\n",
       "    .dataframe tbody tr th:only-of-type {\n",
       "        vertical-align: middle;\n",
       "    }\n",
       "\n",
       "    .dataframe tbody tr th {\n",
       "        vertical-align: top;\n",
       "    }\n",
       "\n",
       "    .dataframe thead th {\n",
       "        text-align: right;\n",
       "    }\n",
       "</style>\n",
       "<table border=\"1\" class=\"dataframe\">\n",
       "  <thead>\n",
       "    <tr style=\"text-align: right;\">\n",
       "      <th></th>\n",
       "      <th>level_0</th>\n",
       "      <th>level_1</th>\n",
       "      <th>0</th>\n",
       "    </tr>\n",
       "  </thead>\n",
       "  <tbody>\n",
       "    <tr>\n",
       "      <th>0</th>\n",
       "      <td>LanguageWorkedWith</td>\n",
       "      <td>Assembly</td>\n",
       "      <td>3553</td>\n",
       "    </tr>\n",
       "    <tr>\n",
       "      <th>1</th>\n",
       "      <td>LanguageWorkedWith</td>\n",
       "      <td>Bash/Shell/PowerShell</td>\n",
       "      <td>18980</td>\n",
       "    </tr>\n",
       "    <tr>\n",
       "      <th>2</th>\n",
       "      <td>LanguageWorkedWith</td>\n",
       "      <td>C</td>\n",
       "      <td>12487</td>\n",
       "    </tr>\n",
       "    <tr>\n",
       "      <th>3</th>\n",
       "      <td>LanguageWorkedWith</td>\n",
       "      <td>C#</td>\n",
       "      <td>18041</td>\n",
       "    </tr>\n",
       "    <tr>\n",
       "      <th>4</th>\n",
       "      <td>LanguageWorkedWith</td>\n",
       "      <td>C++</td>\n",
       "      <td>13707</td>\n",
       "    </tr>\n",
       "  </tbody>\n",
       "</table>\n",
       "</div>"
      ],
      "text/plain": [
       "              level_0                level_1      0\n",
       "0  LanguageWorkedWith               Assembly   3553\n",
       "1  LanguageWorkedWith  Bash/Shell/PowerShell  18980\n",
       "2  LanguageWorkedWith                      C  12487\n",
       "3  LanguageWorkedWith                     C#  18041\n",
       "4  LanguageWorkedWith                    C++  13707"
      ]
     },
     "execution_count": 10,
     "metadata": {},
     "output_type": "execute_result"
    }
   ],
   "source": [
    "# calculate the sum for all cols except DevTypes\n",
    "skills_freq = df.drop('DevType' , axis = 1).sum().reset_index()\n",
    "skills_freq.head()"
   ]
  },
  {
   "cell_type": "code",
   "execution_count": 11,
   "id": "e3effa7e-22fc-4bec-afda-368ca3668eb4",
   "metadata": {},
   "outputs": [],
   "source": [
    "skills_freq.columns = ['group' , 'skill' , 'freq']"
   ]
  },
  {
   "cell_type": "code",
   "execution_count": 12,
   "id": "581f6302-d11b-46bd-bf3e-23589cc9b164",
   "metadata": {},
   "outputs": [
    {
     "data": {
      "text/html": [
       "<div>\n",
       "<style scoped>\n",
       "    .dataframe tbody tr th:only-of-type {\n",
       "        vertical-align: middle;\n",
       "    }\n",
       "\n",
       "    .dataframe tbody tr th {\n",
       "        vertical-align: top;\n",
       "    }\n",
       "\n",
       "    .dataframe thead th {\n",
       "        text-align: right;\n",
       "    }\n",
       "</style>\n",
       "<table border=\"1\" class=\"dataframe\">\n",
       "  <thead>\n",
       "    <tr style=\"text-align: right;\">\n",
       "      <th></th>\n",
       "      <th>group</th>\n",
       "      <th>skill</th>\n",
       "      <th>freq</th>\n",
       "    </tr>\n",
       "  </thead>\n",
       "  <tbody>\n",
       "    <tr>\n",
       "      <th>0</th>\n",
       "      <td>LanguageWorkedWith</td>\n",
       "      <td>Assembly</td>\n",
       "      <td>3553</td>\n",
       "    </tr>\n",
       "    <tr>\n",
       "      <th>1</th>\n",
       "      <td>LanguageWorkedWith</td>\n",
       "      <td>Bash/Shell/PowerShell</td>\n",
       "      <td>18980</td>\n",
       "    </tr>\n",
       "    <tr>\n",
       "      <th>2</th>\n",
       "      <td>LanguageWorkedWith</td>\n",
       "      <td>C</td>\n",
       "      <td>12487</td>\n",
       "    </tr>\n",
       "    <tr>\n",
       "      <th>3</th>\n",
       "      <td>LanguageWorkedWith</td>\n",
       "      <td>C#</td>\n",
       "      <td>18041</td>\n",
       "    </tr>\n",
       "    <tr>\n",
       "      <th>4</th>\n",
       "      <td>LanguageWorkedWith</td>\n",
       "      <td>C++</td>\n",
       "      <td>13707</td>\n",
       "    </tr>\n",
       "    <tr>\n",
       "      <th>...</th>\n",
       "      <td>...</td>\n",
       "      <td>...</td>\n",
       "      <td>...</td>\n",
       "    </tr>\n",
       "    <tr>\n",
       "      <th>69</th>\n",
       "      <td>MiscTechWorkedWith</td>\n",
       "      <td>Teraform</td>\n",
       "      <td>2518</td>\n",
       "    </tr>\n",
       "    <tr>\n",
       "      <th>70</th>\n",
       "      <td>MiscTechWorkedWith</td>\n",
       "      <td>Torch/PyTorch</td>\n",
       "      <td>1872</td>\n",
       "    </tr>\n",
       "    <tr>\n",
       "      <th>71</th>\n",
       "      <td>MiscTechWorkedWith</td>\n",
       "      <td>Unity 3D</td>\n",
       "      <td>4413</td>\n",
       "    </tr>\n",
       "    <tr>\n",
       "      <th>72</th>\n",
       "      <td>MiscTechWorkedWith</td>\n",
       "      <td>Unreal Engine</td>\n",
       "      <td>1316</td>\n",
       "    </tr>\n",
       "    <tr>\n",
       "      <th>73</th>\n",
       "      <td>MiscTechWorkedWith</td>\n",
       "      <td>Xamarin</td>\n",
       "      <td>2357</td>\n",
       "    </tr>\n",
       "  </tbody>\n",
       "</table>\n",
       "<p>74 rows × 3 columns</p>\n",
       "</div>"
      ],
      "text/plain": [
       "                 group                  skill   freq\n",
       "0   LanguageWorkedWith               Assembly   3553\n",
       "1   LanguageWorkedWith  Bash/Shell/PowerShell  18980\n",
       "2   LanguageWorkedWith                      C  12487\n",
       "3   LanguageWorkedWith                     C#  18041\n",
       "4   LanguageWorkedWith                    C++  13707\n",
       "..                 ...                    ...    ...\n",
       "69  MiscTechWorkedWith               Teraform   2518\n",
       "70  MiscTechWorkedWith          Torch/PyTorch   1872\n",
       "71  MiscTechWorkedWith               Unity 3D   4413\n",
       "72  MiscTechWorkedWith          Unreal Engine   1316\n",
       "73  MiscTechWorkedWith                Xamarin   2357\n",
       "\n",
       "[74 rows x 3 columns]"
      ]
     },
     "execution_count": 12,
     "metadata": {},
     "output_type": "execute_result"
    }
   ],
   "source": [
    "skills_freq"
   ]
  },
  {
   "cell_type": "code",
   "execution_count": 17,
   "id": "96d9bce5-7396-419a-8ca7-5398dab30bfd",
   "metadata": {},
   "outputs": [
    {
     "data": {
      "application/vnd.plotly.v1+json": {
       "config": {
        "plotlyServerURL": "https://plot.ly"
       },
       "data": [
        {
         "branchvalues": "total",
         "customdata": [
          [
           14144
          ],
          [
           10755
          ],
          [
           9258
          ],
          [
           8082
          ],
          [
           10617
          ],
          [
           6826
          ],
          [
           2955
          ],
          [
           2089
          ],
          [
           3553
          ],
          [
           18980
          ],
          [
           12487
          ],
          [
           18041
          ],
          [
           13707
          ],
          [
           1654
          ],
          [
           733
          ],
          [
           2419
          ],
          [
           937
          ],
          [
           2280
          ],
          [
           6014
          ],
          [
           1369
          ],
          [
           3497
          ],
          [
           6817
          ],
          [
           8961
          ],
          [
           7128
          ],
          [
           6005
          ],
          [
           2897
          ],
          [
           1703
          ],
          [
           5038
          ],
          [
           36181
          ],
          [
           1798
          ],
          [
           1222
          ],
          [
           1421
          ],
          [
           23074
          ],
          [
           38822
          ],
          [
           519
          ],
          [
           2504
          ],
          [
           4468
          ],
          [
           4680
          ],
          [
           8312
          ],
          [
           16336
          ],
          [
           13086
          ],
          [
           27559
          ],
          [
           20741
          ],
          [
           2340
          ],
          [
           8155
          ],
          [
           15007
          ],
          [
           6253
          ],
          [
           1796
          ],
          [
           17892
          ],
          [
           945
          ],
          [
           25287
          ],
          [
           3288
          ],
          [
           4626
          ],
          [
           15167
          ],
          [
           9056
          ],
          [
           4046
          ],
          [
           2944
          ],
          [
           2929
          ],
          [
           31413
          ],
          [
           15434
          ],
          [
           2052
          ],
          [
           6941
          ],
          [
           3397
          ],
          [
           1851
          ],
          [
           4652
          ],
          [
           2518
          ],
          [
           1872
          ],
          [
           14578
          ],
          [
           4413
          ],
          [
           1316
          ],
          [
           3499
          ],
          [
           7322
          ],
          [
           2357
          ],
          [
           18316
          ],
          [
           15214.337475598031
          ],
          [
           22845.057860307497
          ],
          [
           10034.034504984053
          ],
          [
           10072.249707037981
          ]
         ],
         "domain": {
          "x": [
           0,
           1
          ],
          "y": [
           0,
           1
          ]
         },
         "hovertemplate": "labels=%{label}<br>freq_sum=%{value}<br>parent=%{parent}<br>id=%{id}<br>freq=%{color}<extra></extra>",
         "ids": [
          "MiscTechWorkedWith/.NET",
          "MiscTechWorkedWith/.NET Core",
          "WebframeWorkedWith/ASP.NET",
          "WebframeWorkedWith/ASP.NET Core",
          "WebframeWorkedWith/Angular",
          "WebframeWorkedWith/Angular.js",
          "MiscTechWorkedWith/Ansible",
          "MiscTechWorkedWith/Apache Spark",
          "LanguageWorkedWith/Assembly",
          "LanguageWorkedWith/Bash/Shell/PowerShell",
          "LanguageWorkedWith/C",
          "LanguageWorkedWith/C#",
          "LanguageWorkedWith/C++",
          "DatabaseWorkedWith/Cassandra",
          "MiscTechWorkedWith/Chef",
          "MiscTechWorkedWith/Cordova",
          "DatabaseWorkedWith/Couchbase",
          "LanguageWorkedWith/Dart",
          "WebframeWorkedWith/Django",
          "WebframeWorkedWith/Drupal",
          "DatabaseWorkedWith/DynamoDB",
          "DatabaseWorkedWith/Elasticsearch",
          "WebframeWorkedWith/Express",
          "DatabaseWorkedWith/Firebase",
          "WebframeWorkedWith/Flask",
          "MiscTechWorkedWith/Flutter",
          "WebframeWorkedWith/Gatsby",
          "LanguageWorkedWith/Go",
          "LanguageWorkedWith/HTML/CSS",
          "MiscTechWorkedWith/Hadoop",
          "LanguageWorkedWith/Haskell",
          "DatabaseWorkedWith/IBM DB2",
          "LanguageWorkedWith/Java",
          "LanguageWorkedWith/JavaScript",
          "LanguageWorkedWith/Julia",
          "MiscTechWorkedWith/Keras",
          "LanguageWorkedWith/Kotlin",
          "WebframeWorkedWith/Laravel",
          "DatabaseWorkedWith/MariaDB",
          "DatabaseWorkedWith/Microsoft SQL Server",
          "DatabaseWorkedWith/MongoDB",
          "DatabaseWorkedWith/MySQL",
          "MiscTechWorkedWith/Node.js",
          "LanguageWorkedWith/Objective-C",
          "DatabaseWorkedWith/Oracle",
          "LanguageWorkedWith/PHP",
          "MiscTechWorkedWith/Pandas",
          "LanguageWorkedWith/Perl",
          "DatabaseWorkedWith/PostgreSQL",
          "MiscTechWorkedWith/Puppet",
          "LanguageWorkedWith/Python",
          "LanguageWorkedWith/R",
          "MiscTechWorkedWith/React Native",
          "WebframeWorkedWith/React.js",
          "DatabaseWorkedWith/Redis",
          "LanguageWorkedWith/Ruby",
          "WebframeWorkedWith/Ruby on Rails",
          "LanguageWorkedWith/Rust",
          "LanguageWorkedWith/SQL",
          "DatabaseWorkedWith/SQLite",
          "LanguageWorkedWith/Scala",
          "WebframeWorkedWith/Spring",
          "LanguageWorkedWith/Swift",
          "WebframeWorkedWith/Symfony",
          "MiscTechWorkedWith/TensorFlow",
          "MiscTechWorkedWith/Teraform",
          "MiscTechWorkedWith/Torch/PyTorch",
          "LanguageWorkedWith/TypeScript",
          "MiscTechWorkedWith/Unity 3D",
          "MiscTechWorkedWith/Unreal Engine",
          "LanguageWorkedWith/VBA",
          "WebframeWorkedWith/Vue.js",
          "MiscTechWorkedWith/Xamarin",
          "WebframeWorkedWith/jQuery",
          "DatabaseWorkedWith",
          "LanguageWorkedWith",
          "MiscTechWorkedWith",
          "WebframeWorkedWith"
         ],
         "labels": [
          ".NET",
          ".NET Core",
          "ASP.NET",
          "ASP.NET Core",
          "Angular",
          "Angular.js",
          "Ansible",
          "Apache Spark",
          "Assembly",
          "Bash/Shell/PowerShell",
          "C",
          "C#",
          "C++",
          "Cassandra",
          "Chef",
          "Cordova",
          "Couchbase",
          "Dart",
          "Django",
          "Drupal",
          "DynamoDB",
          "Elasticsearch",
          "Express",
          "Firebase",
          "Flask",
          "Flutter",
          "Gatsby",
          "Go",
          "HTML/CSS",
          "Hadoop",
          "Haskell",
          "IBM DB2",
          "Java",
          "JavaScript",
          "Julia",
          "Keras",
          "Kotlin",
          "Laravel",
          "MariaDB",
          "Microsoft SQL Server",
          "MongoDB",
          "MySQL",
          "Node.js",
          "Objective-C",
          "Oracle",
          "PHP",
          "Pandas",
          "Perl",
          "PostgreSQL",
          "Puppet",
          "Python",
          "R",
          "React Native",
          "React.js",
          "Redis",
          "Ruby",
          "Ruby on Rails",
          "Rust",
          "SQL",
          "SQLite",
          "Scala",
          "Spring",
          "Swift",
          "Symfony",
          "TensorFlow",
          "Teraform",
          "Torch/PyTorch",
          "TypeScript",
          "Unity 3D",
          "Unreal Engine",
          "VBA",
          "Vue.js",
          "Xamarin",
          "jQuery",
          "DatabaseWorkedWith",
          "LanguageWorkedWith",
          "MiscTechWorkedWith",
          "WebframeWorkedWith"
         ],
         "marker": {
          "coloraxis": "coloraxis",
          "colors": [
           14144,
           10755,
           9258,
           8082,
           10617,
           6826,
           2955,
           2089,
           3553,
           18980,
           12487,
           18041,
           13707,
           1654,
           733,
           2419,
           937,
           2280,
           6014,
           1369,
           3497,
           6817,
           8961,
           7128,
           6005,
           2897,
           1703,
           5038,
           36181,
           1798,
           1222,
           1421,
           23074,
           38822,
           519,
           2504,
           4468,
           4680,
           8312,
           16336,
           13086,
           27559,
           20741,
           2340,
           8155,
           15007,
           6253,
           1796,
           17892,
           945,
           25287,
           3288,
           4626,
           15167,
           9056,
           4046,
           2944,
           2929,
           31413,
           15434,
           2052,
           6941,
           3397,
           1851,
           4652,
           2518,
           1872,
           14578,
           4413,
           1316,
           3499,
           7322,
           2357,
           18316,
           15214.337475598031,
           22845.057860307497,
           10034.034504984053,
           10072.249707037981
          ]
         },
         "name": "",
         "parents": [
          "MiscTechWorkedWith",
          "MiscTechWorkedWith",
          "WebframeWorkedWith",
          "WebframeWorkedWith",
          "WebframeWorkedWith",
          "WebframeWorkedWith",
          "MiscTechWorkedWith",
          "MiscTechWorkedWith",
          "LanguageWorkedWith",
          "LanguageWorkedWith",
          "LanguageWorkedWith",
          "LanguageWorkedWith",
          "LanguageWorkedWith",
          "DatabaseWorkedWith",
          "MiscTechWorkedWith",
          "MiscTechWorkedWith",
          "DatabaseWorkedWith",
          "LanguageWorkedWith",
          "WebframeWorkedWith",
          "WebframeWorkedWith",
          "DatabaseWorkedWith",
          "DatabaseWorkedWith",
          "WebframeWorkedWith",
          "DatabaseWorkedWith",
          "WebframeWorkedWith",
          "MiscTechWorkedWith",
          "WebframeWorkedWith",
          "LanguageWorkedWith",
          "LanguageWorkedWith",
          "MiscTechWorkedWith",
          "LanguageWorkedWith",
          "DatabaseWorkedWith",
          "LanguageWorkedWith",
          "LanguageWorkedWith",
          "LanguageWorkedWith",
          "MiscTechWorkedWith",
          "LanguageWorkedWith",
          "WebframeWorkedWith",
          "DatabaseWorkedWith",
          "DatabaseWorkedWith",
          "DatabaseWorkedWith",
          "DatabaseWorkedWith",
          "MiscTechWorkedWith",
          "LanguageWorkedWith",
          "DatabaseWorkedWith",
          "LanguageWorkedWith",
          "MiscTechWorkedWith",
          "LanguageWorkedWith",
          "DatabaseWorkedWith",
          "MiscTechWorkedWith",
          "LanguageWorkedWith",
          "LanguageWorkedWith",
          "MiscTechWorkedWith",
          "WebframeWorkedWith",
          "DatabaseWorkedWith",
          "LanguageWorkedWith",
          "WebframeWorkedWith",
          "LanguageWorkedWith",
          "LanguageWorkedWith",
          "DatabaseWorkedWith",
          "LanguageWorkedWith",
          "WebframeWorkedWith",
          "LanguageWorkedWith",
          "WebframeWorkedWith",
          "MiscTechWorkedWith",
          "MiscTechWorkedWith",
          "MiscTechWorkedWith",
          "LanguageWorkedWith",
          "MiscTechWorkedWith",
          "MiscTechWorkedWith",
          "LanguageWorkedWith",
          "WebframeWorkedWith",
          "MiscTechWorkedWith",
          "WebframeWorkedWith",
          "",
          "",
          "",
          ""
         ],
         "type": "treemap",
         "values": [
          14144,
          10755,
          9258,
          8082,
          10617,
          6826,
          2955,
          2089,
          3553,
          18980,
          12487,
          18041,
          13707,
          1654,
          733,
          2419,
          937,
          2280,
          6014,
          1369,
          3497,
          6817,
          8961,
          7128,
          6005,
          2897,
          1703,
          5038,
          36181,
          1798,
          1222,
          1421,
          23074,
          38822,
          519,
          2504,
          4468,
          4680,
          8312,
          16336,
          13086,
          27559,
          20741,
          2340,
          8155,
          15007,
          6253,
          1796,
          17892,
          945,
          25287,
          3288,
          4626,
          15167,
          9056,
          4046,
          2944,
          2929,
          31413,
          15434,
          2052,
          6941,
          3397,
          1851,
          4652,
          2518,
          1872,
          14578,
          4413,
          1316,
          3499,
          7322,
          2357,
          18316,
          137284,
          288004,
          89987,
          116056
         ]
        }
       ],
       "layout": {
        "coloraxis": {
         "colorbar": {
          "title": {
           "text": "freq"
          }
         },
         "colorscale": [
          [
           0,
           "rgb(253, 253, 204)"
          ],
          [
           0.09090909090909091,
           "rgb(206, 236, 179)"
          ],
          [
           0.18181818181818182,
           "rgb(156, 219, 165)"
          ],
          [
           0.2727272727272727,
           "rgb(111, 201, 163)"
          ],
          [
           0.36363636363636365,
           "rgb(86, 177, 163)"
          ],
          [
           0.45454545454545453,
           "rgb(76, 153, 160)"
          ],
          [
           0.5454545454545454,
           "rgb(68, 130, 155)"
          ],
          [
           0.6363636363636364,
           "rgb(62, 108, 150)"
          ],
          [
           0.7272727272727273,
           "rgb(62, 82, 143)"
          ],
          [
           0.8181818181818182,
           "rgb(64, 60, 115)"
          ],
          [
           0.9090909090909091,
           "rgb(54, 43, 77)"
          ],
          [
           1,
           "rgb(39, 26, 44)"
          ]
         ]
        },
        "height": 700,
        "legend": {
         "tracegroupgap": 0
        },
        "margin": {
         "t": 60
        },
        "template": {
         "data": {
          "bar": [
           {
            "error_x": {
             "color": "#2a3f5f"
            },
            "error_y": {
             "color": "#2a3f5f"
            },
            "marker": {
             "line": {
              "color": "#E5ECF6",
              "width": 0.5
             },
             "pattern": {
              "fillmode": "overlay",
              "size": 10,
              "solidity": 0.2
             }
            },
            "type": "bar"
           }
          ],
          "barpolar": [
           {
            "marker": {
             "line": {
              "color": "#E5ECF6",
              "width": 0.5
             },
             "pattern": {
              "fillmode": "overlay",
              "size": 10,
              "solidity": 0.2
             }
            },
            "type": "barpolar"
           }
          ],
          "carpet": [
           {
            "aaxis": {
             "endlinecolor": "#2a3f5f",
             "gridcolor": "white",
             "linecolor": "white",
             "minorgridcolor": "white",
             "startlinecolor": "#2a3f5f"
            },
            "baxis": {
             "endlinecolor": "#2a3f5f",
             "gridcolor": "white",
             "linecolor": "white",
             "minorgridcolor": "white",
             "startlinecolor": "#2a3f5f"
            },
            "type": "carpet"
           }
          ],
          "choropleth": [
           {
            "colorbar": {
             "outlinewidth": 0,
             "ticks": ""
            },
            "type": "choropleth"
           }
          ],
          "contour": [
           {
            "colorbar": {
             "outlinewidth": 0,
             "ticks": ""
            },
            "colorscale": [
             [
              0,
              "#0d0887"
             ],
             [
              0.1111111111111111,
              "#46039f"
             ],
             [
              0.2222222222222222,
              "#7201a8"
             ],
             [
              0.3333333333333333,
              "#9c179e"
             ],
             [
              0.4444444444444444,
              "#bd3786"
             ],
             [
              0.5555555555555556,
              "#d8576b"
             ],
             [
              0.6666666666666666,
              "#ed7953"
             ],
             [
              0.7777777777777778,
              "#fb9f3a"
             ],
             [
              0.8888888888888888,
              "#fdca26"
             ],
             [
              1,
              "#f0f921"
             ]
            ],
            "type": "contour"
           }
          ],
          "contourcarpet": [
           {
            "colorbar": {
             "outlinewidth": 0,
             "ticks": ""
            },
            "type": "contourcarpet"
           }
          ],
          "heatmap": [
           {
            "colorbar": {
             "outlinewidth": 0,
             "ticks": ""
            },
            "colorscale": [
             [
              0,
              "#0d0887"
             ],
             [
              0.1111111111111111,
              "#46039f"
             ],
             [
              0.2222222222222222,
              "#7201a8"
             ],
             [
              0.3333333333333333,
              "#9c179e"
             ],
             [
              0.4444444444444444,
              "#bd3786"
             ],
             [
              0.5555555555555556,
              "#d8576b"
             ],
             [
              0.6666666666666666,
              "#ed7953"
             ],
             [
              0.7777777777777778,
              "#fb9f3a"
             ],
             [
              0.8888888888888888,
              "#fdca26"
             ],
             [
              1,
              "#f0f921"
             ]
            ],
            "type": "heatmap"
           }
          ],
          "heatmapgl": [
           {
            "colorbar": {
             "outlinewidth": 0,
             "ticks": ""
            },
            "colorscale": [
             [
              0,
              "#0d0887"
             ],
             [
              0.1111111111111111,
              "#46039f"
             ],
             [
              0.2222222222222222,
              "#7201a8"
             ],
             [
              0.3333333333333333,
              "#9c179e"
             ],
             [
              0.4444444444444444,
              "#bd3786"
             ],
             [
              0.5555555555555556,
              "#d8576b"
             ],
             [
              0.6666666666666666,
              "#ed7953"
             ],
             [
              0.7777777777777778,
              "#fb9f3a"
             ],
             [
              0.8888888888888888,
              "#fdca26"
             ],
             [
              1,
              "#f0f921"
             ]
            ],
            "type": "heatmapgl"
           }
          ],
          "histogram": [
           {
            "marker": {
             "pattern": {
              "fillmode": "overlay",
              "size": 10,
              "solidity": 0.2
             }
            },
            "type": "histogram"
           }
          ],
          "histogram2d": [
           {
            "colorbar": {
             "outlinewidth": 0,
             "ticks": ""
            },
            "colorscale": [
             [
              0,
              "#0d0887"
             ],
             [
              0.1111111111111111,
              "#46039f"
             ],
             [
              0.2222222222222222,
              "#7201a8"
             ],
             [
              0.3333333333333333,
              "#9c179e"
             ],
             [
              0.4444444444444444,
              "#bd3786"
             ],
             [
              0.5555555555555556,
              "#d8576b"
             ],
             [
              0.6666666666666666,
              "#ed7953"
             ],
             [
              0.7777777777777778,
              "#fb9f3a"
             ],
             [
              0.8888888888888888,
              "#fdca26"
             ],
             [
              1,
              "#f0f921"
             ]
            ],
            "type": "histogram2d"
           }
          ],
          "histogram2dcontour": [
           {
            "colorbar": {
             "outlinewidth": 0,
             "ticks": ""
            },
            "colorscale": [
             [
              0,
              "#0d0887"
             ],
             [
              0.1111111111111111,
              "#46039f"
             ],
             [
              0.2222222222222222,
              "#7201a8"
             ],
             [
              0.3333333333333333,
              "#9c179e"
             ],
             [
              0.4444444444444444,
              "#bd3786"
             ],
             [
              0.5555555555555556,
              "#d8576b"
             ],
             [
              0.6666666666666666,
              "#ed7953"
             ],
             [
              0.7777777777777778,
              "#fb9f3a"
             ],
             [
              0.8888888888888888,
              "#fdca26"
             ],
             [
              1,
              "#f0f921"
             ]
            ],
            "type": "histogram2dcontour"
           }
          ],
          "mesh3d": [
           {
            "colorbar": {
             "outlinewidth": 0,
             "ticks": ""
            },
            "type": "mesh3d"
           }
          ],
          "parcoords": [
           {
            "line": {
             "colorbar": {
              "outlinewidth": 0,
              "ticks": ""
             }
            },
            "type": "parcoords"
           }
          ],
          "pie": [
           {
            "automargin": true,
            "type": "pie"
           }
          ],
          "scatter": [
           {
            "marker": {
             "colorbar": {
              "outlinewidth": 0,
              "ticks": ""
             }
            },
            "type": "scatter"
           }
          ],
          "scatter3d": [
           {
            "line": {
             "colorbar": {
              "outlinewidth": 0,
              "ticks": ""
             }
            },
            "marker": {
             "colorbar": {
              "outlinewidth": 0,
              "ticks": ""
             }
            },
            "type": "scatter3d"
           }
          ],
          "scattercarpet": [
           {
            "marker": {
             "colorbar": {
              "outlinewidth": 0,
              "ticks": ""
             }
            },
            "type": "scattercarpet"
           }
          ],
          "scattergeo": [
           {
            "marker": {
             "colorbar": {
              "outlinewidth": 0,
              "ticks": ""
             }
            },
            "type": "scattergeo"
           }
          ],
          "scattergl": [
           {
            "marker": {
             "colorbar": {
              "outlinewidth": 0,
              "ticks": ""
             }
            },
            "type": "scattergl"
           }
          ],
          "scattermapbox": [
           {
            "marker": {
             "colorbar": {
              "outlinewidth": 0,
              "ticks": ""
             }
            },
            "type": "scattermapbox"
           }
          ],
          "scatterpolar": [
           {
            "marker": {
             "colorbar": {
              "outlinewidth": 0,
              "ticks": ""
             }
            },
            "type": "scatterpolar"
           }
          ],
          "scatterpolargl": [
           {
            "marker": {
             "colorbar": {
              "outlinewidth": 0,
              "ticks": ""
             }
            },
            "type": "scatterpolargl"
           }
          ],
          "scatterternary": [
           {
            "marker": {
             "colorbar": {
              "outlinewidth": 0,
              "ticks": ""
             }
            },
            "type": "scatterternary"
           }
          ],
          "surface": [
           {
            "colorbar": {
             "outlinewidth": 0,
             "ticks": ""
            },
            "colorscale": [
             [
              0,
              "#0d0887"
             ],
             [
              0.1111111111111111,
              "#46039f"
             ],
             [
              0.2222222222222222,
              "#7201a8"
             ],
             [
              0.3333333333333333,
              "#9c179e"
             ],
             [
              0.4444444444444444,
              "#bd3786"
             ],
             [
              0.5555555555555556,
              "#d8576b"
             ],
             [
              0.6666666666666666,
              "#ed7953"
             ],
             [
              0.7777777777777778,
              "#fb9f3a"
             ],
             [
              0.8888888888888888,
              "#fdca26"
             ],
             [
              1,
              "#f0f921"
             ]
            ],
            "type": "surface"
           }
          ],
          "table": [
           {
            "cells": {
             "fill": {
              "color": "#EBF0F8"
             },
             "line": {
              "color": "white"
             }
            },
            "header": {
             "fill": {
              "color": "#C8D4E3"
             },
             "line": {
              "color": "white"
             }
            },
            "type": "table"
           }
          ]
         },
         "layout": {
          "annotationdefaults": {
           "arrowcolor": "#2a3f5f",
           "arrowhead": 0,
           "arrowwidth": 1
          },
          "autotypenumbers": "strict",
          "coloraxis": {
           "colorbar": {
            "outlinewidth": 0,
            "ticks": ""
           }
          },
          "colorscale": {
           "diverging": [
            [
             0,
             "#8e0152"
            ],
            [
             0.1,
             "#c51b7d"
            ],
            [
             0.2,
             "#de77ae"
            ],
            [
             0.3,
             "#f1b6da"
            ],
            [
             0.4,
             "#fde0ef"
            ],
            [
             0.5,
             "#f7f7f7"
            ],
            [
             0.6,
             "#e6f5d0"
            ],
            [
             0.7,
             "#b8e186"
            ],
            [
             0.8,
             "#7fbc41"
            ],
            [
             0.9,
             "#4d9221"
            ],
            [
             1,
             "#276419"
            ]
           ],
           "sequential": [
            [
             0,
             "#0d0887"
            ],
            [
             0.1111111111111111,
             "#46039f"
            ],
            [
             0.2222222222222222,
             "#7201a8"
            ],
            [
             0.3333333333333333,
             "#9c179e"
            ],
            [
             0.4444444444444444,
             "#bd3786"
            ],
            [
             0.5555555555555556,
             "#d8576b"
            ],
            [
             0.6666666666666666,
             "#ed7953"
            ],
            [
             0.7777777777777778,
             "#fb9f3a"
            ],
            [
             0.8888888888888888,
             "#fdca26"
            ],
            [
             1,
             "#f0f921"
            ]
           ],
           "sequentialminus": [
            [
             0,
             "#0d0887"
            ],
            [
             0.1111111111111111,
             "#46039f"
            ],
            [
             0.2222222222222222,
             "#7201a8"
            ],
            [
             0.3333333333333333,
             "#9c179e"
            ],
            [
             0.4444444444444444,
             "#bd3786"
            ],
            [
             0.5555555555555556,
             "#d8576b"
            ],
            [
             0.6666666666666666,
             "#ed7953"
            ],
            [
             0.7777777777777778,
             "#fb9f3a"
            ],
            [
             0.8888888888888888,
             "#fdca26"
            ],
            [
             1,
             "#f0f921"
            ]
           ]
          },
          "colorway": [
           "#636efa",
           "#EF553B",
           "#00cc96",
           "#ab63fa",
           "#FFA15A",
           "#19d3f3",
           "#FF6692",
           "#B6E880",
           "#FF97FF",
           "#FECB52"
          ],
          "font": {
           "color": "#2a3f5f"
          },
          "geo": {
           "bgcolor": "white",
           "lakecolor": "white",
           "landcolor": "#E5ECF6",
           "showlakes": true,
           "showland": true,
           "subunitcolor": "white"
          },
          "hoverlabel": {
           "align": "left"
          },
          "hovermode": "closest",
          "mapbox": {
           "style": "light"
          },
          "paper_bgcolor": "white",
          "plot_bgcolor": "#E5ECF6",
          "polar": {
           "angularaxis": {
            "gridcolor": "white",
            "linecolor": "white",
            "ticks": ""
           },
           "bgcolor": "#E5ECF6",
           "radialaxis": {
            "gridcolor": "white",
            "linecolor": "white",
            "ticks": ""
           }
          },
          "scene": {
           "xaxis": {
            "backgroundcolor": "#E5ECF6",
            "gridcolor": "white",
            "gridwidth": 2,
            "linecolor": "white",
            "showbackground": true,
            "ticks": "",
            "zerolinecolor": "white"
           },
           "yaxis": {
            "backgroundcolor": "#E5ECF6",
            "gridcolor": "white",
            "gridwidth": 2,
            "linecolor": "white",
            "showbackground": true,
            "ticks": "",
            "zerolinecolor": "white"
           },
           "zaxis": {
            "backgroundcolor": "#E5ECF6",
            "gridcolor": "white",
            "gridwidth": 2,
            "linecolor": "white",
            "showbackground": true,
            "ticks": "",
            "zerolinecolor": "white"
           }
          },
          "shapedefaults": {
           "line": {
            "color": "#2a3f5f"
           }
          },
          "ternary": {
           "aaxis": {
            "gridcolor": "white",
            "linecolor": "white",
            "ticks": ""
           },
           "baxis": {
            "gridcolor": "white",
            "linecolor": "white",
            "ticks": ""
           },
           "bgcolor": "#E5ECF6",
           "caxis": {
            "gridcolor": "white",
            "linecolor": "white",
            "ticks": ""
           }
          },
          "title": {
           "x": 0.05
          },
          "xaxis": {
           "automargin": true,
           "gridcolor": "white",
           "linecolor": "white",
           "ticks": "",
           "title": {
            "standoff": 15
           },
           "zerolinecolor": "white",
           "zerolinewidth": 2
          },
          "yaxis": {
           "automargin": true,
           "gridcolor": "white",
           "linecolor": "white",
           "ticks": "",
           "title": {
            "standoff": 15
           },
           "zerolinecolor": "white",
           "zerolinewidth": 2
          }
         }
        },
        "width": 1000
       }
      },
      "image/png": "[encoded data removed]",
      "text/html": [
       "<div>                            <div id=\"c64f2cb1-5887-497c-9543-7599d736a691\" class=\"plotly-graph-div\" style=\"height:700px; width:1000px;\"></div>            <script type=\"text/javascript\">                require([\"plotly\"], function(Plotly) {                    window.PLOTLYENV=window.PLOTLYENV || {};                                    if (document.getElementById(\"c64f2cb1-5887-497c-9543-7599d736a691\")) {                    Plotly.newPlot(                        \"c64f2cb1-5887-497c-9543-7599d736a691\",                        [{\"branchvalues\":\"total\",\"customdata\":[[14144.0],[10755.0],[9258.0],[8082.0],[10617.0],[6826.0],[2955.0],[2089.0],[3553.0],[18980.0],[12487.0],[18041.0],[13707.0],[1654.0],[733.0],[2419.0],[937.0],[2280.0],[6014.0],[1369.0],[3497.0],[6817.0],[8961.0],[7128.0],[6005.0],[2897.0],[1703.0],[5038.0],[36181.0],[1798.0],[1222.0],[1421.0],[23074.0],[38822.0],[519.0],[2504.0],[4468.0],[4680.0],[8312.0],[16336.0],[13086.0],[27559.0],[20741.0],[2340.0],[8155.0],[15007.0],[6253.0],[1796.0],[17892.0],[945.0],[25287.0],[3288.0],[4626.0],[15167.0],[9056.0],[4046.0],[2944.0],[2929.0],[31413.0],[15434.0],[2052.0],[6941.0],[3397.0],[1851.0],[4652.0],[2518.0],[1872.0],[14578.0],[4413.0],[1316.0],[3499.0],[7322.0],[2357.0],[18316.0],[15214.337475598031],[22845.057860307497],[10034.034504984053],[10072.249707037981]],\"domain\":{\"x\":[0.0,1.0],\"y\":[0.0,1.0]},\"hovertemplate\":\"labels=%{label}<br>freq_sum=%{value}<br>parent=%{parent}<br>id=%{id}<br>freq=%{color}<extra></extra>\",\"ids\":[\"MiscTechWorkedWith/.NET\",\"MiscTechWorkedWith/.NET Core\",\"WebframeWorkedWith/ASP.NET\",\"WebframeWorkedWith/ASP.NET Core\",\"WebframeWorkedWith/Angular\",\"WebframeWorkedWith/Angular.js\",\"MiscTechWorkedWith/Ansible\",\"MiscTechWorkedWith/Apache Spark\",\"LanguageWorkedWith/Assembly\",\"LanguageWorkedWith/Bash/Shell/PowerShell\",\"LanguageWorkedWith/C\",\"LanguageWorkedWith/C#\",\"LanguageWorkedWith/C++\",\"DatabaseWorkedWith/Cassandra\",\"MiscTechWorkedWith/Chef\",\"MiscTechWorkedWith/Cordova\",\"DatabaseWorkedWith/Couchbase\",\"LanguageWorkedWith/Dart\",\"WebframeWorkedWith/Django\",\"WebframeWorkedWith/Drupal\",\"DatabaseWorkedWith/DynamoDB\",\"DatabaseWorkedWith/Elasticsearch\",\"WebframeWorkedWith/Express\",\"DatabaseWorkedWith/Firebase\",\"WebframeWorkedWith/Flask\",\"MiscTechWorkedWith/Flutter\",\"WebframeWorkedWith/Gatsby\",\"LanguageWorkedWith/Go\",\"LanguageWorkedWith/HTML/CSS\",\"MiscTechWorkedWith/Hadoop\",\"LanguageWorkedWith/Haskell\",\"DatabaseWorkedWith/IBM DB2\",\"LanguageWorkedWith/Java\",\"LanguageWorkedWith/JavaScript\",\"LanguageWorkedWith/Julia\",\"MiscTechWorkedWith/Keras\",\"LanguageWorkedWith/Kotlin\",\"WebframeWorkedWith/Laravel\",\"DatabaseWorkedWith/MariaDB\",\"DatabaseWorkedWith/Microsoft SQL Server\",\"DatabaseWorkedWith/MongoDB\",\"DatabaseWorkedWith/MySQL\",\"MiscTechWorkedWith/Node.js\",\"LanguageWorkedWith/Objective-C\",\"DatabaseWorkedWith/Oracle\",\"LanguageWorkedWith/PHP\",\"MiscTechWorkedWith/Pandas\",\"LanguageWorkedWith/Perl\",\"DatabaseWorkedWith/PostgreSQL\",\"MiscTechWorkedWith/Puppet\",\"LanguageWorkedWith/Python\",\"LanguageWorkedWith/R\",\"MiscTechWorkedWith/React Native\",\"WebframeWorkedWith/React.js\",\"DatabaseWorkedWith/Redis\",\"LanguageWorkedWith/Ruby\",\"WebframeWorkedWith/Ruby on Rails\",\"LanguageWorkedWith/Rust\",\"LanguageWorkedWith/SQL\",\"DatabaseWorkedWith/SQLite\",\"LanguageWorkedWith/Scala\",\"WebframeWorkedWith/Spring\",\"LanguageWorkedWith/Swift\",\"WebframeWorkedWith/Symfony\",\"MiscTechWorkedWith/TensorFlow\",\"MiscTechWorkedWith/Teraform\",\"MiscTechWorkedWith/Torch/PyTorch\",\"LanguageWorkedWith/TypeScript\",\"MiscTechWorkedWith/Unity 3D\",\"MiscTechWorkedWith/Unreal Engine\",\"LanguageWorkedWith/VBA\",\"WebframeWorkedWith/Vue.js\",\"MiscTechWorkedWith/Xamarin\",\"WebframeWorkedWith/jQuery\",\"DatabaseWorkedWith\",\"LanguageWorkedWith\",\"MiscTechWorkedWith\",\"WebframeWorkedWith\"],\"labels\":[\".NET\",\".NET Core\",\"ASP.NET\",\"ASP.NET Core\",\"Angular\",\"Angular.js\",\"Ansible\",\"Apache Spark\",\"Assembly\",\"Bash/Shell/PowerShell\",\"C\",\"C#\",\"C++\",\"Cassandra\",\"Chef\",\"Cordova\",\"Couchbase\",\"Dart\",\"Django\",\"Drupal\",\"DynamoDB\",\"Elasticsearch\",\"Express\",\"Firebase\",\"Flask\",\"Flutter\",\"Gatsby\",\"Go\",\"HTML/CSS\",\"Hadoop\",\"Haskell\",\"IBM DB2\",\"Java\",\"JavaScript\",\"Julia\",\"Keras\",\"Kotlin\",\"Laravel\",\"MariaDB\",\"Microsoft SQL Server\",\"MongoDB\",\"MySQL\",\"Node.js\",\"Objective-C\",\"Oracle\",\"PHP\",\"Pandas\",\"Perl\",\"PostgreSQL\",\"Puppet\",\"Python\",\"R\",\"React Native\",\"React.js\",\"Redis\",\"Ruby\",\"Ruby on Rails\",\"Rust\",\"SQL\",\"SQLite\",\"Scala\",\"Spring\",\"Swift\",\"Symfony\",\"TensorFlow\",\"Teraform\",\"Torch/PyTorch\",\"TypeScript\",\"Unity 3D\",\"Unreal Engine\",\"VBA\",\"Vue.js\",\"Xamarin\",\"jQuery\",\"DatabaseWorkedWith\",\"LanguageWorkedWith\",\"MiscTechWorkedWith\",\"WebframeWorkedWith\"],\"marker\":{\"coloraxis\":\"coloraxis\",\"colors\":[14144.0,10755.0,9258.0,8082.0,10617.0,6826.0,2955.0,2089.0,3553.0,18980.0,12487.0,18041.0,13707.0,1654.0,733.0,2419.0,937.0,2280.0,6014.0,1369.0,3497.0,6817.0,8961.0,7128.0,6005.0,2897.0,1703.0,5038.0,36181.0,1798.0,1222.0,1421.0,23074.0,38822.0,519.0,2504.0,4468.0,4680.0,8312.0,16336.0,13086.0,27559.0,20741.0,2340.0,8155.0,15007.0,6253.0,1796.0,17892.0,945.0,25287.0,3288.0,4626.0,15167.0,9056.0,4046.0,2944.0,2929.0,31413.0,15434.0,2052.0,6941.0,3397.0,1851.0,4652.0,2518.0,1872.0,14578.0,4413.0,1316.0,3499.0,7322.0,2357.0,18316.0,15214.337475598031,22845.057860307497,10034.034504984053,10072.249707037981]},\"name\":\"\",\"parents\":[\"MiscTechWorkedWith\",\"MiscTechWorkedWith\",\"WebframeWorkedWith\",\"WebframeWorkedWith\",\"WebframeWorkedWith\",\"WebframeWorkedWith\",\"MiscTechWorkedWith\",\"MiscTechWorkedWith\",\"LanguageWorkedWith\",\"LanguageWorkedWith\",\"LanguageWorkedWith\",\"LanguageWorkedWith\",\"LanguageWorkedWith\",\"DatabaseWorkedWith\",\"MiscTechWorkedWith\",\"MiscTechWorkedWith\",\"DatabaseWorkedWith\",\"LanguageWorkedWith\",\"WebframeWorkedWith\",\"WebframeWorkedWith\",\"DatabaseWorkedWith\",\"DatabaseWorkedWith\",\"WebframeWorkedWith\",\"DatabaseWorkedWith\",\"WebframeWorkedWith\",\"MiscTechWorkedWith\",\"WebframeWorkedWith\",\"LanguageWorkedWith\",\"LanguageWorkedWith\",\"MiscTechWorkedWith\",\"LanguageWorkedWith\",\"DatabaseWorkedWith\",\"LanguageWorkedWith\",\"LanguageWorkedWith\",\"LanguageWorkedWith\",\"MiscTechWorkedWith\",\"LanguageWorkedWith\",\"WebframeWorkedWith\",\"DatabaseWorkedWith\",\"DatabaseWorkedWith\",\"DatabaseWorkedWith\",\"DatabaseWorkedWith\",\"MiscTechWorkedWith\",\"LanguageWorkedWith\",\"DatabaseWorkedWith\",\"LanguageWorkedWith\",\"MiscTechWorkedWith\",\"LanguageWorkedWith\",\"DatabaseWorkedWith\",\"MiscTechWorkedWith\",\"LanguageWorkedWith\",\"LanguageWorkedWith\",\"MiscTechWorkedWith\",\"WebframeWorkedWith\",\"DatabaseWorkedWith\",\"LanguageWorkedWith\",\"WebframeWorkedWith\",\"LanguageWorkedWith\",\"LanguageWorkedWith\",\"DatabaseWorkedWith\",\"LanguageWorkedWith\",\"WebframeWorkedWith\",\"LanguageWorkedWith\",\"WebframeWorkedWith\",\"MiscTechWorkedWith\",\"MiscTechWorkedWith\",\"MiscTechWorkedWith\",\"LanguageWorkedWith\",\"MiscTechWorkedWith\",\"MiscTechWorkedWith\",\"LanguageWorkedWith\",\"WebframeWorkedWith\",\"MiscTechWorkedWith\",\"WebframeWorkedWith\",\"\",\"\",\"\",\"\"],\"type\":\"treemap\",\"values\":[14144,10755,9258,8082,10617,6826,2955,2089,3553,18980,12487,18041,13707,1654,733,2419,937,2280,6014,1369,3497,6817,8961,7128,6005,2897,1703,5038,36181,1798,1222,1421,23074,38822,519,2504,4468,4680,8312,16336,13086,27559,20741,2340,8155,15007,6253,1796,17892,945,25287,3288,4626,15167,9056,4046,2944,2929,31413,15434,2052,6941,3397,1851,4652,2518,1872,14578,4413,1316,3499,7322,2357,18316,137284,288004,89987,116056]}],                        {\"coloraxis\":{\"colorbar\":{\"title\":{\"text\":\"freq\"}},\"colorscale\":[[0.0,\"rgb(253, 253, 204)\"],[0.09090909090909091,\"rgb(206, 236, 179)\"],[0.18181818181818182,\"rgb(156, 219, 165)\"],[0.2727272727272727,\"rgb(111, 201, 163)\"],[0.36363636363636365,\"rgb(86, 177, 163)\"],[0.45454545454545453,\"rgb(76, 153, 160)\"],[0.5454545454545454,\"rgb(68, 130, 155)\"],[0.6363636363636364,\"rgb(62, 108, 150)\"],[0.7272727272727273,\"rgb(62, 82, 143)\"],[0.8181818181818182,\"rgb(64, 60, 115)\"],[0.9090909090909091,\"rgb(54, 43, 77)\"],[1.0,\"rgb(39, 26, 44)\"]]},\"height\":700,\"legend\":{\"tracegroupgap\":0},\"margin\":{\"t\":60},\"template\":{\"data\":{\"bar\":[{\"error_x\":{\"color\":\"#2a3f5f\"},\"error_y\":{\"color\":\"#2a3f5f\"},\"marker\":{\"line\":{\"color\":\"#E5ECF6\",\"width\":0.5},\"pattern\":{\"fillmode\":\"overlay\",\"size\":10,\"solidity\":0.2}},\"type\":\"bar\"}],\"barpolar\":[{\"marker\":{\"line\":{\"color\":\"#E5ECF6\",\"width\":0.5},\"pattern\":{\"fillmode\":\"overlay\",\"size\":10,\"solidity\":0.2}},\"type\":\"barpolar\"}],\"carpet\":[{\"aaxis\":{\"endlinecolor\":\"#2a3f5f\",\"gridcolor\":\"white\",\"linecolor\":\"white\",\"minorgridcolor\":\"white\",\"startlinecolor\":\"#2a3f5f\"},\"baxis\":{\"endlinecolor\":\"#2a3f5f\",\"gridcolor\":\"white\",\"linecolor\":\"white\",\"minorgridcolor\":\"white\",\"startlinecolor\":\"#2a3f5f\"},\"type\":\"carpet\"}],\"choropleth\":[{\"colorbar\":{\"outlinewidth\":0,\"ticks\":\"\"},\"type\":\"choropleth\"}],\"contour\":[{\"colorbar\":{\"outlinewidth\":0,\"ticks\":\"\"},\"colorscale\":[[0.0,\"#0d0887\"],[0.1111111111111111,\"#46039f\"],[0.2222222222222222,\"#7201a8\"],[0.3333333333333333,\"#9c179e\"],[0.4444444444444444,\"#bd3786\"],[0.5555555555555556,\"#d8576b\"],[0.6666666666666666,\"#ed7953\"],[0.7777777777777778,\"#fb9f3a\"],[0.8888888888888888,\"#fdca26\"],[1.0,\"#f0f921\"]],\"type\":\"contour\"}],\"contourcarpet\":[{\"colorbar\":{\"outlinewidth\":0,\"ticks\":\"\"},\"type\":\"contourcarpet\"}],\"heatmap\":[{\"colorbar\":{\"outlinewidth\":0,\"ticks\":\"\"},\"colorscale\":[[0.0,\"#0d0887\"],[0.1111111111111111,\"#46039f\"],[0.2222222222222222,\"#7201a8\"],[0.3333333333333333,\"#9c179e\"],[0.4444444444444444,\"#bd3786\"],[0.5555555555555556,\"#d8576b\"],[0.6666666666666666,\"#ed7953\"],[0.7777777777777778,\"#fb9f3a\"],[0.8888888888888888,\"#fdca26\"],[1.0,\"#f0f921\"]],\"type\":\"heatmap\"}],\"heatmapgl\":[{\"colorbar\":{\"outlinewidth\":0,\"ticks\":\"\"},\"colorscale\":[[0.0,\"#0d0887\"],[0.1111111111111111,\"#46039f\"],[0.2222222222222222,\"#7201a8\"],[0.3333333333333333,\"#9c179e\"],[0.4444444444444444,\"#bd3786\"],[0.5555555555555556,\"#d8576b\"],[0.6666666666666666,\"#ed7953\"],[0.7777777777777778,\"#fb9f3a\"],[0.8888888888888888,\"#fdca26\"],[1.0,\"#f0f921\"]],\"type\":\"heatmapgl\"}],\"histogram\":[{\"marker\":{\"pattern\":{\"fillmode\":\"overlay\",\"size\":10,\"solidity\":0.2}},\"type\":\"histogram\"}],\"histogram2d\":[{\"colorbar\":{\"outlinewidth\":0,\"ticks\":\"\"},\"colorscale\":[[0.0,\"#0d0887\"],[0.1111111111111111,\"#46039f\"],[0.2222222222222222,\"#7201a8\"],[0.3333333333333333,\"#9c179e\"],[0.4444444444444444,\"#bd3786\"],[0.5555555555555556,\"#d8576b\"],[0.6666666666666666,\"#ed7953\"],[0.7777777777777778,\"#fb9f3a\"],[0.8888888888888888,\"#fdca26\"],[1.0,\"#f0f921\"]],\"type\":\"histogram2d\"}],\"histogram2dcontour\":[{\"colorbar\":{\"outlinewidth\":0,\"ticks\":\"\"},\"colorscale\":[[0.0,\"#0d0887\"],[0.1111111111111111,\"#46039f\"],[0.2222222222222222,\"#7201a8\"],[0.3333333333333333,\"#9c179e\"],[0.4444444444444444,\"#bd3786\"],[0.5555555555555556,\"#d8576b\"],[0.6666666666666666,\"#ed7953\"],[0.7777777777777778,\"#fb9f3a\"],[0.8888888888888888,\"#fdca26\"],[1.0,\"#f0f921\"]],\"type\":\"histogram2dcontour\"}],\"mesh3d\":[{\"colorbar\":{\"outlinewidth\":0,\"ticks\":\"\"},\"type\":\"mesh3d\"}],\"parcoords\":[{\"line\":{\"colorbar\":{\"outlinewidth\":0,\"ticks\":\"\"}},\"type\":\"parcoords\"}],\"pie\":[{\"automargin\":true,\"type\":\"pie\"}],\"scatter\":[{\"marker\":{\"colorbar\":{\"outlinewidth\":0,\"ticks\":\"\"}},\"type\":\"scatter\"}],\"scatter3d\":[{\"line\":{\"colorbar\":{\"outlinewidth\":0,\"ticks\":\"\"}},\"marker\":{\"colorbar\":{\"outlinewidth\":0,\"ticks\":\"\"}},\"type\":\"scatter3d\"}],\"scattercarpet\":[{\"marker\":{\"colorbar\":{\"outlinewidth\":0,\"ticks\":\"\"}},\"type\":\"scattercarpet\"}],\"scattergeo\":[{\"marker\":{\"colorbar\":{\"outlinewidth\":0,\"ticks\":\"\"}},\"type\":\"scattergeo\"}],\"scattergl\":[{\"marker\":{\"colorbar\":{\"outlinewidth\":0,\"ticks\":\"\"}},\"type\":\"scattergl\"}],\"scattermapbox\":[{\"marker\":{\"colorbar\":{\"outlinewidth\":0,\"ticks\":\"\"}},\"type\":\"scattermapbox\"}],\"scatterpolar\":[{\"marker\":{\"colorbar\":{\"outlinewidth\":0,\"ticks\":\"\"}},\"type\":\"scatterpolar\"}],\"scatterpolargl\":[{\"marker\":{\"colorbar\":{\"outlinewidth\":0,\"ticks\":\"\"}},\"type\":\"scatterpolargl\"}],\"scatterternary\":[{\"marker\":{\"colorbar\":{\"outlinewidth\":0,\"ticks\":\"\"}},\"type\":\"scatterternary\"}],\"surface\":[{\"colorbar\":{\"outlinewidth\":0,\"ticks\":\"\"},\"colorscale\":[[0.0,\"#0d0887\"],[0.1111111111111111,\"#46039f\"],[0.2222222222222222,\"#7201a8\"],[0.3333333333333333,\"#9c179e\"],[0.4444444444444444,\"#bd3786\"],[0.5555555555555556,\"#d8576b\"],[0.6666666666666666,\"#ed7953\"],[0.7777777777777778,\"#fb9f3a\"],[0.8888888888888888,\"#fdca26\"],[1.0,\"#f0f921\"]],\"type\":\"surface\"}],\"table\":[{\"cells\":{\"fill\":{\"color\":\"#EBF0F8\"},\"line\":{\"color\":\"white\"}},\"header\":{\"fill\":{\"color\":\"#C8D4E3\"},\"line\":{\"color\":\"white\"}},\"type\":\"table\"}]},\"layout\":{\"annotationdefaults\":{\"arrowcolor\":\"#2a3f5f\",\"arrowhead\":0,\"arrowwidth\":1},\"autotypenumbers\":\"strict\",\"coloraxis\":{\"colorbar\":{\"outlinewidth\":0,\"ticks\":\"\"}},\"colorscale\":{\"diverging\":[[0,\"#8e0152\"],[0.1,\"#c51b7d\"],[0.2,\"#de77ae\"],[0.3,\"#f1b6da\"],[0.4,\"#fde0ef\"],[0.5,\"#f7f7f7\"],[0.6,\"#e6f5d0\"],[0.7,\"#b8e186\"],[0.8,\"#7fbc41\"],[0.9,\"#4d9221\"],[1,\"#276419\"]],\"sequential\":[[0.0,\"#0d0887\"],[0.1111111111111111,\"#46039f\"],[0.2222222222222222,\"#7201a8\"],[0.3333333333333333,\"#9c179e\"],[0.4444444444444444,\"#bd3786\"],[0.5555555555555556,\"#d8576b\"],[0.6666666666666666,\"#ed7953\"],[0.7777777777777778,\"#fb9f3a\"],[0.8888888888888888,\"#fdca26\"],[1.0,\"#f0f921\"]],\"sequentialminus\":[[0.0,\"#0d0887\"],[0.1111111111111111,\"#46039f\"],[0.2222222222222222,\"#7201a8\"],[0.3333333333333333,\"#9c179e\"],[0.4444444444444444,\"#bd3786\"],[0.5555555555555556,\"#d8576b\"],[0.6666666666666666,\"#ed7953\"],[0.7777777777777778,\"#fb9f3a\"],[0.8888888888888888,\"#fdca26\"],[1.0,\"#f0f921\"]]},\"colorway\":[\"#636efa\",\"#EF553B\",\"#00cc96\",\"#ab63fa\",\"#FFA15A\",\"#19d3f3\",\"#FF6692\",\"#B6E880\",\"#FF97FF\",\"#FECB52\"],\"font\":{\"color\":\"#2a3f5f\"},\"geo\":{\"bgcolor\":\"white\",\"lakecolor\":\"white\",\"landcolor\":\"#E5ECF6\",\"showlakes\":true,\"showland\":true,\"subunitcolor\":\"white\"},\"hoverlabel\":{\"align\":\"left\"},\"hovermode\":\"closest\",\"mapbox\":{\"style\":\"light\"},\"paper_bgcolor\":\"white\",\"plot_bgcolor\":\"#E5ECF6\",\"polar\":{\"angularaxis\":{\"gridcolor\":\"white\",\"linecolor\":\"white\",\"ticks\":\"\"},\"bgcolor\":\"#E5ECF6\",\"radialaxis\":{\"gridcolor\":\"white\",\"linecolor\":\"white\",\"ticks\":\"\"}},\"scene\":{\"xaxis\":{\"backgroundcolor\":\"#E5ECF6\",\"gridcolor\":\"white\",\"gridwidth\":2,\"linecolor\":\"white\",\"showbackground\":true,\"ticks\":\"\",\"zerolinecolor\":\"white\"},\"yaxis\":{\"backgroundcolor\":\"#E5ECF6\",\"gridcolor\":\"white\",\"gridwidth\":2,\"linecolor\":\"white\",\"showbackground\":true,\"ticks\":\"\",\"zerolinecolor\":\"white\"},\"zaxis\":{\"backgroundcolor\":\"#E5ECF6\",\"gridcolor\":\"white\",\"gridwidth\":2,\"linecolor\":\"white\",\"showbackground\":true,\"ticks\":\"\",\"zerolinecolor\":\"white\"}},\"shapedefaults\":{\"line\":{\"color\":\"#2a3f5f\"}},\"ternary\":{\"aaxis\":{\"gridcolor\":\"white\",\"linecolor\":\"white\",\"ticks\":\"\"},\"baxis\":{\"gridcolor\":\"white\",\"linecolor\":\"white\",\"ticks\":\"\"},\"bgcolor\":\"#E5ECF6\",\"caxis\":{\"gridcolor\":\"white\",\"linecolor\":\"white\",\"ticks\":\"\"}},\"title\":{\"x\":0.05},\"xaxis\":{\"automargin\":true,\"gridcolor\":\"white\",\"linecolor\":\"white\",\"ticks\":\"\",\"title\":{\"standoff\":15},\"zerolinecolor\":\"white\",\"zerolinewidth\":2},\"yaxis\":{\"automargin\":true,\"gridcolor\":\"white\",\"linecolor\":\"white\",\"ticks\":\"\",\"title\":{\"standoff\":15},\"zerolinecolor\":\"white\",\"zerolinewidth\":2}}},\"width\":1000},                        {\"responsive\": true}                    ).then(function(){\n",
       "                            \n",
       "var gd = document.getElementById('c64f2cb1-5887-497c-9543-7599d736a691');\n",
       "var x = new MutationObserver(function (mutations, observer) {{\n",
       "        var display = window.getComputedStyle(gd).display;\n",
       "        if (!display || display === 'none') {{\n",
       "            console.log([gd, 'removed!']);\n",
       "            Plotly.purge(gd);\n",
       "            observer.disconnect();\n",
       "        }}\n",
       "}});\n",
       "\n",
       "// Listen for the removal of the full notebook cells\n",
       "var notebookContainer = gd.closest('#notebook-container');\n",
       "if (notebookContainer) {{\n",
       "    x.observe(notebookContainer, {childList: true});\n",
       "}}\n",
       "\n",
       "// Listen for the clearing of the current output cell\n",
       "var outputEl = gd.closest('.output');\n",
       "if (outputEl) {{\n",
       "    x.observe(outputEl, {childList: true});\n",
       "}}\n",
       "\n",
       "                        })                };                });            </script>        </div>"
      ]
     },
     "metadata": {},
     "output_type": "display_data"
    }
   ],
   "source": [
    "fig = px.treemap(skills_freq,\n",
    "                 path=['group','skill'],\n",
    "                 color_continuous_scale='deep',\n",
    "                 values='freq',color='freq')\n",
    "\n",
    "fig.update_layout(width=1000,height=700)\n",
    "\n",
    "fig.show()"
   ]
  },
  {
   "cell_type": "markdown",
   "id": "9b82d80c-89bb-41ec-93c2-a1c3313b2a16",
   "metadata": {},
   "source": [
    "---------------------------------------------------------------------------------------------------------------"
   ]
  },
  {
   "cell_type": "markdown",
   "id": "5c15b4f3-8753-4b51-b8e8-b2d63d75443d",
   "metadata": {},
   "source": [
    "Create jobs and skills heatmap"
   ]
  },
  {
   "cell_type": "code",
   "execution_count": 18,
   "id": "527be5ee-51a5-4748-be35-bee8a1f569ec",
   "metadata": {},
   "outputs": [],
   "source": [
    "sorted_roles = df['DevType'].sum().sort_values().index.tolist()\n",
    "sorted_skills = df.drop('DevType',axis=1).sum().sort_values(ascending=False).droplevel(level=0).index.tolist()"
   ]
  },
  {
   "cell_type": "code",
   "execution_count": 28,
   "id": "83c20d16-c98b-4cec-af8c-9231016d500b",
   "metadata": {},
   "outputs": [
    {
     "data": {
      "text/html": [
       "<div>\n",
       "<style scoped>\n",
       "    .dataframe tbody tr th:only-of-type {\n",
       "        vertical-align: middle;\n",
       "    }\n",
       "\n",
       "    .dataframe tbody tr th {\n",
       "        vertical-align: top;\n",
       "    }\n",
       "\n",
       "    .dataframe thead th {\n",
       "        text-align: right;\n",
       "    }\n",
       "</style>\n",
       "<table border=\"1\" class=\"dataframe\">\n",
       "  <thead>\n",
       "    <tr style=\"text-align: right;\">\n",
       "      <th></th>\n",
       "      <th>JavaScript</th>\n",
       "      <th>HTML/CSS</th>\n",
       "      <th>SQL</th>\n",
       "      <th>MySQL</th>\n",
       "      <th>Python</th>\n",
       "      <th>Java</th>\n",
       "      <th>Node.js</th>\n",
       "      <th>Bash/Shell/PowerShell</th>\n",
       "      <th>jQuery</th>\n",
       "      <th>C#</th>\n",
       "      <th>...</th>\n",
       "      <th>Gatsby</th>\n",
       "      <th>Cassandra</th>\n",
       "      <th>IBM DB2</th>\n",
       "      <th>Drupal</th>\n",
       "      <th>Unreal Engine</th>\n",
       "      <th>Haskell</th>\n",
       "      <th>Puppet</th>\n",
       "      <th>Couchbase</th>\n",
       "      <th>Chef</th>\n",
       "      <th>Julia</th>\n",
       "    </tr>\n",
       "  </thead>\n",
       "  <tbody>\n",
       "    <tr>\n",
       "      <th>Marketing or sales professional</th>\n",
       "      <td>71.028037</td>\n",
       "      <td>76.635514</td>\n",
       "      <td>57.788162</td>\n",
       "      <td>61.370717</td>\n",
       "      <td>38.629283</td>\n",
       "      <td>32.242991</td>\n",
       "      <td>41.744548</td>\n",
       "      <td>31.152648</td>\n",
       "      <td>45.482866</td>\n",
       "      <td>25.700935</td>\n",
       "      <td>...</td>\n",
       "      <td>9.034268</td>\n",
       "      <td>5.919003</td>\n",
       "      <td>5.763240</td>\n",
       "      <td>9.968847</td>\n",
       "      <td>6.853583</td>\n",
       "      <td>4.205607</td>\n",
       "      <td>4.517134</td>\n",
       "      <td>6.230530</td>\n",
       "      <td>4.672897</td>\n",
       "      <td>4.049844</td>\n",
       "    </tr>\n",
       "    <tr>\n",
       "      <th>Senior executive/VP</th>\n",
       "      <td>72.878788</td>\n",
       "      <td>69.166667</td>\n",
       "      <td>65.075758</td>\n",
       "      <td>49.545455</td>\n",
       "      <td>45.984848</td>\n",
       "      <td>33.333333</td>\n",
       "      <td>43.787879</td>\n",
       "      <td>44.393939</td>\n",
       "      <td>36.439394</td>\n",
       "      <td>34.848485</td>\n",
       "      <td>...</td>\n",
       "      <td>5.227273</td>\n",
       "      <td>6.590909</td>\n",
       "      <td>5.227273</td>\n",
       "      <td>6.060606</td>\n",
       "      <td>4.318182</td>\n",
       "      <td>3.409091</td>\n",
       "      <td>4.848485</td>\n",
       "      <td>5.227273</td>\n",
       "      <td>3.939394</td>\n",
       "      <td>2.727273</td>\n",
       "    </tr>\n",
       "    <tr>\n",
       "      <th>Engineer, site reliability</th>\n",
       "      <td>65.876289</td>\n",
       "      <td>58.505155</td>\n",
       "      <td>61.701031</td>\n",
       "      <td>53.762887</td>\n",
       "      <td>59.896907</td>\n",
       "      <td>39.948454</td>\n",
       "      <td>42.628866</td>\n",
       "      <td>61.494845</td>\n",
       "      <td>30.979381</td>\n",
       "      <td>26.134021</td>\n",
       "      <td>...</td>\n",
       "      <td>4.896907</td>\n",
       "      <td>8.865979</td>\n",
       "      <td>3.711340</td>\n",
       "      <td>5.206186</td>\n",
       "      <td>3.144330</td>\n",
       "      <td>3.969072</td>\n",
       "      <td>9.278351</td>\n",
       "      <td>3.659794</td>\n",
       "      <td>8.041237</td>\n",
       "      <td>2.010309</td>\n",
       "    </tr>\n",
       "    <tr>\n",
       "      <th>Scientist</th>\n",
       "      <td>48.465964</td>\n",
       "      <td>47.027804</td>\n",
       "      <td>43.672100</td>\n",
       "      <td>39.213806</td>\n",
       "      <td>67.689358</td>\n",
       "      <td>32.981783</td>\n",
       "      <td>25.982742</td>\n",
       "      <td>42.425695</td>\n",
       "      <td>25.071908</td>\n",
       "      <td>22.339406</td>\n",
       "      <td>...</td>\n",
       "      <td>2.924257</td>\n",
       "      <td>4.122723</td>\n",
       "      <td>3.499521</td>\n",
       "      <td>3.691275</td>\n",
       "      <td>4.026846</td>\n",
       "      <td>4.554171</td>\n",
       "      <td>2.301055</td>\n",
       "      <td>3.259827</td>\n",
       "      <td>2.157239</td>\n",
       "      <td>5.465005</td>\n",
       "    </tr>\n",
       "    <tr>\n",
       "      <th>Product manager</th>\n",
       "      <td>73.007609</td>\n",
       "      <td>69.603524</td>\n",
       "      <td>63.115739</td>\n",
       "      <td>52.422907</td>\n",
       "      <td>42.010412</td>\n",
       "      <td>36.283540</td>\n",
       "      <td>42.571085</td>\n",
       "      <td>37.484982</td>\n",
       "      <td>41.529836</td>\n",
       "      <td>34.521426</td>\n",
       "      <td>...</td>\n",
       "      <td>4.805767</td>\n",
       "      <td>4.325190</td>\n",
       "      <td>3.924710</td>\n",
       "      <td>5.246296</td>\n",
       "      <td>3.203845</td>\n",
       "      <td>2.282739</td>\n",
       "      <td>3.003604</td>\n",
       "      <td>3.123748</td>\n",
       "      <td>2.643172</td>\n",
       "      <td>1.561874</td>\n",
       "    </tr>\n",
       "    <tr>\n",
       "      <th>Engineering manager</th>\n",
       "      <td>69.346549</td>\n",
       "      <td>60.682819</td>\n",
       "      <td>60.425844</td>\n",
       "      <td>47.099853</td>\n",
       "      <td>46.512482</td>\n",
       "      <td>37.995595</td>\n",
       "      <td>43.465492</td>\n",
       "      <td>45.888399</td>\n",
       "      <td>30.837004</td>\n",
       "      <td>33.333333</td>\n",
       "      <td>...</td>\n",
       "      <td>4.809104</td>\n",
       "      <td>6.461087</td>\n",
       "      <td>3.817915</td>\n",
       "      <td>4.662261</td>\n",
       "      <td>2.679883</td>\n",
       "      <td>2.679883</td>\n",
       "      <td>4.515419</td>\n",
       "      <td>4.001468</td>\n",
       "      <td>4.331865</td>\n",
       "      <td>1.578561</td>\n",
       "    </tr>\n",
       "    <tr>\n",
       "      <th>Developer, game or graphics</th>\n",
       "      <td>67.228397</td>\n",
       "      <td>62.459663</td>\n",
       "      <td>49.264970</td>\n",
       "      <td>48.045895</td>\n",
       "      <td>43.850843</td>\n",
       "      <td>41.376838</td>\n",
       "      <td>41.233417</td>\n",
       "      <td>35.353173</td>\n",
       "      <td>34.313374</td>\n",
       "      <td>53.531732</td>\n",
       "      <td>...</td>\n",
       "      <td>3.728935</td>\n",
       "      <td>2.653281</td>\n",
       "      <td>2.617426</td>\n",
       "      <td>3.657225</td>\n",
       "      <td>16.098960</td>\n",
       "      <td>3.155253</td>\n",
       "      <td>2.402295</td>\n",
       "      <td>3.011832</td>\n",
       "      <td>2.007888</td>\n",
       "      <td>1.398351</td>\n",
       "    </tr>\n",
       "    <tr>\n",
       "      <th>Educator</th>\n",
       "      <td>68.408470</td>\n",
       "      <td>66.803279</td>\n",
       "      <td>56.625683</td>\n",
       "      <td>53.859290</td>\n",
       "      <td>45.252732</td>\n",
       "      <td>39.993169</td>\n",
       "      <td>39.583333</td>\n",
       "      <td>38.183060</td>\n",
       "      <td>37.363388</td>\n",
       "      <td>29.576503</td>\n",
       "      <td>...</td>\n",
       "      <td>4.474044</td>\n",
       "      <td>3.517760</td>\n",
       "      <td>3.790984</td>\n",
       "      <td>4.678962</td>\n",
       "      <td>3.381148</td>\n",
       "      <td>4.200820</td>\n",
       "      <td>2.834699</td>\n",
       "      <td>2.766393</td>\n",
       "      <td>2.288251</td>\n",
       "      <td>2.185792</td>\n",
       "    </tr>\n",
       "    <tr>\n",
       "      <th>Academic researcher</th>\n",
       "      <td>54.194820</td>\n",
       "      <td>53.462838</td>\n",
       "      <td>46.706081</td>\n",
       "      <td>47.015766</td>\n",
       "      <td>59.037162</td>\n",
       "      <td>39.864865</td>\n",
       "      <td>28.293919</td>\n",
       "      <td>36.768018</td>\n",
       "      <td>29.898649</td>\n",
       "      <td>24.239865</td>\n",
       "      <td>...</td>\n",
       "      <td>2.533784</td>\n",
       "      <td>3.800676</td>\n",
       "      <td>3.040541</td>\n",
       "      <td>3.293919</td>\n",
       "      <td>2.956081</td>\n",
       "      <td>4.504505</td>\n",
       "      <td>2.111486</td>\n",
       "      <td>2.505631</td>\n",
       "      <td>1.520270</td>\n",
       "      <td>4.335586</td>\n",
       "    </tr>\n",
       "    <tr>\n",
       "      <th>Engineer, data</th>\n",
       "      <td>56.902087</td>\n",
       "      <td>52.594971</td>\n",
       "      <td>67.174960</td>\n",
       "      <td>49.678973</td>\n",
       "      <td>65.088283</td>\n",
       "      <td>40.449438</td>\n",
       "      <td>31.942215</td>\n",
       "      <td>43.900482</td>\n",
       "      <td>29.507758</td>\n",
       "      <td>26.645265</td>\n",
       "      <td>...</td>\n",
       "      <td>2.782236</td>\n",
       "      <td>7.490637</td>\n",
       "      <td>4.333868</td>\n",
       "      <td>3.210273</td>\n",
       "      <td>2.701980</td>\n",
       "      <td>2.835741</td>\n",
       "      <td>2.808989</td>\n",
       "      <td>3.504548</td>\n",
       "      <td>2.354200</td>\n",
       "      <td>2.247191</td>\n",
       "    </tr>\n",
       "    <tr>\n",
       "      <th>Developer, QA or test</th>\n",
       "      <td>71.548011</td>\n",
       "      <td>67.240942</td>\n",
       "      <td>63.389916</td>\n",
       "      <td>52.520902</td>\n",
       "      <td>44.210793</td>\n",
       "      <td>43.374715</td>\n",
       "      <td>40.689131</td>\n",
       "      <td>42.386623</td>\n",
       "      <td>38.484925</td>\n",
       "      <td>38.358247</td>\n",
       "      <td>...</td>\n",
       "      <td>3.014948</td>\n",
       "      <td>3.470991</td>\n",
       "      <td>3.724348</td>\n",
       "      <td>4.459083</td>\n",
       "      <td>3.166962</td>\n",
       "      <td>2.280213</td>\n",
       "      <td>3.217634</td>\n",
       "      <td>2.584241</td>\n",
       "      <td>2.482898</td>\n",
       "      <td>1.368128</td>\n",
       "    </tr>\n",
       "    <tr>\n",
       "      <th>Data scientist or machine learning specialist</th>\n",
       "      <td>48.269809</td>\n",
       "      <td>48.244734</td>\n",
       "      <td>58.450351</td>\n",
       "      <td>46.263791</td>\n",
       "      <td>78.335005</td>\n",
       "      <td>35.055165</td>\n",
       "      <td>25.651956</td>\n",
       "      <td>39.568706</td>\n",
       "      <td>24.172518</td>\n",
       "      <td>21.339017</td>\n",
       "      <td>...</td>\n",
       "      <td>2.683049</td>\n",
       "      <td>5.441324</td>\n",
       "      <td>3.786359</td>\n",
       "      <td>2.833501</td>\n",
       "      <td>2.758275</td>\n",
       "      <td>3.660983</td>\n",
       "      <td>2.432297</td>\n",
       "      <td>2.357071</td>\n",
       "      <td>2.081244</td>\n",
       "      <td>4.237713</td>\n",
       "    </tr>\n",
       "    <tr>\n",
       "      <th>Data or business analyst</th>\n",
       "      <td>57.554672</td>\n",
       "      <td>58.971173</td>\n",
       "      <td>73.459245</td>\n",
       "      <td>49.652087</td>\n",
       "      <td>53.230616</td>\n",
       "      <td>31.088469</td>\n",
       "      <td>27.907555</td>\n",
       "      <td>34.691849</td>\n",
       "      <td>33.648111</td>\n",
       "      <td>31.635189</td>\n",
       "      <td>...</td>\n",
       "      <td>2.261431</td>\n",
       "      <td>3.528827</td>\n",
       "      <td>5.516899</td>\n",
       "      <td>3.827038</td>\n",
       "      <td>2.012922</td>\n",
       "      <td>2.360835</td>\n",
       "      <td>2.311133</td>\n",
       "      <td>2.385686</td>\n",
       "      <td>1.988072</td>\n",
       "      <td>1.863817</td>\n",
       "    </tr>\n",
       "    <tr>\n",
       "      <th>Developer, embedded applications or devices</th>\n",
       "      <td>58.378947</td>\n",
       "      <td>54.105263</td>\n",
       "      <td>49.557895</td>\n",
       "      <td>45.031579</td>\n",
       "      <td>50.273684</td>\n",
       "      <td>39.831579</td>\n",
       "      <td>34.000000</td>\n",
       "      <td>43.978947</td>\n",
       "      <td>30.484211</td>\n",
       "      <td>38.336842</td>\n",
       "      <td>...</td>\n",
       "      <td>2.484211</td>\n",
       "      <td>3.663158</td>\n",
       "      <td>3.494737</td>\n",
       "      <td>2.926316</td>\n",
       "      <td>3.789474</td>\n",
       "      <td>2.863158</td>\n",
       "      <td>2.168421</td>\n",
       "      <td>2.800000</td>\n",
       "      <td>1.831579</td>\n",
       "      <td>1.263158</td>\n",
       "    </tr>\n",
       "    <tr>\n",
       "      <th>System administrator</th>\n",
       "      <td>71.041587</td>\n",
       "      <td>69.496375</td>\n",
       "      <td>68.141931</td>\n",
       "      <td>57.535292</td>\n",
       "      <td>50.915681</td>\n",
       "      <td>35.806944</td>\n",
       "      <td>38.744754</td>\n",
       "      <td>54.940862</td>\n",
       "      <td>41.262877</td>\n",
       "      <td>31.896223</td>\n",
       "      <td>...</td>\n",
       "      <td>2.861503</td>\n",
       "      <td>4.311332</td>\n",
       "      <td>3.719954</td>\n",
       "      <td>5.112552</td>\n",
       "      <td>3.414727</td>\n",
       "      <td>2.708890</td>\n",
       "      <td>5.036246</td>\n",
       "      <td>2.689813</td>\n",
       "      <td>3.586417</td>\n",
       "      <td>1.259061</td>\n",
       "    </tr>\n",
       "    <tr>\n",
       "      <th>Designer</th>\n",
       "      <td>75.981958</td>\n",
       "      <td>74.873144</td>\n",
       "      <td>58.804736</td>\n",
       "      <td>55.196392</td>\n",
       "      <td>35.951889</td>\n",
       "      <td>35.895508</td>\n",
       "      <td>41.890622</td>\n",
       "      <td>30.182297</td>\n",
       "      <td>45.743281</td>\n",
       "      <td>35.087390</td>\n",
       "      <td>...</td>\n",
       "      <td>4.698365</td>\n",
       "      <td>2.555911</td>\n",
       "      <td>3.457997</td>\n",
       "      <td>4.773539</td>\n",
       "      <td>4.021800</td>\n",
       "      <td>1.935726</td>\n",
       "      <td>2.161248</td>\n",
       "      <td>2.236422</td>\n",
       "      <td>1.541064</td>\n",
       "      <td>0.920880</td>\n",
       "    </tr>\n",
       "    <tr>\n",
       "      <th>Database administrator</th>\n",
       "      <td>74.274729</td>\n",
       "      <td>73.068857</td>\n",
       "      <td>80.076896</td>\n",
       "      <td>59.402307</td>\n",
       "      <td>42.240475</td>\n",
       "      <td>35.040196</td>\n",
       "      <td>38.675288</td>\n",
       "      <td>43.411395</td>\n",
       "      <td>47.658161</td>\n",
       "      <td>40.387976</td>\n",
       "      <td>...</td>\n",
       "      <td>2.778749</td>\n",
       "      <td>3.670045</td>\n",
       "      <td>4.037050</td>\n",
       "      <td>4.596295</td>\n",
       "      <td>2.673890</td>\n",
       "      <td>2.009787</td>\n",
       "      <td>2.901084</td>\n",
       "      <td>2.638937</td>\n",
       "      <td>2.271933</td>\n",
       "      <td>0.926250</td>\n",
       "    </tr>\n",
       "    <tr>\n",
       "      <th>DevOps specialist</th>\n",
       "      <td>70.296532</td>\n",
       "      <td>62.707321</td>\n",
       "      <td>63.059139</td>\n",
       "      <td>48.433573</td>\n",
       "      <td>51.767465</td>\n",
       "      <td>38.431898</td>\n",
       "      <td>43.457866</td>\n",
       "      <td>58.686547</td>\n",
       "      <td>33.690735</td>\n",
       "      <td>35.131513</td>\n",
       "      <td>...</td>\n",
       "      <td>3.886748</td>\n",
       "      <td>5.846876</td>\n",
       "      <td>3.668956</td>\n",
       "      <td>3.886748</td>\n",
       "      <td>2.060647</td>\n",
       "      <td>2.479477</td>\n",
       "      <td>5.712850</td>\n",
       "      <td>3.534930</td>\n",
       "      <td>5.277266</td>\n",
       "      <td>0.988440</td>\n",
       "    </tr>\n",
       "    <tr>\n",
       "      <th>Developer, mobile</th>\n",
       "      <td>66.642059</td>\n",
       "      <td>60.693946</td>\n",
       "      <td>50.284750</td>\n",
       "      <td>50.348028</td>\n",
       "      <td>31.195950</td>\n",
       "      <td>49.441046</td>\n",
       "      <td>40.824721</td>\n",
       "      <td>26.323560</td>\n",
       "      <td>33.769247</td>\n",
       "      <td>34.096182</td>\n",
       "      <td>...</td>\n",
       "      <td>3.374815</td>\n",
       "      <td>2.278000</td>\n",
       "      <td>2.204176</td>\n",
       "      <td>2.773676</td>\n",
       "      <td>3.290445</td>\n",
       "      <td>1.497574</td>\n",
       "      <td>1.497574</td>\n",
       "      <td>2.309639</td>\n",
       "      <td>1.065176</td>\n",
       "      <td>0.548408</td>\n",
       "    </tr>\n",
       "    <tr>\n",
       "      <th>Developer, desktop or enterprise applications</th>\n",
       "      <td>65.699253</td>\n",
       "      <td>61.311948</td>\n",
       "      <td>62.024779</td>\n",
       "      <td>43.737271</td>\n",
       "      <td>36.108282</td>\n",
       "      <td>40.733198</td>\n",
       "      <td>33.715207</td>\n",
       "      <td>36.210115</td>\n",
       "      <td>35.429396</td>\n",
       "      <td>51.332315</td>\n",
       "      <td>...</td>\n",
       "      <td>1.858452</td>\n",
       "      <td>2.715547</td>\n",
       "      <td>3.920570</td>\n",
       "      <td>2.316701</td>\n",
       "      <td>2.774949</td>\n",
       "      <td>1.849966</td>\n",
       "      <td>1.756619</td>\n",
       "      <td>2.197895</td>\n",
       "      <td>1.298371</td>\n",
       "      <td>0.721317</td>\n",
       "    </tr>\n",
       "    <tr>\n",
       "      <th>Developer, front-end</th>\n",
       "      <td>84.012899</td>\n",
       "      <td>78.312199</td>\n",
       "      <td>56.394840</td>\n",
       "      <td>50.841714</td>\n",
       "      <td>31.296458</td>\n",
       "      <td>33.728684</td>\n",
       "      <td>49.360516</td>\n",
       "      <td>29.334281</td>\n",
       "      <td>43.566900</td>\n",
       "      <td>33.542851</td>\n",
       "      <td>...</td>\n",
       "      <td>5.329034</td>\n",
       "      <td>2.109751</td>\n",
       "      <td>2.361172</td>\n",
       "      <td>3.470704</td>\n",
       "      <td>2.104285</td>\n",
       "      <td>1.617840</td>\n",
       "      <td>1.579580</td>\n",
       "      <td>1.841933</td>\n",
       "      <td>1.043944</td>\n",
       "      <td>0.448185</td>\n",
       "    </tr>\n",
       "    <tr>\n",
       "      <th>Developer, full-stack</th>\n",
       "      <td>81.990783</td>\n",
       "      <td>73.784332</td>\n",
       "      <td>62.046083</td>\n",
       "      <td>50.226728</td>\n",
       "      <td>36.202765</td>\n",
       "      <td>36.781567</td>\n",
       "      <td>47.340092</td>\n",
       "      <td>33.500461</td>\n",
       "      <td>42.086636</td>\n",
       "      <td>36.376037</td>\n",
       "      <td>...</td>\n",
       "      <td>4.173272</td>\n",
       "      <td>2.798157</td>\n",
       "      <td>2.647005</td>\n",
       "      <td>3.041475</td>\n",
       "      <td>1.824885</td>\n",
       "      <td>1.692166</td>\n",
       "      <td>1.725346</td>\n",
       "      <td>1.994470</td>\n",
       "      <td>1.441475</td>\n",
       "      <td>0.512442</td>\n",
       "    </tr>\n",
       "    <tr>\n",
       "      <th>Developer, back-end</th>\n",
       "      <td>69.391803</td>\n",
       "      <td>61.389011</td>\n",
       "      <td>61.374321</td>\n",
       "      <td>49.397679</td>\n",
       "      <td>39.867049</td>\n",
       "      <td>39.848685</td>\n",
       "      <td>37.556927</td>\n",
       "      <td>35.713236</td>\n",
       "      <td>35.547965</td>\n",
       "      <td>34.023799</td>\n",
       "      <td>...</td>\n",
       "      <td>2.651682</td>\n",
       "      <td>3.782871</td>\n",
       "      <td>2.743499</td>\n",
       "      <td>2.703100</td>\n",
       "      <td>1.777582</td>\n",
       "      <td>2.001616</td>\n",
       "      <td>1.986925</td>\n",
       "      <td>2.060379</td>\n",
       "      <td>1.604965</td>\n",
       "      <td>0.561922</td>\n",
       "    </tr>\n",
       "  </tbody>\n",
       "</table>\n",
       "<p>23 rows × 74 columns</p>\n",
       "</div>"
      ],
      "text/plain": [
       "                                               JavaScript   HTML/CSS  \\\n",
       "Marketing or sales professional                 71.028037  76.635514   \n",
       "Senior executive/VP                             72.878788  69.166667   \n",
       "Engineer, site reliability                      65.876289  58.505155   \n",
       "Scientist                                       48.465964  47.027804   \n",
       "Product manager                                 73.007609  69.603524   \n",
       "Engineering manager                             69.346549  60.682819   \n",
       "Developer, game or graphics                     67.228397  62.459663   \n",
       "Educator                                        68.408470  66.803279   \n",
       "Academic researcher                             54.194820  53.462838   \n",
       "Engineer, data                                  56.902087  52.594971   \n",
       "Developer, QA or test                           71.548011  67.240942   \n",
       "Data scientist or machine learning specialist   48.269809  48.244734   \n",
       "Data or business analyst                        57.554672  58.971173   \n",
       "Developer, embedded applications or devices     58.378947  54.105263   \n",
       "System administrator                            71.041587  69.496375   \n",
       "Designer                                        75.981958  74.873144   \n",
       "Database administrator                          74.274729  73.068857   \n",
       "DevOps specialist                               70.296532  62.707321   \n",
       "Developer, mobile                               66.642059  60.693946   \n",
       "Developer, desktop or enterprise applications   65.699253  61.311948   \n",
       "Developer, front-end                            84.012899  78.312199   \n",
       "Developer, full-stack                           81.990783  73.784332   \n",
       "Developer, back-end                             69.391803  61.389011   \n",
       "\n",
       "                                                     SQL      MySQL  \\\n",
       "Marketing or sales professional                57.788162  61.370717   \n",
       "Senior executive/VP                            65.075758  49.545455   \n",
       "Engineer, site reliability                     61.701031  53.762887   \n",
       "Scientist                                      43.672100  39.213806   \n",
       "Product manager                                63.115739  52.422907   \n",
       "Engineering manager                            60.425844  47.099853   \n",
       "Developer, game or graphics                    49.264970  48.045895   \n",
       "Educator                                       56.625683  53.859290   \n",
       "Academic researcher                            46.706081  47.015766   \n",
       "Engineer, data                                 67.174960  49.678973   \n",
       "Developer, QA or test                          63.389916  52.520902   \n",
       "Data scientist or machine learning specialist  58.450351  46.263791   \n",
       "Data or business analyst                       73.459245  49.652087   \n",
       "Developer, embedded applications or devices    49.557895  45.031579   \n",
       "System administrator                           68.141931  57.535292   \n",
       "Designer                                       58.804736  55.196392   \n",
       "Database administrator                         80.076896  59.402307   \n",
       "DevOps specialist                              63.059139  48.433573   \n",
       "Developer, mobile                              50.284750  50.348028   \n",
       "Developer, desktop or enterprise applications  62.024779  43.737271   \n",
       "Developer, front-end                           56.394840  50.841714   \n",
       "Developer, full-stack                          62.046083  50.226728   \n",
       "Developer, back-end                            61.374321  49.397679   \n",
       "\n",
       "                                                  Python       Java  \\\n",
       "Marketing or sales professional                38.629283  32.242991   \n",
       "Senior executive/VP                            45.984848  33.333333   \n",
       "Engineer, site reliability                     59.896907  39.948454   \n",
       "Scientist                                      67.689358  32.981783   \n",
       "Product manager                                42.010412  36.283540   \n",
       "Engineering manager                            46.512482  37.995595   \n",
       "Developer, game or graphics                    43.850843  41.376838   \n",
       "Educator                                       45.252732  39.993169   \n",
       "Academic researcher                            59.037162  39.864865   \n",
       "Engineer, data                                 65.088283  40.449438   \n",
       "Developer, QA or test                          44.210793  43.374715   \n",
       "Data scientist or machine learning specialist  78.335005  35.055165   \n",
       "Data or business analyst                       53.230616  31.088469   \n",
       "Developer, embedded applications or devices    50.273684  39.831579   \n",
       "System administrator                           50.915681  35.806944   \n",
       "Designer                                       35.951889  35.895508   \n",
       "Database administrator                         42.240475  35.040196   \n",
       "DevOps specialist                              51.767465  38.431898   \n",
       "Developer, mobile                              31.195950  49.441046   \n",
       "Developer, desktop or enterprise applications  36.108282  40.733198   \n",
       "Developer, front-end                           31.296458  33.728684   \n",
       "Developer, full-stack                          36.202765  36.781567   \n",
       "Developer, back-end                            39.867049  39.848685   \n",
       "\n",
       "                                                 Node.js  \\\n",
       "Marketing or sales professional                41.744548   \n",
       "Senior executive/VP                            43.787879   \n",
       "Engineer, site reliability                     42.628866   \n",
       "Scientist                                      25.982742   \n",
       "Product manager                                42.571085   \n",
       "Engineering manager                            43.465492   \n",
       "Developer, game or graphics                    41.233417   \n",
       "Educator                                       39.583333   \n",
       "Academic researcher                            28.293919   \n",
       "Engineer, data                                 31.942215   \n",
       "Developer, QA or test                          40.689131   \n",
       "Data scientist or machine learning specialist  25.651956   \n",
       "Data or business analyst                       27.907555   \n",
       "Developer, embedded applications or devices    34.000000   \n",
       "System administrator                           38.744754   \n",
       "Designer                                       41.890622   \n",
       "Database administrator                         38.675288   \n",
       "DevOps specialist                              43.457866   \n",
       "Developer, mobile                              40.824721   \n",
       "Developer, desktop or enterprise applications  33.715207   \n",
       "Developer, front-end                           49.360516   \n",
       "Developer, full-stack                          47.340092   \n",
       "Developer, back-end                            37.556927   \n",
       "\n",
       "                                               Bash/Shell/PowerShell  \\\n",
       "Marketing or sales professional                            31.152648   \n",
       "Senior executive/VP                                        44.393939   \n",
       "Engineer, site reliability                                 61.494845   \n",
       "Scientist                                                  42.425695   \n",
       "Product manager                                            37.484982   \n",
       "Engineering manager                                        45.888399   \n",
       "Developer, game or graphics                                35.353173   \n",
       "Educator                                                   38.183060   \n",
       "Academic researcher                                        36.768018   \n",
       "Engineer, data                                             43.900482   \n",
       "Developer, QA or test                                      42.386623   \n",
       "Data scientist or machine learning specialist              39.568706   \n",
       "Data or business analyst                                   34.691849   \n",
       "Developer, embedded applications or devices                43.978947   \n",
       "System administrator                                       54.940862   \n",
       "Designer                                                   30.182297   \n",
       "Database administrator                                     43.411395   \n",
       "DevOps specialist                                          58.686547   \n",
       "Developer, mobile                                          26.323560   \n",
       "Developer, desktop or enterprise applications              36.210115   \n",
       "Developer, front-end                                       29.334281   \n",
       "Developer, full-stack                                      33.500461   \n",
       "Developer, back-end                                        35.713236   \n",
       "\n",
       "                                                  jQuery         C#  ...  \\\n",
       "Marketing or sales professional                45.482866  25.700935  ...   \n",
       "Senior executive/VP                            36.439394  34.848485  ...   \n",
       "Engineer, site reliability                     30.979381  26.134021  ...   \n",
       "Scientist                                      25.071908  22.339406  ...   \n",
       "Product manager                                41.529836  34.521426  ...   \n",
       "Engineering manager                            30.837004  33.333333  ...   \n",
       "Developer, game or graphics                    34.313374  53.531732  ...   \n",
       "Educator                                       37.363388  29.576503  ...   \n",
       "Academic researcher                            29.898649  24.239865  ...   \n",
       "Engineer, data                                 29.507758  26.645265  ...   \n",
       "Developer, QA or test                          38.484925  38.358247  ...   \n",
       "Data scientist or machine learning specialist  24.172518  21.339017  ...   \n",
       "Data or business analyst                       33.648111  31.635189  ...   \n",
       "Developer, embedded applications or devices    30.484211  38.336842  ...   \n",
       "System administrator                           41.262877  31.896223  ...   \n",
       "Designer                                       45.743281  35.087390  ...   \n",
       "Database administrator                         47.658161  40.387976  ...   \n",
       "DevOps specialist                              33.690735  35.131513  ...   \n",
       "Developer, mobile                              33.769247  34.096182  ...   \n",
       "Developer, desktop or enterprise applications  35.429396  51.332315  ...   \n",
       "Developer, front-end                           43.566900  33.542851  ...   \n",
       "Developer, full-stack                          42.086636  36.376037  ...   \n",
       "Developer, back-end                            35.547965  34.023799  ...   \n",
       "\n",
       "                                                 Gatsby  Cassandra   IBM DB2  \\\n",
       "Marketing or sales professional                9.034268   5.919003  5.763240   \n",
       "Senior executive/VP                            5.227273   6.590909  5.227273   \n",
       "Engineer, site reliability                     4.896907   8.865979  3.711340   \n",
       "Scientist                                      2.924257   4.122723  3.499521   \n",
       "Product manager                                4.805767   4.325190  3.924710   \n",
       "Engineering manager                            4.809104   6.461087  3.817915   \n",
       "Developer, game or graphics                    3.728935   2.653281  2.617426   \n",
       "Educator                                       4.474044   3.517760  3.790984   \n",
       "Academic researcher                            2.533784   3.800676  3.040541   \n",
       "Engineer, data                                 2.782236   7.490637  4.333868   \n",
       "Developer, QA or test                          3.014948   3.470991  3.724348   \n",
       "Data scientist or machine learning specialist  2.683049   5.441324  3.786359   \n",
       "Data or business analyst                       2.261431   3.528827  5.516899   \n",
       "Developer, embedded applications or devices    2.484211   3.663158  3.494737   \n",
       "System administrator                           2.861503   4.311332  3.719954   \n",
       "Designer                                       4.698365   2.555911  3.457997   \n",
       "Database administrator                         2.778749   3.670045  4.037050   \n",
       "DevOps specialist                              3.886748   5.846876  3.668956   \n",
       "Developer, mobile                              3.374815   2.278000  2.204176   \n",
       "Developer, desktop or enterprise applications  1.858452   2.715547  3.920570   \n",
       "Developer, front-end                           5.329034   2.109751  2.361172   \n",
       "Developer, full-stack                          4.173272   2.798157  2.647005   \n",
       "Developer, back-end                            2.651682   3.782871  2.743499   \n",
       "\n",
       "                                                 Drupal  Unreal Engine  \\\n",
       "Marketing or sales professional                9.968847       6.853583   \n",
       "Senior executive/VP                            6.060606       4.318182   \n",
       "Engineer, site reliability                     5.206186       3.144330   \n",
       "Scientist                                      3.691275       4.026846   \n",
       "Product manager                                5.246296       3.203845   \n",
       "Engineering manager                            4.662261       2.679883   \n",
       "Developer, game or graphics                    3.657225      16.098960   \n",
       "Educator                                       4.678962       3.381148   \n",
       "Academic researcher                            3.293919       2.956081   \n",
       "Engineer, data                                 3.210273       2.701980   \n",
       "Developer, QA or test                          4.459083       3.166962   \n",
       "Data scientist or machine learning specialist  2.833501       2.758275   \n",
       "Data or business analyst                       3.827038       2.012922   \n",
       "Developer, embedded applications or devices    2.926316       3.789474   \n",
       "System administrator                           5.112552       3.414727   \n",
       "Designer                                       4.773539       4.021800   \n",
       "Database administrator                         4.596295       2.673890   \n",
       "DevOps specialist                              3.886748       2.060647   \n",
       "Developer, mobile                              2.773676       3.290445   \n",
       "Developer, desktop or enterprise applications  2.316701       2.774949   \n",
       "Developer, front-end                           3.470704       2.104285   \n",
       "Developer, full-stack                          3.041475       1.824885   \n",
       "Developer, back-end                            2.703100       1.777582   \n",
       "\n",
       "                                                Haskell    Puppet  Couchbase  \\\n",
       "Marketing or sales professional                4.205607  4.517134   6.230530   \n",
       "Senior executive/VP                            3.409091  4.848485   5.227273   \n",
       "Engineer, site reliability                     3.969072  9.278351   3.659794   \n",
       "Scientist                                      4.554171  2.301055   3.259827   \n",
       "Product manager                                2.282739  3.003604   3.123748   \n",
       "Engineering manager                            2.679883  4.515419   4.001468   \n",
       "Developer, game or graphics                    3.155253  2.402295   3.011832   \n",
       "Educator                                       4.200820  2.834699   2.766393   \n",
       "Academic researcher                            4.504505  2.111486   2.505631   \n",
       "Engineer, data                                 2.835741  2.808989   3.504548   \n",
       "Developer, QA or test                          2.280213  3.217634   2.584241   \n",
       "Data scientist or machine learning specialist  3.660983  2.432297   2.357071   \n",
       "Data or business analyst                       2.360835  2.311133   2.385686   \n",
       "Developer, embedded applications or devices    2.863158  2.168421   2.800000   \n",
       "System administrator                           2.708890  5.036246   2.689813   \n",
       "Designer                                       1.935726  2.161248   2.236422   \n",
       "Database administrator                         2.009787  2.901084   2.638937   \n",
       "DevOps specialist                              2.479477  5.712850   3.534930   \n",
       "Developer, mobile                              1.497574  1.497574   2.309639   \n",
       "Developer, desktop or enterprise applications  1.849966  1.756619   2.197895   \n",
       "Developer, front-end                           1.617840  1.579580   1.841933   \n",
       "Developer, full-stack                          1.692166  1.725346   1.994470   \n",
       "Developer, back-end                            2.001616  1.986925   2.060379   \n",
       "\n",
       "                                                   Chef     Julia  \n",
       "Marketing or sales professional                4.672897  4.049844  \n",
       "Senior executive/VP                            3.939394  2.727273  \n",
       "Engineer, site reliability                     8.041237  2.010309  \n",
       "Scientist                                      2.157239  5.465005  \n",
       "Product manager                                2.643172  1.561874  \n",
       "Engineering manager                            4.331865  1.578561  \n",
       "Developer, game or graphics                    2.007888  1.398351  \n",
       "Educator                                       2.288251  2.185792  \n",
       "Academic researcher                            1.520270  4.335586  \n",
       "Engineer, data                                 2.354200  2.247191  \n",
       "Developer, QA or test                          2.482898  1.368128  \n",
       "Data scientist or machine learning specialist  2.081244  4.237713  \n",
       "Data or business analyst                       1.988072  1.863817  \n",
       "Developer, embedded applications or devices    1.831579  1.263158  \n",
       "System administrator                           3.586417  1.259061  \n",
       "Designer                                       1.541064  0.920880  \n",
       "Database administrator                         2.271933  0.926250  \n",
       "DevOps specialist                              5.277266  0.988440  \n",
       "Developer, mobile                              1.065176  0.548408  \n",
       "Developer, desktop or enterprise applications  1.298371  0.721317  \n",
       "Developer, front-end                           1.043944  0.448185  \n",
       "Developer, full-stack                          1.441475  0.512442  \n",
       "Developer, back-end                            1.604965  0.561922  \n",
       "\n",
       "[23 rows x 74 columns]"
      ]
     },
     "execution_count": 28,
     "metadata": {},
     "output_type": "execute_result"
    }
   ],
   "source": [
    "skills = []\n",
    "for role in sorted_roles:\n",
    "    role_mask = (df[('DevType', role)] == 1)\n",
    "    skills_role = pd.concat({tech_col: df.loc[role_mask , tech_col].mean() * 100\n",
    "                            for tech_col in TECH_COLS})\n",
    "    skills.append(skills_role)\n",
    "\n",
    "skills = pd.concat(skills , axis=1)\n",
    "\n",
    "\n",
    "skills.columns = sorted_roles\n",
    "skills = skills.reset_index(level=0,drop=True)\n",
    "skills = skills.loc[sorted_skills]\n",
    "\n",
    "skills = skills.T\n",
    "skills"
   ]
  },
  {
   "cell_type": "code",
   "execution_count": 35,
   "id": "65efdd6e-828f-4470-a426-1e14e7790d49",
   "metadata": {},
   "outputs": [
    {
     "data": {
      "application/vnd.plotly.v1+json": {
       "config": {
        "plotlyServerURL": "https://plot.ly"
       },
       "data": [
        {
         "colorscale": [
          [
           0,
           "#000004"
          ],
          [
           0.1111111111111111,
           "#180f3d"
          ],
          [
           0.2222222222222222,
           "#440f76"
          ],
          [
           0.3333333333333333,
           "#721f81"
          ],
          [
           0.4444444444444444,
           "#9e2f7f"
          ],
          [
           0.5555555555555556,
           "#cd4071"
          ],
          [
           0.6666666666666666,
           "#f1605d"
          ],
          [
           0.7777777777777778,
           "#fd9668"
          ],
          [
           0.8888888888888888,
           "#feca8d"
          ],
          [
           1,
           "#fcfdbf"
          ]
         ],
         "type": "heatmap",
         "x": [
          "JavaScript",
          "HTML/CSS",
          "SQL",
          "MySQL",
          "Python",
          "Java",
          "Node.js",
          "Bash/Shell/PowerShell",
          "jQuery",
          "C#",
          "PostgreSQL",
          "Microsoft SQL Server",
          "SQLite",
          "React.js",
          "PHP",
          "TypeScript",
          ".NET",
          "C++",
          "MongoDB",
          "C",
          ".NET Core",
          "Angular",
          "ASP.NET",
          "Redis",
          "Express",
          "MariaDB",
          "Oracle",
          "ASP.NET Core",
          "Vue.js",
          "Firebase",
          "Spring",
          "Angular.js",
          "Elasticsearch",
          "Pandas",
          "Django",
          "Flask",
          "Go",
          "Laravel",
          "TensorFlow",
          "React Native",
          "Kotlin",
          "Unity 3D",
          "Ruby",
          "Assembly",
          "VBA",
          "DynamoDB",
          "Swift",
          "R",
          "Ansible",
          "Ruby on Rails",
          "Rust",
          "Flutter",
          "Teraform",
          "Keras",
          "Cordova",
          "Xamarin",
          "Objective-C",
          "Dart",
          "Apache Spark",
          "Scala",
          "Torch/PyTorch",
          "Symfony",
          "Hadoop",
          "Perl",
          "Gatsby",
          "Cassandra",
          "IBM DB2",
          "Drupal",
          "Unreal Engine",
          "Haskell",
          "Puppet",
          "Couchbase",
          "Chef",
          "Julia"
         ],
         "y": [
          "Marketing or sales professional",
          "Senior executive/VP",
          "Engineer, site reliability",
          "Scientist",
          "Product manager",
          "Engineering manager",
          "Developer, game or graphics",
          "Educator",
          "Academic researcher",
          "Engineer, data",
          "Developer, QA or test",
          "Data scientist or machine learning specialist",
          "Data or business analyst",
          "Developer, embedded applications or devices",
          "System administrator",
          "Designer",
          "Database administrator",
          "DevOps specialist",
          "Developer, mobile",
          "Developer, desktop or enterprise applications",
          "Developer, front-end",
          "Developer, full-stack",
          "Developer, back-end"
         ],
         "ygap": 1,
         "z": [
          [
           71.02803738317756,
           76.63551401869158,
           57.78816199376947,
           61.37071651090342,
           38.62928348909657,
           32.242990654205606,
           41.74454828660436,
           31.15264797507788,
           45.482866043613704,
           25.70093457943925,
           30.062305295950154,
           31.15264797507788,
           32.398753894081,
           26.635514018691588,
           49.06542056074766,
           22.897196261682243,
           26.168224299065418,
           21.339563862928348,
           24.922118380062305,
           21.651090342679126,
           19.003115264797508,
           19.626168224299064,
           19.003115264797508,
           13.239875389408098,
           19.470404984423677,
           23.98753894080997,
           15.732087227414329,
           15.42056074766355,
           18.22429906542056,
           19.470404984423677,
           9.968847352024921,
           16.355140186915886,
           9.968847352024921,
           11.682242990654206,
           15.109034267912772,
           11.993769470404985,
           10.903426791277258,
           18.06853582554517,
           11.838006230529595,
           14.953271028037381,
           9.034267912772584,
           11.059190031152648,
           11.214953271028037,
           9.813084112149532,
           13.862928348909657,
           7.78816199376947,
           10.12461059190031,
           10.43613707165109,
           7.009345794392523,
           9.345794392523365,
           6.230529595015576,
           10.59190031152648,
           5.451713395638629,
           6.074766355140187,
           9.813084112149532,
           8.566978193146417,
           9.345794392523365,
           9.034267912772584,
           6.853582554517133,
           5.451713395638629,
           5.919003115264798,
           9.190031152647975,
           4.8286604361370715,
           7.78816199376947,
           9.034267912772584,
           5.919003115264798,
           5.763239875389408,
           9.968847352024921,
           6.853582554517133,
           4.205607476635514,
           4.517133956386292,
           6.230529595015576,
           4.672897196261682,
           4.049844236760125
          ],
          [
           72.87878787878788,
           69.16666666666667,
           65.07575757575758,
           49.54545454545455,
           45.984848484848484,
           33.33333333333333,
           43.78787878787879,
           44.3939393939394,
           36.43939393939394,
           34.84848484848485,
           45.75757575757576,
           34.54545454545455,
           33.63636363636363,
           31.439393939393938,
           31.515151515151512,
           29.772727272727273,
           28.939393939393938,
           23.636363636363637,
           25.833333333333336,
           23.40909090909091,
           26.136363636363637,
           20.606060606060606,
           20.530303030303028,
           29.393939393939394,
           18.409090909090907,
           22.954545454545457,
           13.712121212121211,
           20.303030303030305,
           19.015151515151516,
           15.757575757575756,
           10.303030303030303,
           15.075757575757576,
           21.59090909090909,
           12.878787878787879,
           13.560606060606062,
           12.727272727272727,
           13.863636363636363,
           12.424242424242424,
           11.363636363636363,
           15.151515151515152,
           9.393939393939393,
           8.787878787878787,
           12.5,
           10.606060606060606,
           10.303030303030303,
           12.727272727272727,
           10.681818181818182,
           6.8181818181818175,
           10.53030303030303,
           10.378787878787879,
           7.954545454545454,
           7.878787878787878,
           9.242424242424242,
           6.4393939393939394,
           8.409090909090908,
           8.93939393939394,
           9.318181818181818,
           7.348484848484849,
           5.681818181818182,
           6.212121212121212,
           5.151515151515151,
           6.666666666666667,
           4.772727272727273,
           8.333333333333332,
           5.227272727272727,
           6.59090909090909,
           5.227272727272727,
           6.0606060606060606,
           4.318181818181818,
           3.4090909090909087,
           4.848484848484849,
           5.227272727272727,
           3.939393939393939,
           2.727272727272727
          ],
          [
           65.87628865979381,
           58.50515463917526,
           61.701030927835056,
           53.76288659793814,
           59.896907216494846,
           39.948453608247426,
           42.628865979381445,
           61.49484536082475,
           30.97938144329897,
           26.134020618556704,
           49.432989690721655,
           28.04123711340206,
           30.77319587628866,
           28.298969072164947,
           28.09278350515464,
           27.010309278350515,
           20.36082474226804,
           21.494845360824744,
           28.60824742268041,
           20.670103092783503,
           19.02061855670103,
           18.04123711340206,
           14.484536082474229,
           40,
           19.329896907216497,
           24.690721649484537,
           12.886597938144329,
           14.896907216494846,
           14.793814432989691,
           10.77319587628866,
           15.206185567010309,
           15.257731958762887,
           33.76288659793815,
           12.216494845360824,
           16.34020618556701,
           20.412371134020617,
           30.20618556701031,
           9.587628865979383,
           8.350515463917525,
           9.742268041237114,
           9.175257731958762,
           6.701030927835052,
           16.391752577319586,
           7.628865979381444,
           6.855670103092784,
           18.402061855670105,
           5.206185567010309,
           5.309278350515464,
           26.134020618556704,
           10.257731958762886,
           11.237113402061857,
           5.927835051546391,
           25.51546391752577,
           4.22680412371134,
           5.103092783505154,
           4.587628865979381,
           4.587628865979381,
           4.278350515463917,
           7.422680412371134,
           7.783505154639175,
           3.865979381443299,
           6.288659793814433,
           6.494845360824743,
           9.845360824742269,
           4.896907216494846,
           8.8659793814433,
           3.711340206185567,
           5.206185567010309,
           3.1443298969072164,
           3.9690721649484533,
           9.278350515463918,
           3.65979381443299,
           8.041237113402062,
           2.0103092783505154
          ],
          [
           48.465963566634706,
           47.02780441035475,
           43.672099712368166,
           39.213806327900286,
           67.68935762224353,
           32.98178331735379,
           25.98274209012464,
           42.42569511025887,
           25.071907957814,
           22.33940556088207,
           31.1601150527325,
           20.949185043144773,
           33.17353787152445,
           17.449664429530202,
           20.086289549376797,
           14.04602109300096,
           19.12751677852349,
           39.83700862895494,
           19.606903163950143,
           34.851390220517736,
           13.422818791946309,
           11.553211888782359,
           11.073825503355705,
           11.84084372003835,
           10.738255033557047,
           14.669223394055608,
           11.984659635666347,
           9.683604985618409,
           9.683604985618409,
           10.354745925215724,
           8.964525407478426,
           9.827420901246404,
           9.491850431447748,
           30.393096836049853,
           14.285714285714285,
           15.771812080536913,
           9.491850431447748,
           6.7114093959731544,
           24.30488974113135,
           7.28667305848514,
           5.944391179290508,
           8.724832214765101,
           7.766059443911794,
           11.601150527325025,
           9.731543624161073,
           5.512943432406519,
           6.2320230105465,
           22.24352828379674,
           6.136145733461169,
           5.704697986577181,
           8.820709491850431,
           5.417066155321189,
           3.883029721955897,
           16.155321188878236,
           4.650047938638543,
           4.410354745925216,
           5.321188878235858,
           3.978906999041227,
           6.85522531160115,
           5.129434324065196,
           12.224352828379674,
           3.883029721955897,
           6.85522531160115,
           6.615532118887824,
           2.924256951102589,
           4.1227229146692235,
           3.4995206136145733,
           3.691275167785235,
           4.026845637583892,
           4.554170661553212,
           2.3010546500479387,
           3.2598274209012463,
           2.1572387344199426,
           5.465004793863854
          ],
          [
           73.00760913095715,
           69.60352422907489,
           63.115738886664,
           52.42290748898678,
           42.01041249499399,
           36.28354024829796,
           42.57108530236284,
           37.48498197837405,
           41.529835802963554,
           34.52142571085302,
           36.72406888265919,
           35.32238686423708,
           34.96195434521426,
           28.55426511814177,
           34.88185822987585,
           28.39407288746496,
           28.994793752503,
           22.947537044453345,
           26.111333600320386,
           20.94513416099319,
           22.3468161794153,
           21.105326391670005,
           20.464557468962756,
           20.50460552663196,
           18.622346816179416,
           20.704845814977972,
           15.618742490989188,
           16.900280336403682,
           16.940328394072885,
           17.22066479775731,
           10.732879455346415,
           15.818982779335203,
           15.93912695234281,
           10.332398878654384,
           12.975570684821786,
           11.17340808970765,
           11.533840608730477,
           12.655186223468162,
           8.970764917901482,
           12.214657589106928,
           9.130957148578293,
           9.010812975570685,
           10.13215859030837,
           7.649179014817781,
           10.492591109331197,
           8.53023628354025,
           10.01201441730076,
           6.888265919102923,
           6.888265919102923,
           7.929515418502203,
           5.206247496996395,
           7.889467360833,
           5.206247496996395,
           3.884661593912695,
           7.8494193031637955,
           7.529034841810173,
           8.049659591509812,
           6.207448938726472,
           4.685622747296756,
           3.2839407288746494,
           3.644373247897477,
           5.967160592711253,
           4.004805766920304,
           5.246295554665599,
           4.805766920304365,
           4.325190228273929,
           3.9247096515818978,
           5.246295554665599,
           3.2038446135362433,
           2.2827392871445733,
           3.0036043251902282,
           3.123748498197837,
           2.643171806167401,
           1.5618742490989186
          ],
          [
           69.34654919236417,
           60.68281938325991,
           60.4258443465492,
           47.09985315712188,
           46.51248164464023,
           37.99559471365639,
           43.4654919236417,
           45.88839941262849,
           30.837004405286343,
           33.33333333333333,
           44.860499265785606,
           32.8928046989721,
           30.726872246696036,
           33.627019089574155,
           26.431718061674008,
           30.066079295154186,
           27.019089574155654,
           23.017621145374452,
           28.524229074889867,
           21.73274596182085,
           23.53157121879589,
           21.292217327459618,
           18.869309838472834,
           32.305433186490454,
           18.68575624082232,
           18.318649045521294,
           14.574155653450807,
           18.355359765051396,
           15.52863436123348,
           13.215859030837004,
           14.4640234948605,
           16.079295154185022,
           25.40381791483113,
           11.380323054331864,
           11.930983847283407,
           13.362701908957417,
           16.409691629955947,
           8.994126284875184,
           9.140969162995596,
           10.38913362701909,
           9.544787077826726,
           7.048458149779736,
           12.812041116005874,
           7.856093979441997,
           6.571218795888399,
           13.876651982378855,
           8.737151248164464,
           5.39647577092511,
           11.490455212922173,
           10.205580029368576,
           7.63582966226138,
           5.469897209985316,
           11.637298091042585,
           3.9647577092511015,
           5.947136563876652,
           5.726872246696035,
           7.599118942731277,
           4.441997063142438,
           6.424375917767988,
           7.085168869309838,
           3.81791483113069,
           5.359765051395008,
           5.8370044052863435,
           6.130690161527165,
           4.809104258443465,
           6.4610866372980915,
           3.81791483113069,
           4.662261380323055,
           2.679882525697504,
           2.679882525697504,
           4.5154185022026425,
           4.001468428781204,
           4.331864904552129,
           1.57856093979442
          ],
          [
           67.22839727500897,
           62.459662961635,
           49.26496952312657,
           48.04589458587307,
           43.85084259591252,
           41.37683757619218,
           41.23341699533883,
           35.353173180351384,
           34.31337396916457,
           53.53173180351381,
           27.321620652563645,
           26.78379347436357,
           33.95482251703119,
           27.142344926496953,
           30.36930799569738,
           28.074578702043745,
           36.966654714951595,
           42.595912513445676,
           24.632484761563283,
           31.33739691645751,
           27.895302975977053,
           18.64467551093582,
           18.60882036572248,
           15.059160989602008,
           17.999282897095732,
           18.142703477949084,
           13.409824309788455,
           16.2782359268555,
           16.134815346002153,
           16.780207959842237,
           9.358192900681248,
           13.553244890641809,
           9.824309788454643,
           7.565435640014343,
           10.254571531014701,
           9.680889207601291,
           10.326281821441377,
           9.5016134815346,
           9.465758336321262,
           12.19074937253496,
           10.039440659734671,
           43.09788454643241,
           8.031552527787737,
           11.939763356041592,
           7.60129078522768,
           6.704912154894227,
           9.788454643241305,
           4.195051989960559,
           4.553603442093941,
           5.808533524560774,
           10.362136966654715,
           8.103262818214414,
           4.051631409107207,
           4.230907135173897,
           7.60129078522768,
           8.246683399067766,
           10.147006095374685,
           6.09537468626748,
           3.1911079239870923,
           3.2628182144137687,
           3.513804230907135,
           4.697024022947293,
           3.04768734313374,
           3.872355683040516,
           3.7289351021871644,
           2.6532807457870207,
           2.6174256005736822,
           3.657224811760488,
           16.098960200788813,
           3.155252778773754,
           2.4022947292936534,
           3.0118321979204015,
           2.007888131946934,
           1.3983506633201863
          ],
          [
           68.4084699453552,
           66.80327868852459,
           56.62568306010929,
           53.85928961748634,
           45.25273224043716,
           39.9931693989071,
           39.58333333333333,
           38.18306010928962,
           37.36338797814208,
           29.57650273224044,
           34.18715846994536,
           28.927595628415297,
           34.80191256830601,
           27.86885245901639,
           32.99180327868852,
           26.331967213114755,
           25.136612021857925,
           27.732240437158467,
           26.400273224043712,
           25.37568306010929,
           18.237704918032787,
           20.32103825136612,
           16.35928961748634,
           16.87158469945355,
           18.954918032786885,
           21.311475409836063,
           15.881147540983607,
           13.866120218579233,
           15.23224043715847,
           16.188524590163937,
           13.524590163934427,
           14.685792349726775,
           12.295081967213115,
           12.978142076502733,
           13.114754098360656,
           12.09016393442623,
           9.084699453551913,
           11.441256830601093,
           10.758196721311474,
           11.441256830601093,
           9.870218579234972,
           9.426229508196721,
           8.777322404371585,
           9.562841530054644,
           8.435792349726775,
           6.796448087431695,
           6.864754098360656,
           9.221311475409836,
           6.762295081967213,
           6.4890710382513666,
           5.669398907103825,
           7.41120218579235,
           4.67896174863388,
           5.532786885245901,
           7.035519125683059,
           5.942622950819672,
           5.976775956284152,
           5.601092896174864,
           4.5423497267759565,
           4.132513661202186,
           4.337431693989071,
           5.498633879781421,
           3.927595628415301,
           5.669398907103825,
           4.474043715846995,
           3.5177595628415297,
           3.790983606557377,
           4.67896174863388,
           3.3811475409836067,
           4.200819672131147,
           2.8346994535519126,
           2.7663934426229506,
           2.288251366120219,
           2.185792349726776
          ],
          [
           54.19481981981982,
           53.46283783783784,
           46.70608108108108,
           47.015765765765764,
           59.03716216216216,
           39.86486486486486,
           28.29391891891892,
           36.76801801801802,
           29.898648648648653,
           24.239864864864867,
           30.236486486486484,
           22.804054054054053,
           32.74211711711711,
           18.86261261261261,
           25.788288288288285,
           15.79391891891892,
           19.98873873873874,
           36.76801801801802,
           23.170045045045047,
           33.164414414414416,
           13.65427927927928,
           15.118243243243242,
           13.034909909909908,
           12.443693693693694,
           11.79617117117117,
           16.019144144144143,
           13.56981981981982,
           9.628378378378379,
           11.233108108108109,
           12.528153153153154,
           11.120495495495495,
           11.683558558558559,
           9.90990990990991,
           25.11261261261261,
           13.992117117117116,
           14.076576576576578,
           7.85472972972973,
           9.121621621621621,
           19.90427927927928,
           7.573198198198199,
           6.587837837837837,
           7.882882882882883,
           6.925675675675675,
           10.838963963963964,
           7.967342342342343,
           4.5608108108108105,
           5.63063063063063,
           17.989864864864867,
           4.842342342342342,
           5.405405405405405,
           6.78490990990991,
           5.574324324324325,
           3.0968468468468466,
           13.147522522522523,
           5.123873873873873,
           4.391891891891892,
           4.870495495495495,
           4.110360360360361,
           6.221846846846847,
           4.983108108108108,
           10.022522522522523,
           3.350225225225225,
           5.79954954954955,
           5.405405405405405,
           2.5337837837837838,
           3.800675675675676,
           3.040540540540541,
           3.2939189189189184,
           2.956081081081081,
           4.504504504504505,
           2.1114864864864864,
           2.505630630630631,
           1.5202702702702704,
           4.335585585585585
          ],
          [
           56.90208667736758,
           52.59497057249867,
           67.1749598715891,
           49.67897271268058,
           65.08828250401284,
           40.44943820224719,
           31.942215088282506,
           43.90048154093098,
           29.507758159443554,
           26.64526484751204,
           44.0342429106474,
           34.4836811128946,
           32.102728731942214,
           21.187800963081862,
           22.953451043338685,
           18.432316746923487,
           21.74959871589085,
           23.809523809523807,
           27.314071696094167,
           22.98020331728197,
           16.934189406099517,
           15.302300695559124,
           14.526484751203853,
           21.910112359550563,
           13.456393793472445,
           16.613162118780096,
           18.726591760299627,
           12.413055109684324,
           11.985018726591761,
           11.20920278223649,
           14.018191546281432,
           12.867843766720172,
           20.278223649010165,
           32.530765115034775,
           16.559657570893528,
           22.364901016586412,
           11.797752808988763,
           7.784911717495987,
           17.415730337078653,
           7.410379882289994,
           6.71482075976458,
           6.821829855537722,
           7.811663991439273,
           7.2766185125735685,
           11.15569823434992,
           10.112359550561797,
           4.628143392188336,
           13.857677902621724,
           8.507223113964688,
           5.591225254146603,
           5.858747993579454,
           4.574638844301766,
           8.801498127340825,
           10.914927768860354,
           4.5211342964151955,
           4.735152487961477,
           4.360620652755484,
           3.2370251471375067,
           17.46923488496522,
           12.680577849117174,
           8.079186730872125,
           4.226859283039058,
           14.686998394863563,
           5.778491171749598,
           2.7822364901016585,
           7.490636704119851,
           4.333868378812198,
           3.210272873194221,
           2.701979668271803,
           2.8357410379882286,
           2.8089887640449436,
           3.504547886570358,
           2.354200107009096,
           2.247191011235955
          ],
          [
           71.54801114770713,
           67.24094248796554,
           63.38991639219661,
           52.52090195084874,
           44.210793007347355,
           43.374714973397516,
           40.689130985558656,
           42.386622751456805,
           38.484925259690904,
           38.3582467696985,
           33.18976437800861,
           35.39397010387636,
           31.59361540410438,
           25.918419052444897,
           30.833544464149988,
           27.793260704332408,
           31.5682797061059,
           23.43552064859387,
           24.423612870534583,
           21.560678996706358,
           24.220927286546747,
           22.194071446668357,
           21.28198631872308,
           17.329617430960223,
           16.18951102102863,
           19.50848745882949,
           18.267038256903977,
           18.191031162908537,
           15.150747403090955,
           13.757284013174562,
           14.694704839118316,
           17.101596148973904,
           15.252090195084875,
           8.538130225487713,
           11.147707119331137,
           10.61565746136306,
           10.134279199391944,
           11.147707119331137,
           6.764631365594122,
           9.095515581454269,
           8.79148720547251,
           8.71548011147707,
           9.602229541423867,
           6.865974157588041,
           8.99417278946035,
           7.575373701545478,
           6.6632885736002025,
           4.079047377755257,
           7.347352419559158,
           6.435267291613885,
           5.117810995692931,
           5.4218393716746895,
           5.573853559665569,
           2.837598175829744,
           6.485938687610844,
           6.257917405624525,
           5.649860653661008,
           4.155054471750697,
           3.749683303775019,
           3.775019001773499,
           2.5842411958449456,
           5.092475297694452,
           3.2936407398023815,
           5.903217633645807,
           3.014948061819103,
           3.4709906257917407,
           3.7243476057765394,
           4.4590828477324544,
           3.166962249809982,
           2.2802128198631872,
           3.2176336458069423,
           2.5842411958449456,
           2.482898403851026,
           1.3681276919179122
          ],
          [
           48.26980942828485,
           48.24473420260782,
           58.45035105315948,
           46.26379137412236,
           78.33500501504514,
           35.05516549648947,
           25.651955867602812,
           39.56870611835506,
           24.172517552657975,
           21.339017051153462,
           39.1173520561685,
           27.256770310932797,
           33.45035105315948,
           18.756268806419257,
           18.004012036108325,
           13.99197592778335,
           17.201604814443332,
           29.789368104312942,
           25.827482447342025,
           25.050150451354064,
           13.440320962888666,
           12.637913741223672,
           11.158475426278837,
           15.220661985957873,
           10.782347041123371,
           13.665997993981946,
           16.098294884653964,
           9.378134403209629,
           9.829488465396189,
           9.954864593781345,
           9.553660982948847,
           10.75727181544634,
           15.57171514543631,
           50.075225677031085,
           19.132397191574725,
           26.4543630892678,
           9.553660982948847,
           6.218655967903711,
           37.938816449348046,
           7.246740220661986,
           5.917753259779338,
           6.64493480441324,
           6.41925777331996,
           7.5225677031093285,
           9.327983951855568,
           7.096288866599799,
           4.689067201604814,
           27.632898696088265,
           6.093279839518555,
           4.663991975927784,
           6.218655967903711,
           4.789368104312939,
           5.1654964894684054,
           27.256770310932797,
           3.7612838515546643,
           3.5857572718154462,
           3.8114343029087263,
           3.3600802407221666,
           15.697091273821465,
           8.375125376128386,
           19.834503510531594,
           2.8084252758274824,
           12.963891675025074,
           4.413239719157472,
           2.683049147442327,
           5.441323971915748,
           3.786359077231695,
           2.8335005015045134,
           2.7582748244734203,
           3.6609829488465397,
           2.432296890672016,
           2.3570712136409226,
           2.0812437311935805,
           4.237713139418255
          ],
          [
           57.55467196819085,
           58.97117296222664,
           73.45924453280318,
           49.6520874751491,
           53.23061630218688,
           31.088469184890656,
           27.907554671968192,
           34.69184890656064,
           33.64811133200795,
           31.6351888667992,
           34.09542743538768,
           45.80019880715705,
           30.66600397614314,
           17.2713717693837,
           25.894632206759443,
           16.84890656063618,
           28.45427435387674,
           18.961232604373755,
           19.905566600397613,
           17.544731610337973,
           19.25944333996024,
           14.48807157057654,
           20.601391650099405,
           11.928429423459244,
           10.636182902584492,
           16.575546719681906,
           22.39065606361829,
           15.283300198807156,
           10.43737574552684,
           9.542743538767395,
           8.722664015904574,
           12.226640159045726,
           11.456262425447317,
           26.988071570576537,
           13.543737574552683,
           14.41351888667992,
           6.312127236580517,
           8.623260437375746,
           13.643141153081512,
           6.535785288270378,
           4.920477137176938,
           5.193836978131213,
           6.163021868787276,
           5.8399602385685885,
           18.961232604373755,
           5.666003976143141,
           4.150099403578529,
           18.93638170974155,
           4.52286282306163,
           4.920477137176938,
           3.354870775347912,
           4.398608349900597,
           3.354870775347912,
           7.75347912524851,
           4.796222664015905,
           5.318091451292246,
           3.6779324055666,
           3.1560636182902586,
           8.499005964214712,
           4.473161033797217,
           5.790258449304175,
           3.6530815109343937,
           7.952286282306163,
           4.970178926441352,
           2.261431411530815,
           3.5288270377733597,
           5.5168986083499005,
           3.8270377733598413,
           2.0129224652087476,
           2.360834990059642,
           2.3111332007952288,
           2.3856858846918487,
           1.9880715705765408,
           1.8638170974155068
          ],
          [
           58.37894736842105,
           54.10526315789473,
           49.55789473684211,
           45.03157894736842,
           50.27368421052631,
           39.83157894736842,
           34,
           43.97894736842105,
           30.484210526315792,
           38.33684210526316,
           29.957894736842107,
           30.589473684210528,
           38.821052631578944,
           19.747368421052634,
           25.157894736842106,
           22.526315789473685,
           32.61052631578947,
           47.473684210526315,
           20.968421052631577,
           47.89473684210526,
           24.08421052631579,
           18.821052631578947,
           19.11578947368421,
           14.526315789473685,
           13.094736842105261,
           17.49473684210526,
           15.073684210526316,
           16.568421052631578,
           12.021052631578948,
           13.368421052631579,
           10.505263157894737,
           14.547368421052632,
           10.042105263157895,
           9.284210526315789,
           10.547368421052632,
           10.821052631578947,
           10.778947368421052,
           8.063157894736841,
           10.442105263157893,
           9.178947368421053,
           9.284210526315789,
           10.063157894736841,
           7.178947368421053,
           15.389473684210525,
           9.494736842105263,
           6.421052631578947,
           9.263157894736842,
           4.378947368421052,
           5.747368421052632,
           4.905263157894737,
           9.031578947368422,
           7.178947368421053,
           3.4526315789473685,
           4.757894736842106,
           7.284210526315789,
           9.010526315789473,
           8.715789473684211,
           5.663157894736842,
           3.494736842105263,
           3.136842105263158,
           3.8947368421052633,
           3.7263157894736847,
           3.0947368421052635,
           5.6421052631578945,
           2.4842105263157896,
           3.663157894736842,
           3.494736842105263,
           2.926315789473684,
           3.7894736842105265,
           2.863157894736842,
           2.168421052631579,
           2.8000000000000003,
           1.831578947368421,
           1.263157894736842
          ],
          [
           71.04158718046547,
           69.49637542922548,
           68.14193056085463,
           57.535291873330785,
           50.91568103777184,
           35.80694391453644,
           38.744753910721094,
           54.94086226631056,
           41.26287676459366,
           31.896222815719188,
           40.499809233117126,
           35.23464326592903,
           35.12018313620756,
           22.128958412819536,
           39.75581838992751,
           23.52155665776421,
           26.955360549408624,
           23.61694009919878,
           23.712323540633346,
           23.998473864937047,
           19.896985883250668,
           17.798550171690195,
           18.06562380770698,
           23.73140022892026,
           15.566577642121327,
           31.55284242655475,
           15.261350629530712,
           14.6699732926364,
           16.19610835558947,
           10.282334986646319,
           9.786341091186571,
           13.620755436856161,
           17.3788630293781,
           9.462037390309042,
           14.498283098054177,
           13.639832125143075,
           13.964135826020602,
           12.361694009919878,
           7.058374666157954,
           7.458985120183136,
           6.447920640976726,
           7.954979015642884,
           10.511255246089279,
           8.393742846241894,
           10.702022128958413,
           7.039297977871041,
           5.322396032048837,
           5.207935902327356,
           15.070583746661578,
           6.75314765356734,
           7.306371613887828,
           5.265165967188096,
           9.080503624570776,
           3.0331934376192295,
           5.990080122090805,
           5.589469668065624,
           4.425791682563907,
           4.101487981686379,
           4.120564669973293,
           3.452880579931324,
           2.918733307897749,
           6.447920640976726,
           3.6818008393742843,
           8.260206028233497,
           2.861503243037009,
           4.311331552842427,
           3.719954215948111,
           5.11255246089279,
           3.4147272033574967,
           2.708889736741702,
           5.0362457077451355,
           2.689813048454788,
           3.5864173979397176,
           1.2590614269362839
          ],
          [
           75.98195827851907,
           74.87314414583724,
           58.804735951888745,
           55.19639165570381,
           35.951888742717536,
           35.89550836308965,
           41.890622063521896,
           30.182296560796846,
           45.74328133809434,
           35.08738958842323,
           25.803420409697424,
           32.77579402367976,
           29.900394662657398,
           29.017102048487125,
           37.981582409321554,
           27.870700996053372,
           29.24262356699868,
           24.130802480736705,
           23.003194888178914,
           22.533358391279833,
           19.921067468520956,
           22.834053749295244,
           20.710392783311406,
           11.445217064461568,
           18.248449539560234,
           18.53035143769968,
           15.260289419282088,
           14.809246382258973,
           17.308776545762075,
           16.500657771095657,
           9.302762638601767,
           16.93290734824281,
           8.851719601578651,
           6.483743657207292,
           10.129674873144145,
           7.83687276827664,
           6.558917496711144,
           12.666791956399173,
           6.107874459688029,
           11.069347866942305,
           7.103927833114076,
           10.467957150911483,
           6.840819394850592,
           7.0287539936102235,
           9.528284157113324,
           4.999060327006202,
           7.479797030633339,
           4.491636910355196,
           3.7398985153166695,
           5.299755685021613,
           3.6083442961849275,
           6.897199774478481,
           2.3491824844953957,
           2.180041345611727,
           6.9723736139823345,
           6.29580905844766,
           5.713211802292802,
           4.961473407254275,
           2.837812441270438,
           1.8793459875963165,
           2.405562864123285,
           4.134561172711896,
           2.499530163503101,
           4.134561172711896,
           4.698364968990791,
           2.5559105431309903,
           3.4579966171772227,
           4.773538808494644,
           4.021800413456117,
           1.935726367224206,
           2.161247885735764,
           2.2364217252396164,
           1.5410637098289794,
           0.9208795339221951
          ],
          [
           74.27472911569382,
           73.06885704299197,
           80.07689619014332,
           59.402306885704306,
           42.24047535826634,
           35.04019573575673,
           38.67528836071304,
           43.411394617266694,
           47.6581614819993,
           40.38797623208668,
           37.189793778399164,
           46.01537923802866,
           32.52359314924851,
           22.859140160782943,
           41.50646627053477,
           24.23977630199231,
           35.389723872771754,
           20.447396015379237,
           23.593149248514507,
           19.18909472212513,
           25.09612023767913,
           19.64348130024467,
           26.82628451590353,
           19.975533030408947,
           15.798671793079343,
           27.455435162530584,
           18.175463124781547,
           20.027962250961203,
           16.58511010136316,
           12.320866829779797,
           9.664452988465571,
           16.07829430269137,
           14.872422229989516,
           10.013981125480601,
           12.111149947570778,
           11.464522894092974,
           10.013981125480601,
           15.379238028661307,
           6.850751485494583,
           9.140160782943028,
           6.291506466270534,
           7.462425725270884,
           7.444949318420132,
           6.850751485494583,
           13.491786088780147,
           6.815798671793079,
           5.924501922404754,
           6.274030059419783,
           8.091576371897938,
           5.522544564837469,
           4.526389374344634,
           5.522544564837469,
           5.312827682628452,
           2.883607130373995,
           6.780845858091576,
           7.3051380636141205,
           5.173016427822439,
           4.229290457881859,
           4.2642432715833625,
           3.0408947920307585,
           2.7962250961202377,
           6.256553652569032,
           3.862285914016078,
           6.23907724571828,
           2.778748689269486,
           3.670045438657812,
           4.037049982523593,
           4.596295001747641,
           2.6738902481649776,
           2.009786787836421,
           2.9010835372247463,
           2.6389374344634744,
           2.2719328905976934,
           0.9262495630898288
          ],
          [
           70.29653208242587,
           62.70732115932317,
           63.05913888423521,
           48.4335734628916,
           51.76746523705813,
           38.43189814039202,
           43.457865639135534,
           58.68654716032836,
           33.690735466577316,
           35.13151281621712,
           45.04942201373765,
           35.91891439102027,
           29.88775339252806,
           28.76528731780868,
           26.553861618361534,
           32.166191991958456,
           28.7987937678003,
           18.26101524543475,
           29.38515664265371,
           17.574133020606467,
           26.687887418328028,
           23.370748869157314,
           20.924778019768805,
           32.83632099179092,
           18.445300720388673,
           23.203216619199196,
           15.831797621042051,
           22.04724409448819,
           16.736471770815882,
           10.956609147260847,
           16.334394370916403,
           15.412966996146757,
           27.00619869324845,
           10.722063997319484,
           13.63712514659072,
           15.915563746021109,
           19.919584520020102,
           9.130507622717374,
           7.823756073044061,
           8.828949572792762,
           8.175573797956107,
           6.13168034846708,
           12.079075221980231,
           5.327525548668119,
           5.8803819735299045,
           13.838163846540457,
           4.891941698777014,
           4.288825598927794,
           20.857765119785558,
           7.287652873178087,
           7.321159323169709,
           4.875188473781203,
           17.440107220639973,
           3.7862288490534426,
           5.763109398559223,
           5.394538448651366,
           4.087786898978053,
           3.7694756240576313,
           5.243759423689061,
           5.411291673647177,
           2.680515999329871,
           5.428044898642989,
           4.741162673814709,
           6.349472273412632,
           3.886748199028313,
           5.846875523538281,
           3.668956274082761,
           3.886748199028313,
           2.0606466744848384,
           2.4794772993801306,
           5.712849723571788,
           3.5349304741162673,
           5.277265873680684,
           0.9884402747528899
          ],
          [
           66.64205863741827,
           60.69394642480489,
           50.28475005273149,
           50.34802784222738,
           31.195950221472263,
           49.44104619278633,
           40.82472052309639,
           26.323560430288968,
           33.769246994305,
           34.09618224003375,
           27.54693102720945,
           28.11643113267243,
           43.35583210293187,
           30.24678337903396,
           29.339801729592914,
           29.962033326302468,
           26.102088167053367,
           22.51634676228644,
           25.079097236869856,
           19.521198059481122,
           20.702383463404345,
           22.54798565703438,
           18.519299725796245,
           14.047669268086901,
           19.721577726218097,
           15.85108626871968,
           12.507909723686986,
           15.977641847711455,
           13.636363636363635,
           28.685931238135414,
           11.970048512971946,
           14.764817549040288,
           9.586585108626872,
           5.526260282640793,
           9.20691837165155,
           7.456232862265345,
           7.4035013710187725,
           11.0630668635309,
           7.034380932292765,
           19.700485129719468,
           20.934402024889266,
           11.126344653026788,
           7.087112423539338,
           5.357519510651762,
           5.389158405399705,
           6.116852984602405,
           21.145327989875554,
           2.963509808057372,
           3.0478801940518876,
           5.199325036912044,
           3.4591858257751533,
           14.226956338325248,
           2.858046825564227,
           2.815861632566969,
           11.020881670533642,
           11.569289179497996,
           14.923012022780005,
           11.27399282851719,
           2.1619911411094703,
           2.214722632356043,
           2.0987133516135836,
           3.627926597764185,
           1.9510651761231808,
           2.4151022990930184,
           3.3748154397806367,
           2.27800042185193,
           2.2041763341067284,
           2.7736764395697113,
           3.290445053786121,
           1.4975743514026576,
           1.4975743514026576,
           2.3096393165998736,
           1.0651761231807635,
           0.5484075089643535
          ],
          [
           65.69925322471147,
           61.31194840461644,
           62.02477936184657,
           43.73727087576375,
           36.10828241683639,
           40.73319755600815,
           33.71520706042091,
           36.21011541072641,
           35.429395790902916,
           51.332315003394434,
           29.14969450101833,
           45.13747454175153,
           31.551255940257978,
           21.452817379497624,
           22.174134419551937,
           28.301086218601494,
           45.58723693143245,
           28.131364562118126,
           20.38357094365241,
           22.87847929395791,
           33.29938900203666,
           22.284453496266124,
           28.615071283095723,
           13.441955193482688,
           12.81398506449423,
           14.850644942294636,
           20.08655804480652,
           25.19517990495587,
           11.617447386286491,
           10.140868974881196,
           15.08825526137135,
           14.867617107942973,
           11.074338085539715,
           6.916157501697216,
           7.781737949762389,
           7.73082145281738,
           7.909029192124915,
           6.839782756279702,
           5.872369314324508,
           7.4168363883231505,
           6.907671418873049,
           8.630346232179226,
           5.337746096401901,
           6.737949762389681,
           10.123896809232859,
           5.18499660556687,
           5.762050237610318,
           3.63204344874406,
           4.2175831636116765,
           3.513238289205703,
           5.371690427698574,
           4.760692464358452,
           3.250169721656483,
           2.6391717583163614,
           5.609300746775289,
           8.621860149355058,
           5.066191446028514,
           3.699932111337407,
           2.842837746096402,
           3.054989816700611,
           2.096062457569586,
           2.842837746096402,
           2.6476578411405294,
           3.699932111337407,
           1.8584521384928716,
           2.7155465037338766,
           3.920570264765784,
           2.3167006109979633,
           2.774949083503055,
           1.8499660556687034,
           1.7566191446028514,
           2.197895451459606,
           1.2983706720977597,
           0.721317040054311
          ],
          [
           84.0128989943157,
           78.31219938784434,
           56.394840402273715,
           50.841714035854835,
           31.29645824223874,
           33.728683865325756,
           49.36051595977263,
           29.334280717096632,
           43.56689986882379,
           33.542850896370794,
           30.908395277656318,
           31.383909051158724,
           25.912767818102317,
           40.10712724092698,
           32.624617402710975,
           39.0194578049847,
           27.169873196327067,
           16.04722343681679,
           26.929383471797113,
           14.675338871884566,
           21.523830345430696,
           28.377787494534324,
           20.529077393965895,
           16.40249234805422,
           23.048753825972888,
           16.708570179274158,
           13.609532138172279,
           17.539352864013992,
           19.266506340183646,
           15.828596414516834,
           11.636423261915173,
           18.03126366418889,
           11.368605159597726,
           5.596851770878881,
           9.368167905553126,
           7.804984696108439,
           7.542632269348491,
           11.472452995190205,
           5.0120244862264975,
           12.762352426759948,
           6.711849584608657,
           7.362264975951027,
           7.25295146480105,
           3.9735461303017057,
           6.3456493222562305,
           6.006777437691299,
           5.875601224311325,
           2.9514648010494096,
           3.9516834280717097,
           5.711630957586357,
           3.8860953213817226,
           5.728027984258855,
           3.219282903366856,
           2.1425448185395717,
           7.1217752514210755,
           5.378224748578924,
           4.328815041539134,
           4.394403148229121,
           2.04962833406209,
           2.295583734149541,
           1.5686488850021865,
           4.257761259291649,
           1.7654132050721467,
           2.6125929164844774,
           5.329033668561435,
           2.109750765194578,
           2.3611718408395275,
           3.4707039790118057,
           2.104285089637079,
           1.6178399650196764,
           1.579580236117184,
           1.8419326628771315,
           1.0439440314822912,
           0.4481853957149104
          ],
          [
           81.99078341013825,
           73.78433179723503,
           62.046082949308754,
           50.22672811059908,
           36.20276497695853,
           36.781566820276495,
           47.34009216589862,
           33.500460829493086,
           42.08663594470046,
           36.37603686635945,
           36.022119815668205,
           34.82764976958526,
           26.392626728110596,
           36.22857142857143,
           30.311520737327193,
           37.235023041474655,
           29.423041474654376,
           16.250691244239633,
           27.188940092165897,
           14.422119815668202,
           24.287557603686636,
           26.70230414746544,
           22.55115207373272,
           20.903225806451616,
           21.92442396313364,
           17.142857142857142,
           14.816589861751153,
           20.468202764976958,
           18.001843317972348,
           13.12442396313364,
           14.975115207373271,
           16.94377880184332,
           14.381566820276499,
           7.498617511520737,
           10.665437788018433,
           10.031336405529954,
           9.209216589861752,
           11.163133640552996,
           5.7695852534562215,
           10.694930875576036,
           6.705990783410138,
           6.473732718894009,
           8.468202764976958,
           3.845161290322581,
           5.776958525345622,
           7.472811059907834,
           4.836866359447005,
           3.288479262672811,
           5.393548387096774,
           6.731797235023042,
           4.497695852534562,
           5.172350230414747,
           4.748387096774193,
           2.6764976958525346,
           6.016589861751152,
           5.131797235023042,
           3.44331797235023,
           3.911520737327189,
           2.790783410138249,
           3.1889400921658986,
           1.9649769585253458,
           4.313364055299539,
           2.3483870967741938,
           2.8829493087557605,
           4.1732718894009215,
           2.79815668202765,
           2.647004608294931,
           3.0414746543778803,
           1.824884792626728,
           1.6921658986175117,
           1.7253456221198158,
           1.9944700460829492,
           1.4414746543778802,
           0.5124423963133641
          ],
          [
           69.39180255619215,
           61.38901131188482,
           61.37432055237255,
           49.397678859997065,
           39.86704862641399,
           39.848685177023654,
           37.55692669311003,
           35.71323637432055,
           35.54796532980755,
           34.023799030409876,
           36.95093286322903,
           32.90362861759953,
           27.03099750257088,
           26.23402379903041,
           28.14382253562509,
           27.838989275745558,
           27.725135889525486,
           19.244894961069487,
           24.63273101219333,
           17.17349786983987,
           22.62009695901278,
           20.761715880711034,
           19.861906860584693,
           21.77537828705744,
           16.203907742030264,
           17.412222711914204,
           15.715439988247393,
           18.168796826795948,
           14.297781695313647,
           10.78301748200382,
           16.369178786543266,
           13.478771852504776,
           16.101072425444396,
           8.939327163214337,
           11.223740267371824,
           11.10621419127369,
           11.146613779932423,
           10.327603937123548,
           6.335390039665051,
           7.973409725282797,
           7.271925958572058,
           6.217863963566916,
           7.988100484795065,
           4.745115322462171,
           5.718378140149846,
           7.841192889672397,
           4.539444689290437,
           3.5735272513588954,
           6.691640957837521,
           5.935066842955781,
           5.417217570148377,
           4.392537094167769,
           5.79183193771118,
           3.114441016600558,
           4.712061113559571,
           4.7157338034376375,
           3.400910827089761,
           3.4045835169678274,
           3.926105479653298,
           4.631261936242104,
           2.2770677244013515,
           4.381519024533569,
           3.3127662700161595,
           3.514764213309828,
           2.6516820919641546,
           3.782870574408697,
           2.743499338915822,
           2.7030997502570884,
           1.7775819009842808,
           2.0016159835463494,
           1.9869252240340824,
           2.0603790215954163,
           1.604965476715146,
           0.5619215513442045
          ]
         ]
        }
       ],
       "layout": {
        "height": 700,
        "template": {
         "data": {
          "bar": [
           {
            "error_x": {
             "color": "#2a3f5f"
            },
            "error_y": {
             "color": "#2a3f5f"
            },
            "marker": {
             "line": {
              "color": "#E5ECF6",
              "width": 0.5
             },
             "pattern": {
              "fillmode": "overlay",
              "size": 10,
              "solidity": 0.2
             }
            },
            "type": "bar"
           }
          ],
          "barpolar": [
           {
            "marker": {
             "line": {
              "color": "#E5ECF6",
              "width": 0.5
             },
             "pattern": {
              "fillmode": "overlay",
              "size": 10,
              "solidity": 0.2
             }
            },
            "type": "barpolar"
           }
          ],
          "carpet": [
           {
            "aaxis": {
             "endlinecolor": "#2a3f5f",
             "gridcolor": "white",
             "linecolor": "white",
             "minorgridcolor": "white",
             "startlinecolor": "#2a3f5f"
            },
            "baxis": {
             "endlinecolor": "#2a3f5f",
             "gridcolor": "white",
             "linecolor": "white",
             "minorgridcolor": "white",
             "startlinecolor": "#2a3f5f"
            },
            "type": "carpet"
           }
          ],
          "choropleth": [
           {
            "colorbar": {
             "outlinewidth": 0,
             "ticks": ""
            },
            "type": "choropleth"
           }
          ],
          "contour": [
           {
            "colorbar": {
             "outlinewidth": 0,
             "ticks": ""
            },
            "colorscale": [
             [
              0,
              "#0d0887"
             ],
             [
              0.1111111111111111,
              "#46039f"
             ],
             [
              0.2222222222222222,
              "#7201a8"
             ],
             [
              0.3333333333333333,
              "#9c179e"
             ],
             [
              0.4444444444444444,
              "#bd3786"
             ],
             [
              0.5555555555555556,
              "#d8576b"
             ],
             [
              0.6666666666666666,
              "#ed7953"
             ],
             [
              0.7777777777777778,
              "#fb9f3a"
             ],
             [
              0.8888888888888888,
              "#fdca26"
             ],
             [
              1,
              "#f0f921"
             ]
            ],
            "type": "contour"
           }
          ],
          "contourcarpet": [
           {
            "colorbar": {
             "outlinewidth": 0,
             "ticks": ""
            },
            "type": "contourcarpet"
           }
          ],
          "heatmap": [
           {
            "colorbar": {
             "outlinewidth": 0,
             "ticks": ""
            },
            "colorscale": [
             [
              0,
              "#0d0887"
             ],
             [
              0.1111111111111111,
              "#46039f"
             ],
             [
              0.2222222222222222,
              "#7201a8"
             ],
             [
              0.3333333333333333,
              "#9c179e"
             ],
             [
              0.4444444444444444,
              "#bd3786"
             ],
             [
              0.5555555555555556,
              "#d8576b"
             ],
             [
              0.6666666666666666,
              "#ed7953"
             ],
             [
              0.7777777777777778,
              "#fb9f3a"
             ],
             [
              0.8888888888888888,
              "#fdca26"
             ],
             [
              1,
              "#f0f921"
             ]
            ],
            "type": "heatmap"
           }
          ],
          "heatmapgl": [
           {
            "colorbar": {
             "outlinewidth": 0,
             "ticks": ""
            },
            "colorscale": [
             [
              0,
              "#0d0887"
             ],
             [
              0.1111111111111111,
              "#46039f"
             ],
             [
              0.2222222222222222,
              "#7201a8"
             ],
             [
              0.3333333333333333,
              "#9c179e"
             ],
             [
              0.4444444444444444,
              "#bd3786"
             ],
             [
              0.5555555555555556,
              "#d8576b"
             ],
             [
              0.6666666666666666,
              "#ed7953"
             ],
             [
              0.7777777777777778,
              "#fb9f3a"
             ],
             [
              0.8888888888888888,
              "#fdca26"
             ],
             [
              1,
              "#f0f921"
             ]
            ],
            "type": "heatmapgl"
           }
          ],
          "histogram": [
           {
            "marker": {
             "pattern": {
              "fillmode": "overlay",
              "size": 10,
              "solidity": 0.2
             }
            },
            "type": "histogram"
           }
          ],
          "histogram2d": [
           {
            "colorbar": {
             "outlinewidth": 0,
             "ticks": ""
            },
            "colorscale": [
             [
              0,
              "#0d0887"
             ],
             [
              0.1111111111111111,
              "#46039f"
             ],
             [
              0.2222222222222222,
              "#7201a8"
             ],
             [
              0.3333333333333333,
              "#9c179e"
             ],
             [
              0.4444444444444444,
              "#bd3786"
             ],
             [
              0.5555555555555556,
              "#d8576b"
             ],
             [
              0.6666666666666666,
              "#ed7953"
             ],
             [
              0.7777777777777778,
              "#fb9f3a"
             ],
             [
              0.8888888888888888,
              "#fdca26"
             ],
             [
              1,
              "#f0f921"
             ]
            ],
            "type": "histogram2d"
           }
          ],
          "histogram2dcontour": [
           {
            "colorbar": {
             "outlinewidth": 0,
             "ticks": ""
            },
            "colorscale": [
             [
              0,
              "#0d0887"
             ],
             [
              0.1111111111111111,
              "#46039f"
             ],
             [
              0.2222222222222222,
              "#7201a8"
             ],
             [
              0.3333333333333333,
              "#9c179e"
             ],
             [
              0.4444444444444444,
              "#bd3786"
             ],
             [
              0.5555555555555556,
              "#d8576b"
             ],
             [
              0.6666666666666666,
              "#ed7953"
             ],
             [
              0.7777777777777778,
              "#fb9f3a"
             ],
             [
              0.8888888888888888,
              "#fdca26"
             ],
             [
              1,
              "#f0f921"
             ]
            ],
            "type": "histogram2dcontour"
           }
          ],
          "mesh3d": [
           {
            "colorbar": {
             "outlinewidth": 0,
             "ticks": ""
            },
            "type": "mesh3d"
           }
          ],
          "parcoords": [
           {
            "line": {
             "colorbar": {
              "outlinewidth": 0,
              "ticks": ""
             }
            },
            "type": "parcoords"
           }
          ],
          "pie": [
           {
            "automargin": true,
            "type": "pie"
           }
          ],
          "scatter": [
           {
            "marker": {
             "colorbar": {
              "outlinewidth": 0,
              "ticks": ""
             }
            },
            "type": "scatter"
           }
          ],
          "scatter3d": [
           {
            "line": {
             "colorbar": {
              "outlinewidth": 0,
              "ticks": ""
             }
            },
            "marker": {
             "colorbar": {
              "outlinewidth": 0,
              "ticks": ""
             }
            },
            "type": "scatter3d"
           }
          ],
          "scattercarpet": [
           {
            "marker": {
             "colorbar": {
              "outlinewidth": 0,
              "ticks": ""
             }
            },
            "type": "scattercarpet"
           }
          ],
          "scattergeo": [
           {
            "marker": {
             "colorbar": {
              "outlinewidth": 0,
              "ticks": ""
             }
            },
            "type": "scattergeo"
           }
          ],
          "scattergl": [
           {
            "marker": {
             "colorbar": {
              "outlinewidth": 0,
              "ticks": ""
             }
            },
            "type": "scattergl"
           }
          ],
          "scattermapbox": [
           {
            "marker": {
             "colorbar": {
              "outlinewidth": 0,
              "ticks": ""
             }
            },
            "type": "scattermapbox"
           }
          ],
          "scatterpolar": [
           {
            "marker": {
             "colorbar": {
              "outlinewidth": 0,
              "ticks": ""
             }
            },
            "type": "scatterpolar"
           }
          ],
          "scatterpolargl": [
           {
            "marker": {
             "colorbar": {
              "outlinewidth": 0,
              "ticks": ""
             }
            },
            "type": "scatterpolargl"
           }
          ],
          "scatterternary": [
           {
            "marker": {
             "colorbar": {
              "outlinewidth": 0,
              "ticks": ""
             }
            },
            "type": "scatterternary"
           }
          ],
          "surface": [
           {
            "colorbar": {
             "outlinewidth": 0,
             "ticks": ""
            },
            "colorscale": [
             [
              0,
              "#0d0887"
             ],
             [
              0.1111111111111111,
              "#46039f"
             ],
             [
              0.2222222222222222,
              "#7201a8"
             ],
             [
              0.3333333333333333,
              "#9c179e"
             ],
             [
              0.4444444444444444,
              "#bd3786"
             ],
             [
              0.5555555555555556,
              "#d8576b"
             ],
             [
              0.6666666666666666,
              "#ed7953"
             ],
             [
              0.7777777777777778,
              "#fb9f3a"
             ],
             [
              0.8888888888888888,
              "#fdca26"
             ],
             [
              1,
              "#f0f921"
             ]
            ],
            "type": "surface"
           }
          ],
          "table": [
           {
            "cells": {
             "fill": {
              "color": "#EBF0F8"
             },
             "line": {
              "color": "white"
             }
            },
            "header": {
             "fill": {
              "color": "#C8D4E3"
             },
             "line": {
              "color": "white"
             }
            },
            "type": "table"
           }
          ]
         },
         "layout": {
          "annotationdefaults": {
           "arrowcolor": "#2a3f5f",
           "arrowhead": 0,
           "arrowwidth": 1
          },
          "autotypenumbers": "strict",
          "coloraxis": {
           "colorbar": {
            "outlinewidth": 0,
            "ticks": ""
           }
          },
          "colorscale": {
           "diverging": [
            [
             0,
             "#8e0152"
            ],
            [
             0.1,
             "#c51b7d"
            ],
            [
             0.2,
             "#de77ae"
            ],
            [
             0.3,
             "#f1b6da"
            ],
            [
             0.4,
             "#fde0ef"
            ],
            [
             0.5,
             "#f7f7f7"
            ],
            [
             0.6,
             "#e6f5d0"
            ],
            [
             0.7,
             "#b8e186"
            ],
            [
             0.8,
             "#7fbc41"
            ],
            [
             0.9,
             "#4d9221"
            ],
            [
             1,
             "#276419"
            ]
           ],
           "sequential": [
            [
             0,
             "#0d0887"
            ],
            [
             0.1111111111111111,
             "#46039f"
            ],
            [
             0.2222222222222222,
             "#7201a8"
            ],
            [
             0.3333333333333333,
             "#9c179e"
            ],
            [
             0.4444444444444444,
             "#bd3786"
            ],
            [
             0.5555555555555556,
             "#d8576b"
            ],
            [
             0.6666666666666666,
             "#ed7953"
            ],
            [
             0.7777777777777778,
             "#fb9f3a"
            ],
            [
             0.8888888888888888,
             "#fdca26"
            ],
            [
             1,
             "#f0f921"
            ]
           ],
           "sequentialminus": [
            [
             0,
             "#0d0887"
            ],
            [
             0.1111111111111111,
             "#46039f"
            ],
            [
             0.2222222222222222,
             "#7201a8"
            ],
            [
             0.3333333333333333,
             "#9c179e"
            ],
            [
             0.4444444444444444,
             "#bd3786"
            ],
            [
             0.5555555555555556,
             "#d8576b"
            ],
            [
             0.6666666666666666,
             "#ed7953"
            ],
            [
             0.7777777777777778,
             "#fb9f3a"
            ],
            [
             0.8888888888888888,
             "#fdca26"
            ],
            [
             1,
             "#f0f921"
            ]
           ]
          },
          "colorway": [
           "#636efa",
           "#EF553B",
           "#00cc96",
           "#ab63fa",
           "#FFA15A",
           "#19d3f3",
           "#FF6692",
           "#B6E880",
           "#FF97FF",
           "#FECB52"
          ],
          "font": {
           "color": "#2a3f5f"
          },
          "geo": {
           "bgcolor": "white",
           "lakecolor": "white",
           "landcolor": "#E5ECF6",
           "showlakes": true,
           "showland": true,
           "subunitcolor": "white"
          },
          "hoverlabel": {
           "align": "left"
          },
          "hovermode": "closest",
          "mapbox": {
           "style": "light"
          },
          "paper_bgcolor": "white",
          "plot_bgcolor": "#E5ECF6",
          "polar": {
           "angularaxis": {
            "gridcolor": "white",
            "linecolor": "white",
            "ticks": ""
           },
           "bgcolor": "#E5ECF6",
           "radialaxis": {
            "gridcolor": "white",
            "linecolor": "white",
            "ticks": ""
           }
          },
          "scene": {
           "xaxis": {
            "backgroundcolor": "#E5ECF6",
            "gridcolor": "white",
            "gridwidth": 2,
            "linecolor": "white",
            "showbackground": true,
            "ticks": "",
            "zerolinecolor": "white"
           },
           "yaxis": {
            "backgroundcolor": "#E5ECF6",
            "gridcolor": "white",
            "gridwidth": 2,
            "linecolor": "white",
            "showbackground": true,
            "ticks": "",
            "zerolinecolor": "white"
           },
           "zaxis": {
            "backgroundcolor": "#E5ECF6",
            "gridcolor": "white",
            "gridwidth": 2,
            "linecolor": "white",
            "showbackground": true,
            "ticks": "",
            "zerolinecolor": "white"
           }
          },
          "shapedefaults": {
           "line": {
            "color": "#2a3f5f"
           }
          },
          "ternary": {
           "aaxis": {
            "gridcolor": "white",
            "linecolor": "white",
            "ticks": ""
           },
           "baxis": {
            "gridcolor": "white",
            "linecolor": "white",
            "ticks": ""
           },
           "bgcolor": "#E5ECF6",
           "caxis": {
            "gridcolor": "white",
            "linecolor": "white",
            "ticks": ""
           }
          },
          "title": {
           "x": 0.05
          },
          "xaxis": {
           "automargin": true,
           "gridcolor": "white",
           "linecolor": "white",
           "ticks": "",
           "title": {
            "standoff": 15
           },
           "zerolinecolor": "white",
           "zerolinewidth": 2
          },
          "yaxis": {
           "automargin": true,
           "gridcolor": "white",
           "linecolor": "white",
           "ticks": "",
           "title": {
            "standoff": 15
           },
           "zerolinecolor": "white",
           "zerolinewidth": 2
          }
         }
        },
        "width": 1000,
        "xaxis": {
         "autorange": true,
         "range": [
          -0.5,
          73.5
         ],
         "type": "category"
        },
        "yaxis": {
         "autorange": true,
         "range": [
          -0.5,
          22.5
         ],
         "type": "category"
        }
       }
      },
      "image/png": "[encoded data removed]",
      "text/html": [
       "<div>                            <div id=\"54771aff-a7dc-4112-8352-d4808510eb82\" class=\"plotly-graph-div\" style=\"height:700px; width:1000px;\"></div>            <script type=\"text/javascript\">                require([\"plotly\"], function(Plotly) {                    window.PLOTLYENV=window.PLOTLYENV || {};                                    if (document.getElementById(\"54771aff-a7dc-4112-8352-d4808510eb82\")) {                    Plotly.newPlot(                        \"54771aff-a7dc-4112-8352-d4808510eb82\",                        [{\"colorscale\":[[0.0,\"#000004\"],[0.1111111111111111,\"#180f3d\"],[0.2222222222222222,\"#440f76\"],[0.3333333333333333,\"#721f81\"],[0.4444444444444444,\"#9e2f7f\"],[0.5555555555555556,\"#cd4071\"],[0.6666666666666666,\"#f1605d\"],[0.7777777777777778,\"#fd9668\"],[0.8888888888888888,\"#feca8d\"],[1.0,\"#fcfdbf\"]],\"type\":\"heatmap\",\"x\":[\"JavaScript\",\"HTML/CSS\",\"SQL\",\"MySQL\",\"Python\",\"Java\",\"Node.js\",\"Bash/Shell/PowerShell\",\"jQuery\",\"C#\",\"PostgreSQL\",\"Microsoft SQL Server\",\"SQLite\",\"React.js\",\"PHP\",\"TypeScript\",\".NET\",\"C++\",\"MongoDB\",\"C\",\".NET Core\",\"Angular\",\"ASP.NET\",\"Redis\",\"Express\",\"MariaDB\",\"Oracle\",\"ASP.NET Core\",\"Vue.js\",\"Firebase\",\"Spring\",\"Angular.js\",\"Elasticsearch\",\"Pandas\",\"Django\",\"Flask\",\"Go\",\"Laravel\",\"TensorFlow\",\"React Native\",\"Kotlin\",\"Unity 3D\",\"Ruby\",\"Assembly\",\"VBA\",\"DynamoDB\",\"Swift\",\"R\",\"Ansible\",\"Ruby on Rails\",\"Rust\",\"Flutter\",\"Teraform\",\"Keras\",\"Cordova\",\"Xamarin\",\"Objective-C\",\"Dart\",\"Apache Spark\",\"Scala\",\"Torch/PyTorch\",\"Symfony\",\"Hadoop\",\"Perl\",\"Gatsby\",\"Cassandra\",\"IBM DB2\",\"Drupal\",\"Unreal Engine\",\"Haskell\",\"Puppet\",\"Couchbase\",\"Chef\",\"Julia\"],\"y\":[\"Marketing or sales professional\",\"Senior executive/VP\",\"Engineer, site reliability\",\"Scientist\",\"Product manager\",\"Engineering manager\",\"Developer, game or graphics\",\"Educator\",\"Academic researcher\",\"Engineer, data\",\"Developer, QA or test\",\"Data scientist or machine learning specialist\",\"Data or business analyst\",\"Developer, embedded applications or devices\",\"System administrator\",\"Designer\",\"Database administrator\",\"DevOps specialist\",\"Developer, mobile\",\"Developer, desktop or enterprise applications\",\"Developer, front-end\",\"Developer, full-stack\",\"Developer, back-end\"],\"ygap\":1,\"z\":[[71.02803738317756,76.63551401869158,57.78816199376947,61.37071651090342,38.62928348909657,32.242990654205606,41.74454828660436,31.15264797507788,45.482866043613704,25.70093457943925,30.062305295950154,31.15264797507788,32.398753894081,26.635514018691588,49.06542056074766,22.897196261682243,26.168224299065418,21.339563862928348,24.922118380062305,21.651090342679126,19.003115264797508,19.626168224299064,19.003115264797508,13.239875389408098,19.470404984423677,23.98753894080997,15.732087227414329,15.42056074766355,18.22429906542056,19.470404984423677,9.968847352024921,16.355140186915886,9.968847352024921,11.682242990654206,15.109034267912772,11.993769470404985,10.903426791277258,18.06853582554517,11.838006230529595,14.953271028037381,9.034267912772584,11.059190031152648,11.214953271028037,9.813084112149532,13.862928348909657,7.78816199376947,10.12461059190031,10.43613707165109,7.009345794392523,9.345794392523365,6.230529595015576,10.59190031152648,5.451713395638629,6.074766355140187,9.813084112149532,8.566978193146417,9.345794392523365,9.034267912772584,6.853582554517133,5.451713395638629,5.919003115264798,9.190031152647975,4.8286604361370715,7.78816199376947,9.034267912772584,5.919003115264798,5.763239875389408,9.968847352024921,6.853582554517133,4.205607476635514,4.517133956386292,6.230529595015576,4.672897196261682,4.049844236760125],[72.87878787878788,69.16666666666667,65.07575757575758,49.54545454545455,45.984848484848484,33.33333333333333,43.78787878787879,44.3939393939394,36.43939393939394,34.84848484848485,45.75757575757576,34.54545454545455,33.63636363636363,31.439393939393938,31.515151515151512,29.772727272727273,28.939393939393938,23.636363636363637,25.833333333333336,23.40909090909091,26.136363636363637,20.606060606060606,20.530303030303028,29.393939393939394,18.409090909090907,22.954545454545457,13.712121212121211,20.303030303030305,19.015151515151516,15.757575757575756,10.303030303030303,15.075757575757576,21.59090909090909,12.878787878787879,13.560606060606062,12.727272727272727,13.863636363636363,12.424242424242424,11.363636363636363,15.151515151515152,9.393939393939393,8.787878787878787,12.5,10.606060606060606,10.303030303030303,12.727272727272727,10.681818181818182,6.8181818181818175,10.53030303030303,10.378787878787879,7.954545454545454,7.878787878787878,9.242424242424242,6.4393939393939394,8.409090909090908,8.93939393939394,9.318181818181818,7.348484848484849,5.681818181818182,6.212121212121212,5.151515151515151,6.666666666666667,4.772727272727273,8.333333333333332,5.227272727272727,6.59090909090909,5.227272727272727,6.0606060606060606,4.318181818181818,3.4090909090909087,4.848484848484849,5.227272727272727,3.939393939393939,2.727272727272727],[65.87628865979381,58.50515463917526,61.701030927835056,53.76288659793814,59.896907216494846,39.948453608247426,42.628865979381445,61.49484536082475,30.97938144329897,26.134020618556704,49.432989690721655,28.04123711340206,30.77319587628866,28.298969072164947,28.09278350515464,27.010309278350515,20.36082474226804,21.494845360824744,28.60824742268041,20.670103092783503,19.02061855670103,18.04123711340206,14.484536082474229,40.0,19.329896907216497,24.690721649484537,12.886597938144329,14.896907216494846,14.793814432989691,10.77319587628866,15.206185567010309,15.257731958762887,33.76288659793815,12.216494845360824,16.34020618556701,20.412371134020617,30.20618556701031,9.587628865979383,8.350515463917525,9.742268041237114,9.175257731958762,6.701030927835052,16.391752577319586,7.628865979381444,6.855670103092784,18.402061855670105,5.206185567010309,5.309278350515464,26.134020618556704,10.257731958762886,11.237113402061857,5.927835051546391,25.51546391752577,4.22680412371134,5.103092783505154,4.587628865979381,4.587628865979381,4.278350515463917,7.422680412371134,7.783505154639175,3.865979381443299,6.288659793814433,6.494845360824743,9.845360824742269,4.896907216494846,8.8659793814433,3.711340206185567,5.206185567010309,3.1443298969072164,3.9690721649484533,9.278350515463918,3.65979381443299,8.041237113402062,2.0103092783505154],[48.465963566634706,47.02780441035475,43.672099712368166,39.213806327900286,67.68935762224353,32.98178331735379,25.98274209012464,42.42569511025887,25.071907957814,22.33940556088207,31.1601150527325,20.949185043144773,33.17353787152445,17.449664429530202,20.086289549376797,14.04602109300096,19.12751677852349,39.83700862895494,19.606903163950143,34.851390220517736,13.422818791946309,11.553211888782359,11.073825503355705,11.84084372003835,10.738255033557047,14.669223394055608,11.984659635666347,9.683604985618409,9.683604985618409,10.354745925215724,8.964525407478426,9.827420901246404,9.491850431447748,30.393096836049853,14.285714285714285,15.771812080536913,9.491850431447748,6.7114093959731544,24.30488974113135,7.28667305848514,5.944391179290508,8.724832214765101,7.766059443911794,11.601150527325025,9.731543624161073,5.512943432406519,6.2320230105465,22.24352828379674,6.136145733461169,5.704697986577181,8.820709491850431,5.417066155321189,3.883029721955897,16.155321188878236,4.650047938638543,4.410354745925216,5.321188878235858,3.978906999041227,6.85522531160115,5.129434324065196,12.224352828379674,3.883029721955897,6.85522531160115,6.615532118887824,2.924256951102589,4.1227229146692235,3.4995206136145733,3.691275167785235,4.026845637583892,4.554170661553212,2.3010546500479387,3.2598274209012463,2.1572387344199426,5.465004793863854],[73.00760913095715,69.60352422907489,63.115738886664,52.42290748898678,42.01041249499399,36.28354024829796,42.57108530236284,37.48498197837405,41.529835802963554,34.52142571085302,36.72406888265919,35.32238686423708,34.96195434521426,28.55426511814177,34.88185822987585,28.39407288746496,28.994793752503,22.947537044453345,26.111333600320386,20.94513416099319,22.3468161794153,21.105326391670005,20.464557468962756,20.50460552663196,18.622346816179416,20.704845814977972,15.618742490989188,16.900280336403682,16.940328394072885,17.22066479775731,10.732879455346415,15.818982779335203,15.93912695234281,10.332398878654384,12.975570684821786,11.17340808970765,11.533840608730477,12.655186223468162,8.970764917901482,12.214657589106928,9.130957148578293,9.010812975570685,10.13215859030837,7.649179014817781,10.492591109331197,8.53023628354025,10.01201441730076,6.888265919102923,6.888265919102923,7.929515418502203,5.206247496996395,7.889467360833,5.206247496996395,3.884661593912695,7.8494193031637955,7.529034841810173,8.049659591509812,6.207448938726472,4.685622747296756,3.2839407288746494,3.644373247897477,5.967160592711253,4.004805766920304,5.246295554665599,4.805766920304365,4.325190228273929,3.9247096515818978,5.246295554665599,3.2038446135362433,2.2827392871445733,3.0036043251902282,3.123748498197837,2.643171806167401,1.5618742490989186],[69.34654919236417,60.68281938325991,60.4258443465492,47.09985315712188,46.51248164464023,37.99559471365639,43.4654919236417,45.88839941262849,30.837004405286343,33.33333333333333,44.860499265785606,32.8928046989721,30.726872246696036,33.627019089574155,26.431718061674008,30.066079295154186,27.019089574155654,23.017621145374452,28.524229074889867,21.73274596182085,23.53157121879589,21.292217327459618,18.869309838472834,32.305433186490454,18.68575624082232,18.318649045521294,14.574155653450807,18.355359765051396,15.52863436123348,13.215859030837004,14.4640234948605,16.079295154185022,25.40381791483113,11.380323054331864,11.930983847283407,13.362701908957417,16.409691629955947,8.994126284875184,9.140969162995596,10.38913362701909,9.544787077826726,7.048458149779736,12.812041116005874,7.856093979441997,6.571218795888399,13.876651982378855,8.737151248164464,5.39647577092511,11.490455212922173,10.205580029368576,7.63582966226138,5.469897209985316,11.637298091042585,3.9647577092511015,5.947136563876652,5.726872246696035,7.599118942731277,4.441997063142438,6.424375917767988,7.085168869309838,3.81791483113069,5.359765051395008,5.8370044052863435,6.130690161527165,4.809104258443465,6.4610866372980915,3.81791483113069,4.662261380323055,2.679882525697504,2.679882525697504,4.5154185022026425,4.001468428781204,4.331864904552129,1.57856093979442],[67.22839727500897,62.459662961635,49.26496952312657,48.04589458587307,43.85084259591252,41.37683757619218,41.23341699533883,35.353173180351384,34.31337396916457,53.53173180351381,27.321620652563645,26.78379347436357,33.95482251703119,27.142344926496953,30.36930799569738,28.074578702043745,36.966654714951595,42.595912513445676,24.632484761563283,31.33739691645751,27.895302975977053,18.64467551093582,18.60882036572248,15.059160989602008,17.999282897095732,18.142703477949084,13.409824309788455,16.2782359268555,16.134815346002153,16.780207959842237,9.358192900681248,13.553244890641809,9.824309788454643,7.565435640014343,10.254571531014701,9.680889207601291,10.326281821441377,9.5016134815346,9.465758336321262,12.19074937253496,10.039440659734671,43.09788454643241,8.031552527787737,11.939763356041592,7.60129078522768,6.704912154894227,9.788454643241305,4.195051989960559,4.553603442093941,5.808533524560774,10.362136966654715,8.103262818214414,4.051631409107207,4.230907135173897,7.60129078522768,8.246683399067766,10.147006095374685,6.09537468626748,3.1911079239870923,3.2628182144137687,3.513804230907135,4.697024022947293,3.04768734313374,3.872355683040516,3.7289351021871644,2.6532807457870207,2.6174256005736822,3.657224811760488,16.098960200788813,3.155252778773754,2.4022947292936534,3.0118321979204015,2.007888131946934,1.3983506633201863],[68.4084699453552,66.80327868852459,56.62568306010929,53.85928961748634,45.25273224043716,39.9931693989071,39.58333333333333,38.18306010928962,37.36338797814208,29.57650273224044,34.18715846994536,28.927595628415297,34.80191256830601,27.86885245901639,32.99180327868852,26.331967213114755,25.136612021857925,27.732240437158467,26.400273224043712,25.37568306010929,18.237704918032787,20.32103825136612,16.35928961748634,16.87158469945355,18.954918032786885,21.311475409836063,15.881147540983607,13.866120218579233,15.23224043715847,16.188524590163937,13.524590163934427,14.685792349726775,12.295081967213115,12.978142076502733,13.114754098360656,12.09016393442623,9.084699453551913,11.441256830601093,10.758196721311474,11.441256830601093,9.870218579234972,9.426229508196721,8.777322404371585,9.562841530054644,8.435792349726775,6.796448087431695,6.864754098360656,9.221311475409836,6.762295081967213,6.4890710382513666,5.669398907103825,7.41120218579235,4.67896174863388,5.532786885245901,7.035519125683059,5.942622950819672,5.976775956284152,5.601092896174864,4.5423497267759565,4.132513661202186,4.337431693989071,5.498633879781421,3.927595628415301,5.669398907103825,4.474043715846995,3.5177595628415297,3.790983606557377,4.67896174863388,3.3811475409836067,4.200819672131147,2.8346994535519126,2.7663934426229506,2.288251366120219,2.185792349726776],[54.19481981981982,53.46283783783784,46.70608108108108,47.015765765765764,59.03716216216216,39.86486486486486,28.29391891891892,36.76801801801802,29.898648648648653,24.239864864864867,30.236486486486484,22.804054054054053,32.74211711711711,18.86261261261261,25.788288288288285,15.79391891891892,19.98873873873874,36.76801801801802,23.170045045045047,33.164414414414416,13.65427927927928,15.118243243243242,13.034909909909908,12.443693693693694,11.79617117117117,16.019144144144143,13.56981981981982,9.628378378378379,11.233108108108109,12.528153153153154,11.120495495495495,11.683558558558559,9.90990990990991,25.11261261261261,13.992117117117116,14.076576576576578,7.85472972972973,9.121621621621621,19.90427927927928,7.573198198198199,6.587837837837837,7.882882882882883,6.925675675675675,10.838963963963964,7.967342342342343,4.5608108108108105,5.63063063063063,17.989864864864867,4.842342342342342,5.405405405405405,6.78490990990991,5.574324324324325,3.0968468468468466,13.147522522522523,5.123873873873873,4.391891891891892,4.870495495495495,4.110360360360361,6.221846846846847,4.983108108108108,10.022522522522523,3.350225225225225,5.79954954954955,5.405405405405405,2.5337837837837838,3.800675675675676,3.040540540540541,3.2939189189189184,2.956081081081081,4.504504504504505,2.1114864864864864,2.505630630630631,1.5202702702702704,4.335585585585585],[56.90208667736758,52.59497057249867,67.1749598715891,49.67897271268058,65.08828250401284,40.44943820224719,31.942215088282506,43.90048154093098,29.507758159443554,26.64526484751204,44.0342429106474,34.4836811128946,32.102728731942214,21.187800963081862,22.953451043338685,18.432316746923487,21.74959871589085,23.809523809523807,27.314071696094167,22.98020331728197,16.934189406099517,15.302300695559124,14.526484751203853,21.910112359550563,13.456393793472445,16.613162118780096,18.726591760299627,12.413055109684324,11.985018726591761,11.20920278223649,14.018191546281432,12.867843766720172,20.278223649010165,32.530765115034775,16.559657570893528,22.364901016586412,11.797752808988763,7.784911717495987,17.415730337078653,7.410379882289994,6.71482075976458,6.821829855537722,7.811663991439273,7.2766185125735685,11.15569823434992,10.112359550561797,4.628143392188336,13.857677902621724,8.507223113964688,5.591225254146603,5.858747993579454,4.574638844301766,8.801498127340825,10.914927768860354,4.5211342964151955,4.735152487961477,4.360620652755484,3.2370251471375067,17.46923488496522,12.680577849117174,8.079186730872125,4.226859283039058,14.686998394863563,5.778491171749598,2.7822364901016585,7.490636704119851,4.333868378812198,3.210272873194221,2.701979668271803,2.8357410379882286,2.8089887640449436,3.504547886570358,2.354200107009096,2.247191011235955],[71.54801114770713,67.24094248796554,63.38991639219661,52.52090195084874,44.210793007347355,43.374714973397516,40.689130985558656,42.386622751456805,38.484925259690904,38.3582467696985,33.18976437800861,35.39397010387636,31.59361540410438,25.918419052444897,30.833544464149988,27.793260704332408,31.5682797061059,23.43552064859387,24.423612870534583,21.560678996706358,24.220927286546747,22.194071446668357,21.28198631872308,17.329617430960223,16.18951102102863,19.50848745882949,18.267038256903977,18.191031162908537,15.150747403090955,13.757284013174562,14.694704839118316,17.101596148973904,15.252090195084875,8.538130225487713,11.147707119331137,10.61565746136306,10.134279199391944,11.147707119331137,6.764631365594122,9.095515581454269,8.79148720547251,8.71548011147707,9.602229541423867,6.865974157588041,8.99417278946035,7.575373701545478,6.6632885736002025,4.079047377755257,7.347352419559158,6.435267291613885,5.117810995692931,5.4218393716746895,5.573853559665569,2.837598175829744,6.485938687610844,6.257917405624525,5.649860653661008,4.155054471750697,3.749683303775019,3.775019001773499,2.5842411958449456,5.092475297694452,3.2936407398023815,5.903217633645807,3.014948061819103,3.4709906257917407,3.7243476057765394,4.4590828477324544,3.166962249809982,2.2802128198631872,3.2176336458069423,2.5842411958449456,2.482898403851026,1.3681276919179122],[48.26980942828485,48.24473420260782,58.45035105315948,46.26379137412236,78.33500501504514,35.05516549648947,25.651955867602812,39.56870611835506,24.172517552657975,21.339017051153462,39.1173520561685,27.256770310932797,33.45035105315948,18.756268806419257,18.004012036108325,13.99197592778335,17.201604814443332,29.789368104312942,25.827482447342025,25.050150451354064,13.440320962888666,12.637913741223672,11.158475426278837,15.220661985957873,10.782347041123371,13.665997993981946,16.098294884653964,9.378134403209629,9.829488465396189,9.954864593781345,9.553660982948847,10.75727181544634,15.57171514543631,50.075225677031085,19.132397191574725,26.4543630892678,9.553660982948847,6.218655967903711,37.938816449348046,7.246740220661986,5.917753259779338,6.64493480441324,6.41925777331996,7.5225677031093285,9.327983951855568,7.096288866599799,4.689067201604814,27.632898696088265,6.093279839518555,4.663991975927784,6.218655967903711,4.789368104312939,5.1654964894684054,27.256770310932797,3.7612838515546643,3.5857572718154462,3.8114343029087263,3.3600802407221666,15.697091273821465,8.375125376128386,19.834503510531594,2.8084252758274824,12.963891675025074,4.413239719157472,2.683049147442327,5.441323971915748,3.786359077231695,2.8335005015045134,2.7582748244734203,3.6609829488465397,2.432296890672016,2.3570712136409226,2.0812437311935805,4.237713139418255],[57.55467196819085,58.97117296222664,73.45924453280318,49.6520874751491,53.23061630218688,31.088469184890656,27.907554671968192,34.69184890656064,33.64811133200795,31.6351888667992,34.09542743538768,45.80019880715705,30.66600397614314,17.2713717693837,25.894632206759443,16.84890656063618,28.45427435387674,18.961232604373755,19.905566600397613,17.544731610337973,19.25944333996024,14.48807157057654,20.601391650099405,11.928429423459244,10.636182902584492,16.575546719681906,22.39065606361829,15.283300198807156,10.43737574552684,9.542743538767395,8.722664015904574,12.226640159045726,11.456262425447317,26.988071570576537,13.543737574552683,14.41351888667992,6.312127236580517,8.623260437375746,13.643141153081512,6.535785288270378,4.920477137176938,5.193836978131213,6.163021868787276,5.8399602385685885,18.961232604373755,5.666003976143141,4.150099403578529,18.93638170974155,4.52286282306163,4.920477137176938,3.354870775347912,4.398608349900597,3.354870775347912,7.75347912524851,4.796222664015905,5.318091451292246,3.6779324055666,3.1560636182902586,8.499005964214712,4.473161033797217,5.790258449304175,3.6530815109343937,7.952286282306163,4.970178926441352,2.261431411530815,3.5288270377733597,5.5168986083499005,3.8270377733598413,2.0129224652087476,2.360834990059642,2.3111332007952288,2.3856858846918487,1.9880715705765408,1.8638170974155068],[58.37894736842105,54.10526315789473,49.55789473684211,45.03157894736842,50.27368421052631,39.83157894736842,34.0,43.97894736842105,30.484210526315792,38.33684210526316,29.957894736842107,30.589473684210528,38.821052631578944,19.747368421052634,25.157894736842106,22.526315789473685,32.61052631578947,47.473684210526315,20.968421052631577,47.89473684210526,24.08421052631579,18.821052631578947,19.11578947368421,14.526315789473685,13.094736842105261,17.49473684210526,15.073684210526316,16.568421052631578,12.021052631578948,13.368421052631579,10.505263157894737,14.547368421052632,10.042105263157895,9.284210526315789,10.547368421052632,10.821052631578947,10.778947368421052,8.063157894736841,10.442105263157893,9.178947368421053,9.284210526315789,10.063157894736841,7.178947368421053,15.389473684210525,9.494736842105263,6.421052631578947,9.263157894736842,4.378947368421052,5.747368421052632,4.905263157894737,9.031578947368422,7.178947368421053,3.4526315789473685,4.757894736842106,7.284210526315789,9.010526315789473,8.715789473684211,5.663157894736842,3.494736842105263,3.136842105263158,3.8947368421052633,3.7263157894736847,3.0947368421052635,5.6421052631578945,2.4842105263157896,3.663157894736842,3.494736842105263,2.926315789473684,3.7894736842105265,2.863157894736842,2.168421052631579,2.8000000000000003,1.831578947368421,1.263157894736842],[71.04158718046547,69.49637542922548,68.14193056085463,57.535291873330785,50.91568103777184,35.80694391453644,38.744753910721094,54.94086226631056,41.26287676459366,31.896222815719188,40.499809233117126,35.23464326592903,35.12018313620756,22.128958412819536,39.75581838992751,23.52155665776421,26.955360549408624,23.61694009919878,23.712323540633346,23.998473864937047,19.896985883250668,17.798550171690195,18.06562380770698,23.73140022892026,15.566577642121327,31.55284242655475,15.261350629530712,14.6699732926364,16.19610835558947,10.282334986646319,9.786341091186571,13.620755436856161,17.3788630293781,9.462037390309042,14.498283098054177,13.639832125143075,13.964135826020602,12.361694009919878,7.058374666157954,7.458985120183136,6.447920640976726,7.954979015642884,10.511255246089279,8.393742846241894,10.702022128958413,7.039297977871041,5.322396032048837,5.207935902327356,15.070583746661578,6.75314765356734,7.306371613887828,5.265165967188096,9.080503624570776,3.0331934376192295,5.990080122090805,5.589469668065624,4.425791682563907,4.101487981686379,4.120564669973293,3.452880579931324,2.918733307897749,6.447920640976726,3.6818008393742843,8.260206028233497,2.861503243037009,4.311331552842427,3.719954215948111,5.11255246089279,3.4147272033574967,2.708889736741702,5.0362457077451355,2.689813048454788,3.5864173979397176,1.2590614269362839],[75.98195827851907,74.87314414583724,58.804735951888745,55.19639165570381,35.951888742717536,35.89550836308965,41.890622063521896,30.182296560796846,45.74328133809434,35.08738958842323,25.803420409697424,32.77579402367976,29.900394662657398,29.017102048487125,37.981582409321554,27.870700996053372,29.24262356699868,24.130802480736705,23.003194888178914,22.533358391279833,19.921067468520956,22.834053749295244,20.710392783311406,11.445217064461568,18.248449539560234,18.53035143769968,15.260289419282088,14.809246382258973,17.308776545762075,16.500657771095657,9.302762638601767,16.93290734824281,8.851719601578651,6.483743657207292,10.129674873144145,7.83687276827664,6.558917496711144,12.666791956399173,6.107874459688029,11.069347866942305,7.103927833114076,10.467957150911483,6.840819394850592,7.0287539936102235,9.528284157113324,4.999060327006202,7.479797030633339,4.491636910355196,3.7398985153166695,5.299755685021613,3.6083442961849275,6.897199774478481,2.3491824844953957,2.180041345611727,6.9723736139823345,6.29580905844766,5.713211802292802,4.961473407254275,2.837812441270438,1.8793459875963165,2.405562864123285,4.134561172711896,2.499530163503101,4.134561172711896,4.698364968990791,2.5559105431309903,3.4579966171772227,4.773538808494644,4.021800413456117,1.935726367224206,2.161247885735764,2.2364217252396164,1.5410637098289794,0.9208795339221951],[74.27472911569382,73.06885704299197,80.07689619014332,59.402306885704306,42.24047535826634,35.04019573575673,38.67528836071304,43.411394617266694,47.6581614819993,40.38797623208668,37.189793778399164,46.01537923802866,32.52359314924851,22.859140160782943,41.50646627053477,24.23977630199231,35.389723872771754,20.447396015379237,23.593149248514507,19.18909472212513,25.09612023767913,19.64348130024467,26.82628451590353,19.975533030408947,15.798671793079343,27.455435162530584,18.175463124781547,20.027962250961203,16.58511010136316,12.320866829779797,9.664452988465571,16.07829430269137,14.872422229989516,10.013981125480601,12.111149947570778,11.464522894092974,10.013981125480601,15.379238028661307,6.850751485494583,9.140160782943028,6.291506466270534,7.462425725270884,7.444949318420132,6.850751485494583,13.491786088780147,6.815798671793079,5.924501922404754,6.274030059419783,8.091576371897938,5.522544564837469,4.526389374344634,5.522544564837469,5.312827682628452,2.883607130373995,6.780845858091576,7.3051380636141205,5.173016427822439,4.229290457881859,4.2642432715833625,3.0408947920307585,2.7962250961202377,6.256553652569032,3.862285914016078,6.23907724571828,2.778748689269486,3.670045438657812,4.037049982523593,4.596295001747641,2.6738902481649776,2.009786787836421,2.9010835372247463,2.6389374344634744,2.2719328905976934,0.9262495630898288],[70.29653208242587,62.70732115932317,63.05913888423521,48.4335734628916,51.76746523705813,38.43189814039202,43.457865639135534,58.68654716032836,33.690735466577316,35.13151281621712,45.04942201373765,35.91891439102027,29.88775339252806,28.76528731780868,26.553861618361534,32.166191991958456,28.7987937678003,18.26101524543475,29.38515664265371,17.574133020606467,26.687887418328028,23.370748869157314,20.924778019768805,32.83632099179092,18.445300720388673,23.203216619199196,15.831797621042051,22.04724409448819,16.736471770815882,10.956609147260847,16.334394370916403,15.412966996146757,27.00619869324845,10.722063997319484,13.63712514659072,15.915563746021109,19.919584520020102,9.130507622717374,7.823756073044061,8.828949572792762,8.175573797956107,6.13168034846708,12.079075221980231,5.327525548668119,5.8803819735299045,13.838163846540457,4.891941698777014,4.288825598927794,20.857765119785558,7.287652873178087,7.321159323169709,4.875188473781203,17.440107220639973,3.7862288490534426,5.763109398559223,5.394538448651366,4.087786898978053,3.7694756240576313,5.243759423689061,5.411291673647177,2.680515999329871,5.428044898642989,4.741162673814709,6.349472273412632,3.886748199028313,5.846875523538281,3.668956274082761,3.886748199028313,2.0606466744848384,2.4794772993801306,5.712849723571788,3.5349304741162673,5.277265873680684,0.9884402747528899],[66.64205863741827,60.69394642480489,50.28475005273149,50.34802784222738,31.195950221472263,49.44104619278633,40.82472052309639,26.323560430288968,33.769246994305,34.09618224003375,27.54693102720945,28.11643113267243,43.35583210293187,30.24678337903396,29.339801729592914,29.962033326302468,26.102088167053367,22.51634676228644,25.079097236869856,19.521198059481122,20.702383463404345,22.54798565703438,18.519299725796245,14.047669268086901,19.721577726218097,15.85108626871968,12.507909723686986,15.977641847711455,13.636363636363635,28.685931238135414,11.970048512971946,14.764817549040288,9.586585108626872,5.526260282640793,9.20691837165155,7.456232862265345,7.4035013710187725,11.0630668635309,7.034380932292765,19.700485129719468,20.934402024889266,11.126344653026788,7.087112423539338,5.357519510651762,5.389158405399705,6.116852984602405,21.145327989875554,2.963509808057372,3.0478801940518876,5.199325036912044,3.4591858257751533,14.226956338325248,2.858046825564227,2.815861632566969,11.020881670533642,11.569289179497996,14.923012022780005,11.27399282851719,2.1619911411094703,2.214722632356043,2.0987133516135836,3.627926597764185,1.9510651761231808,2.4151022990930184,3.3748154397806367,2.27800042185193,2.2041763341067284,2.7736764395697113,3.290445053786121,1.4975743514026576,1.4975743514026576,2.3096393165998736,1.0651761231807635,0.5484075089643535],[65.69925322471147,61.31194840461644,62.02477936184657,43.73727087576375,36.10828241683639,40.73319755600815,33.71520706042091,36.21011541072641,35.429395790902916,51.332315003394434,29.14969450101833,45.13747454175153,31.551255940257978,21.452817379497624,22.174134419551937,28.301086218601494,45.58723693143245,28.131364562118126,20.38357094365241,22.87847929395791,33.29938900203666,22.284453496266124,28.615071283095723,13.441955193482688,12.81398506449423,14.850644942294636,20.08655804480652,25.19517990495587,11.617447386286491,10.140868974881196,15.08825526137135,14.867617107942973,11.074338085539715,6.916157501697216,7.781737949762389,7.73082145281738,7.909029192124915,6.839782756279702,5.872369314324508,7.4168363883231505,6.907671418873049,8.630346232179226,5.337746096401901,6.737949762389681,10.123896809232859,5.18499660556687,5.762050237610318,3.63204344874406,4.2175831636116765,3.513238289205703,5.371690427698574,4.760692464358452,3.250169721656483,2.6391717583163614,5.609300746775289,8.621860149355058,5.066191446028514,3.699932111337407,2.842837746096402,3.054989816700611,2.096062457569586,2.842837746096402,2.6476578411405294,3.699932111337407,1.8584521384928716,2.7155465037338766,3.920570264765784,2.3167006109979633,2.774949083503055,1.8499660556687034,1.7566191446028514,2.197895451459606,1.2983706720977597,0.721317040054311],[84.0128989943157,78.31219938784434,56.394840402273715,50.841714035854835,31.29645824223874,33.728683865325756,49.36051595977263,29.334280717096632,43.56689986882379,33.542850896370794,30.908395277656318,31.383909051158724,25.912767818102317,40.10712724092698,32.624617402710975,39.0194578049847,27.169873196327067,16.04722343681679,26.929383471797113,14.675338871884566,21.523830345430696,28.377787494534324,20.529077393965895,16.40249234805422,23.048753825972888,16.708570179274158,13.609532138172279,17.539352864013992,19.266506340183646,15.828596414516834,11.636423261915173,18.03126366418889,11.368605159597726,5.596851770878881,9.368167905553126,7.804984696108439,7.542632269348491,11.472452995190205,5.0120244862264975,12.762352426759948,6.711849584608657,7.362264975951027,7.25295146480105,3.9735461303017057,6.3456493222562305,6.006777437691299,5.875601224311325,2.9514648010494096,3.9516834280717097,5.711630957586357,3.8860953213817226,5.728027984258855,3.219282903366856,2.1425448185395717,7.1217752514210755,5.378224748578924,4.328815041539134,4.394403148229121,2.04962833406209,2.295583734149541,1.5686488850021865,4.257761259291649,1.7654132050721467,2.6125929164844774,5.329033668561435,2.109750765194578,2.3611718408395275,3.4707039790118057,2.104285089637079,1.6178399650196764,1.579580236117184,1.8419326628771315,1.0439440314822912,0.4481853957149104],[81.99078341013825,73.78433179723503,62.046082949308754,50.22672811059908,36.20276497695853,36.781566820276495,47.34009216589862,33.500460829493086,42.08663594470046,36.37603686635945,36.022119815668205,34.82764976958526,26.392626728110596,36.22857142857143,30.311520737327193,37.235023041474655,29.423041474654376,16.250691244239633,27.188940092165897,14.422119815668202,24.287557603686636,26.70230414746544,22.55115207373272,20.903225806451616,21.92442396313364,17.142857142857142,14.816589861751153,20.468202764976958,18.001843317972348,13.12442396313364,14.975115207373271,16.94377880184332,14.381566820276499,7.498617511520737,10.665437788018433,10.031336405529954,9.209216589861752,11.163133640552996,5.7695852534562215,10.694930875576036,6.705990783410138,6.473732718894009,8.468202764976958,3.845161290322581,5.776958525345622,7.472811059907834,4.836866359447005,3.288479262672811,5.393548387096774,6.731797235023042,4.497695852534562,5.172350230414747,4.748387096774193,2.6764976958525346,6.016589861751152,5.131797235023042,3.44331797235023,3.911520737327189,2.790783410138249,3.1889400921658986,1.9649769585253458,4.313364055299539,2.3483870967741938,2.8829493087557605,4.1732718894009215,2.79815668202765,2.647004608294931,3.0414746543778803,1.824884792626728,1.6921658986175117,1.7253456221198158,1.9944700460829492,1.4414746543778802,0.5124423963133641],[69.39180255619215,61.38901131188482,61.37432055237255,49.397678859997065,39.86704862641399,39.848685177023654,37.55692669311003,35.71323637432055,35.54796532980755,34.023799030409876,36.95093286322903,32.90362861759953,27.03099750257088,26.23402379903041,28.14382253562509,27.838989275745558,27.725135889525486,19.244894961069487,24.63273101219333,17.17349786983987,22.62009695901278,20.761715880711034,19.861906860584693,21.77537828705744,16.203907742030264,17.412222711914204,15.715439988247393,18.168796826795948,14.297781695313647,10.78301748200382,16.369178786543266,13.478771852504776,16.101072425444396,8.939327163214337,11.223740267371824,11.10621419127369,11.146613779932423,10.327603937123548,6.335390039665051,7.973409725282797,7.271925958572058,6.217863963566916,7.988100484795065,4.745115322462171,5.718378140149846,7.841192889672397,4.539444689290437,3.5735272513588954,6.691640957837521,5.935066842955781,5.417217570148377,4.392537094167769,5.79183193771118,3.114441016600558,4.712061113559571,4.7157338034376375,3.400910827089761,3.4045835169678274,3.926105479653298,4.631261936242104,2.2770677244013515,4.381519024533569,3.3127662700161595,3.514764213309828,2.6516820919641546,3.782870574408697,2.743499338915822,2.7030997502570884,1.7775819009842808,2.0016159835463494,1.9869252240340824,2.0603790215954163,1.604965476715146,0.5619215513442045]]}],                        {\"height\":700,\"template\":{\"data\":{\"bar\":[{\"error_x\":{\"color\":\"#2a3f5f\"},\"error_y\":{\"color\":\"#2a3f5f\"},\"marker\":{\"line\":{\"color\":\"#E5ECF6\",\"width\":0.5},\"pattern\":{\"fillmode\":\"overlay\",\"size\":10,\"solidity\":0.2}},\"type\":\"bar\"}],\"barpolar\":[{\"marker\":{\"line\":{\"color\":\"#E5ECF6\",\"width\":0.5},\"pattern\":{\"fillmode\":\"overlay\",\"size\":10,\"solidity\":0.2}},\"type\":\"barpolar\"}],\"carpet\":[{\"aaxis\":{\"endlinecolor\":\"#2a3f5f\",\"gridcolor\":\"white\",\"linecolor\":\"white\",\"minorgridcolor\":\"white\",\"startlinecolor\":\"#2a3f5f\"},\"baxis\":{\"endlinecolor\":\"#2a3f5f\",\"gridcolor\":\"white\",\"linecolor\":\"white\",\"minorgridcolor\":\"white\",\"startlinecolor\":\"#2a3f5f\"},\"type\":\"carpet\"}],\"choropleth\":[{\"colorbar\":{\"outlinewidth\":0,\"ticks\":\"\"},\"type\":\"choropleth\"}],\"contour\":[{\"colorbar\":{\"outlinewidth\":0,\"ticks\":\"\"},\"colorscale\":[[0.0,\"#0d0887\"],[0.1111111111111111,\"#46039f\"],[0.2222222222222222,\"#7201a8\"],[0.3333333333333333,\"#9c179e\"],[0.4444444444444444,\"#bd3786\"],[0.5555555555555556,\"#d8576b\"],[0.6666666666666666,\"#ed7953\"],[0.7777777777777778,\"#fb9f3a\"],[0.8888888888888888,\"#fdca26\"],[1.0,\"#f0f921\"]],\"type\":\"contour\"}],\"contourcarpet\":[{\"colorbar\":{\"outlinewidth\":0,\"ticks\":\"\"},\"type\":\"contourcarpet\"}],\"heatmap\":[{\"colorbar\":{\"outlinewidth\":0,\"ticks\":\"\"},\"colorscale\":[[0.0,\"#0d0887\"],[0.1111111111111111,\"#46039f\"],[0.2222222222222222,\"#7201a8\"],[0.3333333333333333,\"#9c179e\"],[0.4444444444444444,\"#bd3786\"],[0.5555555555555556,\"#d8576b\"],[0.6666666666666666,\"#ed7953\"],[0.7777777777777778,\"#fb9f3a\"],[0.8888888888888888,\"#fdca26\"],[1.0,\"#f0f921\"]],\"type\":\"heatmap\"}],\"heatmapgl\":[{\"colorbar\":{\"outlinewidth\":0,\"ticks\":\"\"},\"colorscale\":[[0.0,\"#0d0887\"],[0.1111111111111111,\"#46039f\"],[0.2222222222222222,\"#7201a8\"],[0.3333333333333333,\"#9c179e\"],[0.4444444444444444,\"#bd3786\"],[0.5555555555555556,\"#d8576b\"],[0.6666666666666666,\"#ed7953\"],[0.7777777777777778,\"#fb9f3a\"],[0.8888888888888888,\"#fdca26\"],[1.0,\"#f0f921\"]],\"type\":\"heatmapgl\"}],\"histogram\":[{\"marker\":{\"pattern\":{\"fillmode\":\"overlay\",\"size\":10,\"solidity\":0.2}},\"type\":\"histogram\"}],\"histogram2d\":[{\"colorbar\":{\"outlinewidth\":0,\"ticks\":\"\"},\"colorscale\":[[0.0,\"#0d0887\"],[0.1111111111111111,\"#46039f\"],[0.2222222222222222,\"#7201a8\"],[0.3333333333333333,\"#9c179e\"],[0.4444444444444444,\"#bd3786\"],[0.5555555555555556,\"#d8576b\"],[0.6666666666666666,\"#ed7953\"],[0.7777777777777778,\"#fb9f3a\"],[0.8888888888888888,\"#fdca26\"],[1.0,\"#f0f921\"]],\"type\":\"histogram2d\"}],\"histogram2dcontour\":[{\"colorbar\":{\"outlinewidth\":0,\"ticks\":\"\"},\"colorscale\":[[0.0,\"#0d0887\"],[0.1111111111111111,\"#46039f\"],[0.2222222222222222,\"#7201a8\"],[0.3333333333333333,\"#9c179e\"],[0.4444444444444444,\"#bd3786\"],[0.5555555555555556,\"#d8576b\"],[0.6666666666666666,\"#ed7953\"],[0.7777777777777778,\"#fb9f3a\"],[0.8888888888888888,\"#fdca26\"],[1.0,\"#f0f921\"]],\"type\":\"histogram2dcontour\"}],\"mesh3d\":[{\"colorbar\":{\"outlinewidth\":0,\"ticks\":\"\"},\"type\":\"mesh3d\"}],\"parcoords\":[{\"line\":{\"colorbar\":{\"outlinewidth\":0,\"ticks\":\"\"}},\"type\":\"parcoords\"}],\"pie\":[{\"automargin\":true,\"type\":\"pie\"}],\"scatter\":[{\"marker\":{\"colorbar\":{\"outlinewidth\":0,\"ticks\":\"\"}},\"type\":\"scatter\"}],\"scatter3d\":[{\"line\":{\"colorbar\":{\"outlinewidth\":0,\"ticks\":\"\"}},\"marker\":{\"colorbar\":{\"outlinewidth\":0,\"ticks\":\"\"}},\"type\":\"scatter3d\"}],\"scattercarpet\":[{\"marker\":{\"colorbar\":{\"outlinewidth\":0,\"ticks\":\"\"}},\"type\":\"scattercarpet\"}],\"scattergeo\":[{\"marker\":{\"colorbar\":{\"outlinewidth\":0,\"ticks\":\"\"}},\"type\":\"scattergeo\"}],\"scattergl\":[{\"marker\":{\"colorbar\":{\"outlinewidth\":0,\"ticks\":\"\"}},\"type\":\"scattergl\"}],\"scattermapbox\":[{\"marker\":{\"colorbar\":{\"outlinewidth\":0,\"ticks\":\"\"}},\"type\":\"scattermapbox\"}],\"scatterpolar\":[{\"marker\":{\"colorbar\":{\"outlinewidth\":0,\"ticks\":\"\"}},\"type\":\"scatterpolar\"}],\"scatterpolargl\":[{\"marker\":{\"colorbar\":{\"outlinewidth\":0,\"ticks\":\"\"}},\"type\":\"scatterpolargl\"}],\"scatterternary\":[{\"marker\":{\"colorbar\":{\"outlinewidth\":0,\"ticks\":\"\"}},\"type\":\"scatterternary\"}],\"surface\":[{\"colorbar\":{\"outlinewidth\":0,\"ticks\":\"\"},\"colorscale\":[[0.0,\"#0d0887\"],[0.1111111111111111,\"#46039f\"],[0.2222222222222222,\"#7201a8\"],[0.3333333333333333,\"#9c179e\"],[0.4444444444444444,\"#bd3786\"],[0.5555555555555556,\"#d8576b\"],[0.6666666666666666,\"#ed7953\"],[0.7777777777777778,\"#fb9f3a\"],[0.8888888888888888,\"#fdca26\"],[1.0,\"#f0f921\"]],\"type\":\"surface\"}],\"table\":[{\"cells\":{\"fill\":{\"color\":\"#EBF0F8\"},\"line\":{\"color\":\"white\"}},\"header\":{\"fill\":{\"color\":\"#C8D4E3\"},\"line\":{\"color\":\"white\"}},\"type\":\"table\"}]},\"layout\":{\"annotationdefaults\":{\"arrowcolor\":\"#2a3f5f\",\"arrowhead\":0,\"arrowwidth\":1},\"autotypenumbers\":\"strict\",\"coloraxis\":{\"colorbar\":{\"outlinewidth\":0,\"ticks\":\"\"}},\"colorscale\":{\"diverging\":[[0,\"#8e0152\"],[0.1,\"#c51b7d\"],[0.2,\"#de77ae\"],[0.3,\"#f1b6da\"],[0.4,\"#fde0ef\"],[0.5,\"#f7f7f7\"],[0.6,\"#e6f5d0\"],[0.7,\"#b8e186\"],[0.8,\"#7fbc41\"],[0.9,\"#4d9221\"],[1,\"#276419\"]],\"sequential\":[[0.0,\"#0d0887\"],[0.1111111111111111,\"#46039f\"],[0.2222222222222222,\"#7201a8\"],[0.3333333333333333,\"#9c179e\"],[0.4444444444444444,\"#bd3786\"],[0.5555555555555556,\"#d8576b\"],[0.6666666666666666,\"#ed7953\"],[0.7777777777777778,\"#fb9f3a\"],[0.8888888888888888,\"#fdca26\"],[1.0,\"#f0f921\"]],\"sequentialminus\":[[0.0,\"#0d0887\"],[0.1111111111111111,\"#46039f\"],[0.2222222222222222,\"#7201a8\"],[0.3333333333333333,\"#9c179e\"],[0.4444444444444444,\"#bd3786\"],[0.5555555555555556,\"#d8576b\"],[0.6666666666666666,\"#ed7953\"],[0.7777777777777778,\"#fb9f3a\"],[0.8888888888888888,\"#fdca26\"],[1.0,\"#f0f921\"]]},\"colorway\":[\"#636efa\",\"#EF553B\",\"#00cc96\",\"#ab63fa\",\"#FFA15A\",\"#19d3f3\",\"#FF6692\",\"#B6E880\",\"#FF97FF\",\"#FECB52\"],\"font\":{\"color\":\"#2a3f5f\"},\"geo\":{\"bgcolor\":\"white\",\"lakecolor\":\"white\",\"landcolor\":\"#E5ECF6\",\"showlakes\":true,\"showland\":true,\"subunitcolor\":\"white\"},\"hoverlabel\":{\"align\":\"left\"},\"hovermode\":\"closest\",\"mapbox\":{\"style\":\"light\"},\"paper_bgcolor\":\"white\",\"plot_bgcolor\":\"#E5ECF6\",\"polar\":{\"angularaxis\":{\"gridcolor\":\"white\",\"linecolor\":\"white\",\"ticks\":\"\"},\"bgcolor\":\"#E5ECF6\",\"radialaxis\":{\"gridcolor\":\"white\",\"linecolor\":\"white\",\"ticks\":\"\"}},\"scene\":{\"xaxis\":{\"backgroundcolor\":\"#E5ECF6\",\"gridcolor\":\"white\",\"gridwidth\":2,\"linecolor\":\"white\",\"showbackground\":true,\"ticks\":\"\",\"zerolinecolor\":\"white\"},\"yaxis\":{\"backgroundcolor\":\"#E5ECF6\",\"gridcolor\":\"white\",\"gridwidth\":2,\"linecolor\":\"white\",\"showbackground\":true,\"ticks\":\"\",\"zerolinecolor\":\"white\"},\"zaxis\":{\"backgroundcolor\":\"#E5ECF6\",\"gridcolor\":\"white\",\"gridwidth\":2,\"linecolor\":\"white\",\"showbackground\":true,\"ticks\":\"\",\"zerolinecolor\":\"white\"}},\"shapedefaults\":{\"line\":{\"color\":\"#2a3f5f\"}},\"ternary\":{\"aaxis\":{\"gridcolor\":\"white\",\"linecolor\":\"white\",\"ticks\":\"\"},\"baxis\":{\"gridcolor\":\"white\",\"linecolor\":\"white\",\"ticks\":\"\"},\"bgcolor\":\"#E5ECF6\",\"caxis\":{\"gridcolor\":\"white\",\"linecolor\":\"white\",\"ticks\":\"\"}},\"title\":{\"x\":0.05},\"xaxis\":{\"automargin\":true,\"gridcolor\":\"white\",\"linecolor\":\"white\",\"ticks\":\"\",\"title\":{\"standoff\":15},\"zerolinecolor\":\"white\",\"zerolinewidth\":2},\"yaxis\":{\"automargin\":true,\"gridcolor\":\"white\",\"linecolor\":\"white\",\"ticks\":\"\",\"title\":{\"standoff\":15},\"zerolinecolor\":\"white\",\"zerolinewidth\":2}}},\"width\":1000},                        {\"responsive\": true}                    ).then(function(){\n",
       "                            \n",
       "var gd = document.getElementById('54771aff-a7dc-4112-8352-d4808510eb82');\n",
       "var x = new MutationObserver(function (mutations, observer) {{\n",
       "        var display = window.getComputedStyle(gd).display;\n",
       "        if (!display || display === 'none') {{\n",
       "            console.log([gd, 'removed!']);\n",
       "            Plotly.purge(gd);\n",
       "            observer.disconnect();\n",
       "        }}\n",
       "}});\n",
       "\n",
       "// Listen for the removal of the full notebook cells\n",
       "var notebookContainer = gd.closest('#notebook-container');\n",
       "if (notebookContainer) {{\n",
       "    x.observe(notebookContainer, {childList: true});\n",
       "}}\n",
       "\n",
       "// Listen for the clearing of the current output cell\n",
       "var outputEl = gd.closest('.output');\n",
       "if (outputEl) {{\n",
       "    x.observe(outputEl, {childList: true});\n",
       "}}\n",
       "\n",
       "                        })                };                });            </script>        </div>"
      ]
     },
     "metadata": {},
     "output_type": "display_data"
    }
   ],
   "source": [
    "fig = go.Figure(data=go.Heatmap(z=skills,x=skills.columns,y=skills.index,colorscale='magma',ygap=1))\n",
    "fig.update_layout(width=1000,height=700)\n",
    "\n",
    "fig.show()"
   ]
  },
  {
   "cell_type": "markdown",
   "id": "5e6c96f0-3c3c-47d6-af98-d7af1a112a32",
   "metadata": {},
   "source": [
    "Create Jobs Dendogram"
   ]
  },
  {
   "cell_type": "code",
   "execution_count": null,
   "id": "a44b0774-d786-49fd-809c-03c3e3b62783",
   "metadata": {},
   "outputs": [],
   "source": [
    "# roles_short_dict = roles_names.set_index('Original name')[\"Short name \"].to_dict()\n",
    "# short_labels = [roles_short_dict[role] for role in sorted_roles]"
   ]
  },
  {
   "cell_type": "code",
   "execution_count": 38,
   "id": "282bbf13-2bad-435b-92b7-1d95af93b38e",
   "metadata": {},
   "outputs": [
    {
     "data": {
      "application/vnd.plotly.v1+json": {
       "config": {
        "plotlyServerURL": "https://plot.ly"
       },
       "data": [
        {
         "hoverinfo": "text",
         "marker": {
          "color": "rgb(0,116,217)"
         },
         "mode": "lines",
         "type": "scatter",
         "x": [
          0,
          41.14498935018818,
          41.14498935018818,
          0
         ],
         "xaxis": "x",
         "y": [
          -5,
          -5,
          -15,
          -15
         ],
         "yaxis": "y"
        },
        {
         "hoverinfo": "text",
         "marker": {
          "color": "rgb(0,116,217)"
         },
         "mode": "lines",
         "type": "scatter",
         "x": [
          0,
          23.415207784184553,
          23.415207784184553,
          0
         ],
         "xaxis": "x",
         "y": [
          -35,
          -35,
          -45,
          -45
         ],
         "yaxis": "y"
        },
        {
         "hoverinfo": "text",
         "marker": {
          "color": "rgb(0,116,217)"
         },
         "mode": "lines",
         "type": "scatter",
         "x": [
          0,
          52.340165012688196,
          52.340165012688196,
          23.415207784184553
         ],
         "xaxis": "x",
         "y": [
          -25,
          -25,
          -40,
          -40
         ],
         "yaxis": "y"
        },
        {
         "hoverinfo": "text",
         "marker": {
          "color": "rgb(0,116,217)"
         },
         "mode": "lines",
         "type": "scatter",
         "x": [
          41.14498935018818,
          67.31889053873888,
          67.31889053873888,
          52.340165012688196
         ],
         "xaxis": "x",
         "y": [
          -10,
          -10,
          -32.5,
          -32.5
         ],
         "yaxis": "y"
        },
        {
         "hoverinfo": "text",
         "marker": {
          "color": "rgb(0,116,217)"
         },
         "mode": "lines",
         "type": "scatter",
         "x": [
          0,
          21.7634879959641,
          21.7634879959641,
          0
         ],
         "xaxis": "x",
         "y": [
          -75,
          -75,
          -85,
          -85
         ],
         "yaxis": "y"
        },
        {
         "hoverinfo": "text",
         "marker": {
          "color": "rgb(0,116,217)"
         },
         "mode": "lines",
         "type": "scatter",
         "x": [
          0,
          32.92909740643204,
          32.92909740643204,
          21.7634879959641
         ],
         "xaxis": "x",
         "y": [
          -65,
          -65,
          -80,
          -80
         ],
         "yaxis": "y"
        },
        {
         "hoverinfo": "text",
         "marker": {
          "color": "rgb(0,116,217)"
         },
         "mode": "lines",
         "type": "scatter",
         "x": [
          0,
          51.05983424128819,
          51.05983424128819,
          32.92909740643204
         ],
         "xaxis": "x",
         "y": [
          -55,
          -55,
          -72.5,
          -72.5
         ],
         "yaxis": "y"
        },
        {
         "hoverinfo": "text",
         "marker": {
          "color": "rgb(0,116,217)"
         },
         "mode": "lines",
         "type": "scatter",
         "x": [
          0,
          49.27575626327805,
          49.27575626327805,
          0
         ],
         "xaxis": "x",
         "y": [
          -105,
          -105,
          -115,
          -115
         ],
         "yaxis": "y"
        },
        {
         "hoverinfo": "text",
         "marker": {
          "color": "rgb(0,116,217)"
         },
         "mode": "lines",
         "type": "scatter",
         "x": [
          0,
          55.90828047237967,
          55.90828047237967,
          49.27575626327805
         ],
         "xaxis": "x",
         "y": [
          -95,
          -95,
          -110,
          -110
         ],
         "yaxis": "y"
        },
        {
         "hoverinfo": "text",
         "marker": {
          "color": "rgb(0,116,217)"
         },
         "mode": "lines",
         "type": "scatter",
         "x": [
          0,
          17.827405625265275,
          17.827405625265275,
          0
         ],
         "xaxis": "x",
         "y": [
          -155,
          -155,
          -165,
          -165
         ],
         "yaxis": "y"
        },
        {
         "hoverinfo": "text",
         "marker": {
          "color": "rgb(0,116,217)"
         },
         "mode": "lines",
         "type": "scatter",
         "x": [
          0,
          23.285912330283182,
          23.285912330283182,
          17.827405625265275
         ],
         "xaxis": "x",
         "y": [
          -145,
          -145,
          -160,
          -160
         ],
         "yaxis": "y"
        },
        {
         "hoverinfo": "text",
         "marker": {
          "color": "rgb(0,116,217)"
         },
         "mode": "lines",
         "type": "scatter",
         "x": [
          0,
          27.53924855309033,
          27.53924855309033,
          23.285912330283182
         ],
         "xaxis": "x",
         "y": [
          -135,
          -135,
          -152.5,
          -152.5
         ],
         "yaxis": "y"
        },
        {
         "hoverinfo": "text",
         "marker": {
          "color": "rgb(0,116,217)"
         },
         "mode": "lines",
         "type": "scatter",
         "x": [
          0,
          32.77090231093491,
          32.77090231093491,
          0
         ],
         "xaxis": "x",
         "y": [
          -175,
          -175,
          -185,
          -185
         ],
         "yaxis": "y"
        },
        {
         "hoverinfo": "text",
         "marker": {
          "color": "rgb(0,116,217)"
         },
         "mode": "lines",
         "type": "scatter",
         "x": [
          27.53924855309033,
          44.62429616342113,
          44.62429616342113,
          32.77090231093491
         ],
         "xaxis": "x",
         "y": [
          -143.75,
          -143.75,
          -180,
          -180
         ],
         "yaxis": "y"
        },
        {
         "hoverinfo": "text",
         "marker": {
          "color": "rgb(0,116,217)"
         },
         "mode": "lines",
         "type": "scatter",
         "x": [
          0,
          48.36731010579319,
          48.36731010579319,
          44.62429616342113
         ],
         "xaxis": "x",
         "y": [
          -125,
          -125,
          -161.875,
          -161.875
         ],
         "yaxis": "y"
        },
        {
         "hoverinfo": "text",
         "marker": {
          "color": "rgb(0,116,217)"
         },
         "mode": "lines",
         "type": "scatter",
         "x": [
          0,
          17.394169057077576,
          17.394169057077576,
          0
         ],
         "xaxis": "x",
         "y": [
          -215,
          -215,
          -225,
          -225
         ],
         "yaxis": "y"
        },
        {
         "hoverinfo": "text",
         "marker": {
          "color": "rgb(0,116,217)"
         },
         "mode": "lines",
         "type": "scatter",
         "x": [
          0,
          30.858646725388144,
          30.858646725388144,
          17.394169057077576
         ],
         "xaxis": "x",
         "y": [
          -205,
          -205,
          -220,
          -220
         ],
         "yaxis": "y"
        },
        {
         "hoverinfo": "text",
         "marker": {
          "color": "rgb(0,116,217)"
         },
         "mode": "lines",
         "type": "scatter",
         "x": [
          0,
          53.339640034636545,
          53.339640034636545,
          30.858646725388144
         ],
         "xaxis": "x",
         "y": [
          -195,
          -195,
          -212.5,
          -212.5
         ],
         "yaxis": "y"
        },
        {
         "hoverinfo": "text",
         "marker": {
          "color": "rgb(0,116,217)"
         },
         "mode": "lines",
         "type": "scatter",
         "x": [
          48.36731010579319,
          68.14874442316504,
          68.14874442316504,
          53.339640034636545
         ],
         "xaxis": "x",
         "y": [
          -143.4375,
          -143.4375,
          -203.75,
          -203.75
         ],
         "yaxis": "y"
        },
        {
         "hoverinfo": "text",
         "marker": {
          "color": "rgb(0,116,217)"
         },
         "mode": "lines",
         "type": "scatter",
         "x": [
          55.90828047237967,
          77.97692101887418,
          77.97692101887418,
          68.14874442316504
         ],
         "xaxis": "x",
         "y": [
          -102.5,
          -102.5,
          -173.59375,
          -173.59375
         ],
         "yaxis": "y"
        },
        {
         "hoverinfo": "text",
         "marker": {
          "color": "rgb(0,116,217)"
         },
         "mode": "lines",
         "type": "scatter",
         "x": [
          51.05983424128819,
          90.68525019578078,
          90.68525019578078,
          77.97692101887418
         ],
         "xaxis": "x",
         "y": [
          -63.75,
          -63.75,
          -138.046875,
          -138.046875
         ],
         "yaxis": "y"
        },
        {
         "hoverinfo": "text",
         "marker": {
          "color": "rgb(0,116,217)"
         },
         "mode": "lines",
         "type": "scatter",
         "x": [
          67.31889053873888,
          117.7922934028628,
          117.7922934028628,
          90.68525019578078
         ],
         "xaxis": "x",
         "y": [
          -21.25,
          -21.25,
          -100.8984375,
          -100.8984375
         ],
         "yaxis": "y"
        }
       ],
       "layout": {
        "autosize": false,
        "height": 600,
        "hovermode": "closest",
        "showlegend": false,
        "template": {
         "data": {
          "bar": [
           {
            "error_x": {
             "color": "#2a3f5f"
            },
            "error_y": {
             "color": "#2a3f5f"
            },
            "marker": {
             "line": {
              "color": "#E5ECF6",
              "width": 0.5
             },
             "pattern": {
              "fillmode": "overlay",
              "size": 10,
              "solidity": 0.2
             }
            },
            "type": "bar"
           }
          ],
          "barpolar": [
           {
            "marker": {
             "line": {
              "color": "#E5ECF6",
              "width": 0.5
             },
             "pattern": {
              "fillmode": "overlay",
              "size": 10,
              "solidity": 0.2
             }
            },
            "type": "barpolar"
           }
          ],
          "carpet": [
           {
            "aaxis": {
             "endlinecolor": "#2a3f5f",
             "gridcolor": "white",
             "linecolor": "white",
             "minorgridcolor": "white",
             "startlinecolor": "#2a3f5f"
            },
            "baxis": {
             "endlinecolor": "#2a3f5f",
             "gridcolor": "white",
             "linecolor": "white",
             "minorgridcolor": "white",
             "startlinecolor": "#2a3f5f"
            },
            "type": "carpet"
           }
          ],
          "choropleth": [
           {
            "colorbar": {
             "outlinewidth": 0,
             "ticks": ""
            },
            "type": "choropleth"
           }
          ],
          "contour": [
           {
            "colorbar": {
             "outlinewidth": 0,
             "ticks": ""
            },
            "colorscale": [
             [
              0,
              "#0d0887"
             ],
             [
              0.1111111111111111,
              "#46039f"
             ],
             [
              0.2222222222222222,
              "#7201a8"
             ],
             [
              0.3333333333333333,
              "#9c179e"
             ],
             [
              0.4444444444444444,
              "#bd3786"
             ],
             [
              0.5555555555555556,
              "#d8576b"
             ],
             [
              0.6666666666666666,
              "#ed7953"
             ],
             [
              0.7777777777777778,
              "#fb9f3a"
             ],
             [
              0.8888888888888888,
              "#fdca26"
             ],
             [
              1,
              "#f0f921"
             ]
            ],
            "type": "contour"
           }
          ],
          "contourcarpet": [
           {
            "colorbar": {
             "outlinewidth": 0,
             "ticks": ""
            },
            "type": "contourcarpet"
           }
          ],
          "heatmap": [
           {
            "colorbar": {
             "outlinewidth": 0,
             "ticks": ""
            },
            "colorscale": [
             [
              0,
              "#0d0887"
             ],
             [
              0.1111111111111111,
              "#46039f"
             ],
             [
              0.2222222222222222,
              "#7201a8"
             ],
             [
              0.3333333333333333,
              "#9c179e"
             ],
             [
              0.4444444444444444,
              "#bd3786"
             ],
             [
              0.5555555555555556,
              "#d8576b"
             ],
             [
              0.6666666666666666,
              "#ed7953"
             ],
             [
              0.7777777777777778,
              "#fb9f3a"
             ],
             [
              0.8888888888888888,
              "#fdca26"
             ],
             [
              1,
              "#f0f921"
             ]
            ],
            "type": "heatmap"
           }
          ],
          "heatmapgl": [
           {
            "colorbar": {
             "outlinewidth": 0,
             "ticks": ""
            },
            "colorscale": [
             [
              0,
              "#0d0887"
             ],
             [
              0.1111111111111111,
              "#46039f"
             ],
             [
              0.2222222222222222,
              "#7201a8"
             ],
             [
              0.3333333333333333,
              "#9c179e"
             ],
             [
              0.4444444444444444,
              "#bd3786"
             ],
             [
              0.5555555555555556,
              "#d8576b"
             ],
             [
              0.6666666666666666,
              "#ed7953"
             ],
             [
              0.7777777777777778,
              "#fb9f3a"
             ],
             [
              0.8888888888888888,
              "#fdca26"
             ],
             [
              1,
              "#f0f921"
             ]
            ],
            "type": "heatmapgl"
           }
          ],
          "histogram": [
           {
            "marker": {
             "pattern": {
              "fillmode": "overlay",
              "size": 10,
              "solidity": 0.2
             }
            },
            "type": "histogram"
           }
          ],
          "histogram2d": [
           {
            "colorbar": {
             "outlinewidth": 0,
             "ticks": ""
            },
            "colorscale": [
             [
              0,
              "#0d0887"
             ],
             [
              0.1111111111111111,
              "#46039f"
             ],
             [
              0.2222222222222222,
              "#7201a8"
             ],
             [
              0.3333333333333333,
              "#9c179e"
             ],
             [
              0.4444444444444444,
              "#bd3786"
             ],
             [
              0.5555555555555556,
              "#d8576b"
             ],
             [
              0.6666666666666666,
              "#ed7953"
             ],
             [
              0.7777777777777778,
              "#fb9f3a"
             ],
             [
              0.8888888888888888,
              "#fdca26"
             ],
             [
              1,
              "#f0f921"
             ]
            ],
            "type": "histogram2d"
           }
          ],
          "histogram2dcontour": [
           {
            "colorbar": {
             "outlinewidth": 0,
             "ticks": ""
            },
            "colorscale": [
             [
              0,
              "#0d0887"
             ],
             [
              0.1111111111111111,
              "#46039f"
             ],
             [
              0.2222222222222222,
              "#7201a8"
             ],
             [
              0.3333333333333333,
              "#9c179e"
             ],
             [
              0.4444444444444444,
              "#bd3786"
             ],
             [
              0.5555555555555556,
              "#d8576b"
             ],
             [
              0.6666666666666666,
              "#ed7953"
             ],
             [
              0.7777777777777778,
              "#fb9f3a"
             ],
             [
              0.8888888888888888,
              "#fdca26"
             ],
             [
              1,
              "#f0f921"
             ]
            ],
            "type": "histogram2dcontour"
           }
          ],
          "mesh3d": [
           {
            "colorbar": {
             "outlinewidth": 0,
             "ticks": ""
            },
            "type": "mesh3d"
           }
          ],
          "parcoords": [
           {
            "line": {
             "colorbar": {
              "outlinewidth": 0,
              "ticks": ""
             }
            },
            "type": "parcoords"
           }
          ],
          "pie": [
           {
            "automargin": true,
            "type": "pie"
           }
          ],
          "scatter": [
           {
            "marker": {
             "colorbar": {
              "outlinewidth": 0,
              "ticks": ""
             }
            },
            "type": "scatter"
           }
          ],
          "scatter3d": [
           {
            "line": {
             "colorbar": {
              "outlinewidth": 0,
              "ticks": ""
             }
            },
            "marker": {
             "colorbar": {
              "outlinewidth": 0,
              "ticks": ""
             }
            },
            "type": "scatter3d"
           }
          ],
          "scattercarpet": [
           {
            "marker": {
             "colorbar": {
              "outlinewidth": 0,
              "ticks": ""
             }
            },
            "type": "scattercarpet"
           }
          ],
          "scattergeo": [
           {
            "marker": {
             "colorbar": {
              "outlinewidth": 0,
              "ticks": ""
             }
            },
            "type": "scattergeo"
           }
          ],
          "scattergl": [
           {
            "marker": {
             "colorbar": {
              "outlinewidth": 0,
              "ticks": ""
             }
            },
            "type": "scattergl"
           }
          ],
          "scattermapbox": [
           {
            "marker": {
             "colorbar": {
              "outlinewidth": 0,
              "ticks": ""
             }
            },
            "type": "scattermapbox"
           }
          ],
          "scatterpolar": [
           {
            "marker": {
             "colorbar": {
              "outlinewidth": 0,
              "ticks": ""
             }
            },
            "type": "scatterpolar"
           }
          ],
          "scatterpolargl": [
           {
            "marker": {
             "colorbar": {
              "outlinewidth": 0,
              "ticks": ""
             }
            },
            "type": "scatterpolargl"
           }
          ],
          "scatterternary": [
           {
            "marker": {
             "colorbar": {
              "outlinewidth": 0,
              "ticks": ""
             }
            },
            "type": "scatterternary"
           }
          ],
          "surface": [
           {
            "colorbar": {
             "outlinewidth": 0,
             "ticks": ""
            },
            "colorscale": [
             [
              0,
              "#0d0887"
             ],
             [
              0.1111111111111111,
              "#46039f"
             ],
             [
              0.2222222222222222,
              "#7201a8"
             ],
             [
              0.3333333333333333,
              "#9c179e"
             ],
             [
              0.4444444444444444,
              "#bd3786"
             ],
             [
              0.5555555555555556,
              "#d8576b"
             ],
             [
              0.6666666666666666,
              "#ed7953"
             ],
             [
              0.7777777777777778,
              "#fb9f3a"
             ],
             [
              0.8888888888888888,
              "#fdca26"
             ],
             [
              1,
              "#f0f921"
             ]
            ],
            "type": "surface"
           }
          ],
          "table": [
           {
            "cells": {
             "fill": {
              "color": "#EBF0F8"
             },
             "line": {
              "color": "white"
             }
            },
            "header": {
             "fill": {
              "color": "#C8D4E3"
             },
             "line": {
              "color": "white"
             }
            },
            "type": "table"
           }
          ]
         },
         "layout": {
          "annotationdefaults": {
           "arrowcolor": "#2a3f5f",
           "arrowhead": 0,
           "arrowwidth": 1
          },
          "autotypenumbers": "strict",
          "coloraxis": {
           "colorbar": {
            "outlinewidth": 0,
            "ticks": ""
           }
          },
          "colorscale": {
           "diverging": [
            [
             0,
             "#8e0152"
            ],
            [
             0.1,
             "#c51b7d"
            ],
            [
             0.2,
             "#de77ae"
            ],
            [
             0.3,
             "#f1b6da"
            ],
            [
             0.4,
             "#fde0ef"
            ],
            [
             0.5,
             "#f7f7f7"
            ],
            [
             0.6,
             "#e6f5d0"
            ],
            [
             0.7,
             "#b8e186"
            ],
            [
             0.8,
             "#7fbc41"
            ],
            [
             0.9,
             "#4d9221"
            ],
            [
             1,
             "#276419"
            ]
           ],
           "sequential": [
            [
             0,
             "#0d0887"
            ],
            [
             0.1111111111111111,
             "#46039f"
            ],
            [
             0.2222222222222222,
             "#7201a8"
            ],
            [
             0.3333333333333333,
             "#9c179e"
            ],
            [
             0.4444444444444444,
             "#bd3786"
            ],
            [
             0.5555555555555556,
             "#d8576b"
            ],
            [
             0.6666666666666666,
             "#ed7953"
            ],
            [
             0.7777777777777778,
             "#fb9f3a"
            ],
            [
             0.8888888888888888,
             "#fdca26"
            ],
            [
             1,
             "#f0f921"
            ]
           ],
           "sequentialminus": [
            [
             0,
             "#0d0887"
            ],
            [
             0.1111111111111111,
             "#46039f"
            ],
            [
             0.2222222222222222,
             "#7201a8"
            ],
            [
             0.3333333333333333,
             "#9c179e"
            ],
            [
             0.4444444444444444,
             "#bd3786"
            ],
            [
             0.5555555555555556,
             "#d8576b"
            ],
            [
             0.6666666666666666,
             "#ed7953"
            ],
            [
             0.7777777777777778,
             "#fb9f3a"
            ],
            [
             0.8888888888888888,
             "#fdca26"
            ],
            [
             1,
             "#f0f921"
            ]
           ]
          },
          "colorway": [
           "#636efa",
           "#EF553B",
           "#00cc96",
           "#ab63fa",
           "#FFA15A",
           "#19d3f3",
           "#FF6692",
           "#B6E880",
           "#FF97FF",
           "#FECB52"
          ],
          "font": {
           "color": "#2a3f5f"
          },
          "geo": {
           "bgcolor": "white",
           "lakecolor": "white",
           "landcolor": "#E5ECF6",
           "showlakes": true,
           "showland": true,
           "subunitcolor": "white"
          },
          "hoverlabel": {
           "align": "left"
          },
          "hovermode": "closest",
          "mapbox": {
           "style": "light"
          },
          "paper_bgcolor": "white",
          "plot_bgcolor": "#E5ECF6",
          "polar": {
           "angularaxis": {
            "gridcolor": "white",
            "linecolor": "white",
            "ticks": ""
           },
           "bgcolor": "#E5ECF6",
           "radialaxis": {
            "gridcolor": "white",
            "linecolor": "white",
            "ticks": ""
           }
          },
          "scene": {
           "xaxis": {
            "backgroundcolor": "#E5ECF6",
            "gridcolor": "white",
            "gridwidth": 2,
            "linecolor": "white",
            "showbackground": true,
            "ticks": "",
            "zerolinecolor": "white"
           },
           "yaxis": {
            "backgroundcolor": "#E5ECF6",
            "gridcolor": "white",
            "gridwidth": 2,
            "linecolor": "white",
            "showbackground": true,
            "ticks": "",
            "zerolinecolor": "white"
           },
           "zaxis": {
            "backgroundcolor": "#E5ECF6",
            "gridcolor": "white",
            "gridwidth": 2,
            "linecolor": "white",
            "showbackground": true,
            "ticks": "",
            "zerolinecolor": "white"
           }
          },
          "shapedefaults": {
           "line": {
            "color": "#2a3f5f"
           }
          },
          "ternary": {
           "aaxis": {
            "gridcolor": "white",
            "linecolor": "white",
            "ticks": ""
           },
           "baxis": {
            "gridcolor": "white",
            "linecolor": "white",
            "ticks": ""
           },
           "bgcolor": "#E5ECF6",
           "caxis": {
            "gridcolor": "white",
            "linecolor": "white",
            "ticks": ""
           }
          },
          "title": {
           "x": 0.05
          },
          "xaxis": {
           "automargin": true,
           "gridcolor": "white",
           "linecolor": "white",
           "ticks": "",
           "title": {
            "standoff": 15
           },
           "zerolinecolor": "white",
           "zerolinewidth": 2
          },
          "yaxis": {
           "automargin": true,
           "gridcolor": "white",
           "linecolor": "white",
           "ticks": "",
           "title": {
            "standoff": 15
           },
           "zerolinecolor": "white",
           "zerolinewidth": 2
          }
         }
        },
        "width": 800,
        "xaxis": {
         "autorange": true,
         "mirror": "allticks",
         "range": [
          0,
          117.7922934028628
         ],
         "rangemode": "tozero",
         "showgrid": false,
         "showline": true,
         "showticklabels": true,
         "ticks": "outside",
         "type": "linear",
         "zeroline": false
        },
        "yaxis": {
         "autorange": true,
         "mirror": "allticks",
         "range": [
          -236.8421052631579,
          0
         ],
         "rangemode": "tozero",
         "showgrid": false,
         "showline": true,
         "showticklabels": true,
         "tickmode": "array",
         "ticks": "outside",
         "ticktext": [
          "Engineer, data",
          "Data or business analyst",
          "Data scientist or machine learning specialist",
          "Scientist",
          "Academic researcher",
          "Engineer, site reliability",
          "DevOps specialist",
          "Senior executive/VP",
          "Engineering manager",
          "Developer, desktop or enterprise applications",
          "Developer, game or graphics",
          "Developer, embedded applications or devices",
          "Marketing or sales professional",
          "Developer, back-end",
          "Educator",
          "Product manager",
          "Developer, QA or test",
          "System administrator",
          "Database administrator",
          "Developer, mobile",
          "Designer",
          "Developer, front-end",
          "Developer, full-stack"
         ],
         "tickvals": [
          -5,
          -15,
          -25,
          -35,
          -45,
          -55,
          -65,
          -75,
          -85,
          -95,
          -105,
          -115,
          -125,
          -135,
          -145,
          -155,
          -165,
          -175,
          -185,
          -195,
          -205,
          -215,
          -225
         ],
         "type": "linear",
         "zeroline": false
        }
       }
      },
      "image/png": "[encoded data removed]",
      "text/html": [
       "<div>                            <div id=\"9ce4b318-7a67-478d-a67c-51ebed3e2f45\" class=\"plotly-graph-div\" style=\"height:600px; width:800px;\"></div>            <script type=\"text/javascript\">                require([\"plotly\"], function(Plotly) {                    window.PLOTLYENV=window.PLOTLYENV || {};                                    if (document.getElementById(\"9ce4b318-7a67-478d-a67c-51ebed3e2f45\")) {                    Plotly.newPlot(                        \"9ce4b318-7a67-478d-a67c-51ebed3e2f45\",                        [{\"hoverinfo\":\"text\",\"marker\":{\"color\":\"rgb(0,116,217)\"},\"mode\":\"lines\",\"type\":\"scatter\",\"x\":[0.0,41.14498935018818,41.14498935018818,0.0],\"xaxis\":\"x\",\"y\":[-5.0,-5.0,-15.0,-15.0],\"yaxis\":\"y\"},{\"hoverinfo\":\"text\",\"marker\":{\"color\":\"rgb(0,116,217)\"},\"mode\":\"lines\",\"type\":\"scatter\",\"x\":[0.0,23.415207784184553,23.415207784184553,0.0],\"xaxis\":\"x\",\"y\":[-35.0,-35.0,-45.0,-45.0],\"yaxis\":\"y\"},{\"hoverinfo\":\"text\",\"marker\":{\"color\":\"rgb(0,116,217)\"},\"mode\":\"lines\",\"type\":\"scatter\",\"x\":[0.0,52.340165012688196,52.340165012688196,23.415207784184553],\"xaxis\":\"x\",\"y\":[-25.0,-25.0,-40.0,-40.0],\"yaxis\":\"y\"},{\"hoverinfo\":\"text\",\"marker\":{\"color\":\"rgb(0,116,217)\"},\"mode\":\"lines\",\"type\":\"scatter\",\"x\":[41.14498935018818,67.31889053873888,67.31889053873888,52.340165012688196],\"xaxis\":\"x\",\"y\":[-10.0,-10.0,-32.5,-32.5],\"yaxis\":\"y\"},{\"hoverinfo\":\"text\",\"marker\":{\"color\":\"rgb(0,116,217)\"},\"mode\":\"lines\",\"type\":\"scatter\",\"x\":[0.0,21.7634879959641,21.7634879959641,0.0],\"xaxis\":\"x\",\"y\":[-75.0,-75.0,-85.0,-85.0],\"yaxis\":\"y\"},{\"hoverinfo\":\"text\",\"marker\":{\"color\":\"rgb(0,116,217)\"},\"mode\":\"lines\",\"type\":\"scatter\",\"x\":[0.0,32.92909740643204,32.92909740643204,21.7634879959641],\"xaxis\":\"x\",\"y\":[-65.0,-65.0,-80.0,-80.0],\"yaxis\":\"y\"},{\"hoverinfo\":\"text\",\"marker\":{\"color\":\"rgb(0,116,217)\"},\"mode\":\"lines\",\"type\":\"scatter\",\"x\":[0.0,51.05983424128819,51.05983424128819,32.92909740643204],\"xaxis\":\"x\",\"y\":[-55.0,-55.0,-72.5,-72.5],\"yaxis\":\"y\"},{\"hoverinfo\":\"text\",\"marker\":{\"color\":\"rgb(0,116,217)\"},\"mode\":\"lines\",\"type\":\"scatter\",\"x\":[0.0,49.27575626327805,49.27575626327805,0.0],\"xaxis\":\"x\",\"y\":[-105.0,-105.0,-115.0,-115.0],\"yaxis\":\"y\"},{\"hoverinfo\":\"text\",\"marker\":{\"color\":\"rgb(0,116,217)\"},\"mode\":\"lines\",\"type\":\"scatter\",\"x\":[0.0,55.90828047237967,55.90828047237967,49.27575626327805],\"xaxis\":\"x\",\"y\":[-95.0,-95.0,-110.0,-110.0],\"yaxis\":\"y\"},{\"hoverinfo\":\"text\",\"marker\":{\"color\":\"rgb(0,116,217)\"},\"mode\":\"lines\",\"type\":\"scatter\",\"x\":[0.0,17.827405625265275,17.827405625265275,0.0],\"xaxis\":\"x\",\"y\":[-155.0,-155.0,-165.0,-165.0],\"yaxis\":\"y\"},{\"hoverinfo\":\"text\",\"marker\":{\"color\":\"rgb(0,116,217)\"},\"mode\":\"lines\",\"type\":\"scatter\",\"x\":[0.0,23.285912330283182,23.285912330283182,17.827405625265275],\"xaxis\":\"x\",\"y\":[-145.0,-145.0,-160.0,-160.0],\"yaxis\":\"y\"},{\"hoverinfo\":\"text\",\"marker\":{\"color\":\"rgb(0,116,217)\"},\"mode\":\"lines\",\"type\":\"scatter\",\"x\":[0.0,27.53924855309033,27.53924855309033,23.285912330283182],\"xaxis\":\"x\",\"y\":[-135.0,-135.0,-152.5,-152.5],\"yaxis\":\"y\"},{\"hoverinfo\":\"text\",\"marker\":{\"color\":\"rgb(0,116,217)\"},\"mode\":\"lines\",\"type\":\"scatter\",\"x\":[0.0,32.77090231093491,32.77090231093491,0.0],\"xaxis\":\"x\",\"y\":[-175.0,-175.0,-185.0,-185.0],\"yaxis\":\"y\"},{\"hoverinfo\":\"text\",\"marker\":{\"color\":\"rgb(0,116,217)\"},\"mode\":\"lines\",\"type\":\"scatter\",\"x\":[27.53924855309033,44.62429616342113,44.62429616342113,32.77090231093491],\"xaxis\":\"x\",\"y\":[-143.75,-143.75,-180.0,-180.0],\"yaxis\":\"y\"},{\"hoverinfo\":\"text\",\"marker\":{\"color\":\"rgb(0,116,217)\"},\"mode\":\"lines\",\"type\":\"scatter\",\"x\":[0.0,48.36731010579319,48.36731010579319,44.62429616342113],\"xaxis\":\"x\",\"y\":[-125.0,-125.0,-161.875,-161.875],\"yaxis\":\"y\"},{\"hoverinfo\":\"text\",\"marker\":{\"color\":\"rgb(0,116,217)\"},\"mode\":\"lines\",\"type\":\"scatter\",\"x\":[0.0,17.394169057077576,17.394169057077576,0.0],\"xaxis\":\"x\",\"y\":[-215.0,-215.0,-225.0,-225.0],\"yaxis\":\"y\"},{\"hoverinfo\":\"text\",\"marker\":{\"color\":\"rgb(0,116,217)\"},\"mode\":\"lines\",\"type\":\"scatter\",\"x\":[0.0,30.858646725388144,30.858646725388144,17.394169057077576],\"xaxis\":\"x\",\"y\":[-205.0,-205.0,-220.0,-220.0],\"yaxis\":\"y\"},{\"hoverinfo\":\"text\",\"marker\":{\"color\":\"rgb(0,116,217)\"},\"mode\":\"lines\",\"type\":\"scatter\",\"x\":[0.0,53.339640034636545,53.339640034636545,30.858646725388144],\"xaxis\":\"x\",\"y\":[-195.0,-195.0,-212.5,-212.5],\"yaxis\":\"y\"},{\"hoverinfo\":\"text\",\"marker\":{\"color\":\"rgb(0,116,217)\"},\"mode\":\"lines\",\"type\":\"scatter\",\"x\":[48.36731010579319,68.14874442316504,68.14874442316504,53.339640034636545],\"xaxis\":\"x\",\"y\":[-143.4375,-143.4375,-203.75,-203.75],\"yaxis\":\"y\"},{\"hoverinfo\":\"text\",\"marker\":{\"color\":\"rgb(0,116,217)\"},\"mode\":\"lines\",\"type\":\"scatter\",\"x\":[55.90828047237967,77.97692101887418,77.97692101887418,68.14874442316504],\"xaxis\":\"x\",\"y\":[-102.5,-102.5,-173.59375,-173.59375],\"yaxis\":\"y\"},{\"hoverinfo\":\"text\",\"marker\":{\"color\":\"rgb(0,116,217)\"},\"mode\":\"lines\",\"type\":\"scatter\",\"x\":[51.05983424128819,90.68525019578078,90.68525019578078,77.97692101887418],\"xaxis\":\"x\",\"y\":[-63.75,-63.75,-138.046875,-138.046875],\"yaxis\":\"y\"},{\"hoverinfo\":\"text\",\"marker\":{\"color\":\"rgb(0,116,217)\"},\"mode\":\"lines\",\"type\":\"scatter\",\"x\":[67.31889053873888,117.7922934028628,117.7922934028628,90.68525019578078],\"xaxis\":\"x\",\"y\":[-21.25,-21.25,-100.8984375,-100.8984375],\"yaxis\":\"y\"}],                        {\"autosize\":false,\"height\":600,\"hovermode\":\"closest\",\"showlegend\":false,\"template\":{\"data\":{\"bar\":[{\"error_x\":{\"color\":\"#2a3f5f\"},\"error_y\":{\"color\":\"#2a3f5f\"},\"marker\":{\"line\":{\"color\":\"#E5ECF6\",\"width\":0.5},\"pattern\":{\"fillmode\":\"overlay\",\"size\":10,\"solidity\":0.2}},\"type\":\"bar\"}],\"barpolar\":[{\"marker\":{\"line\":{\"color\":\"#E5ECF6\",\"width\":0.5},\"pattern\":{\"fillmode\":\"overlay\",\"size\":10,\"solidity\":0.2}},\"type\":\"barpolar\"}],\"carpet\":[{\"aaxis\":{\"endlinecolor\":\"#2a3f5f\",\"gridcolor\":\"white\",\"linecolor\":\"white\",\"minorgridcolor\":\"white\",\"startlinecolor\":\"#2a3f5f\"},\"baxis\":{\"endlinecolor\":\"#2a3f5f\",\"gridcolor\":\"white\",\"linecolor\":\"white\",\"minorgridcolor\":\"white\",\"startlinecolor\":\"#2a3f5f\"},\"type\":\"carpet\"}],\"choropleth\":[{\"colorbar\":{\"outlinewidth\":0,\"ticks\":\"\"},\"type\":\"choropleth\"}],\"contour\":[{\"colorbar\":{\"outlinewidth\":0,\"ticks\":\"\"},\"colorscale\":[[0.0,\"#0d0887\"],[0.1111111111111111,\"#46039f\"],[0.2222222222222222,\"#7201a8\"],[0.3333333333333333,\"#9c179e\"],[0.4444444444444444,\"#bd3786\"],[0.5555555555555556,\"#d8576b\"],[0.6666666666666666,\"#ed7953\"],[0.7777777777777778,\"#fb9f3a\"],[0.8888888888888888,\"#fdca26\"],[1.0,\"#f0f921\"]],\"type\":\"contour\"}],\"contourcarpet\":[{\"colorbar\":{\"outlinewidth\":0,\"ticks\":\"\"},\"type\":\"contourcarpet\"}],\"heatmap\":[{\"colorbar\":{\"outlinewidth\":0,\"ticks\":\"\"},\"colorscale\":[[0.0,\"#0d0887\"],[0.1111111111111111,\"#46039f\"],[0.2222222222222222,\"#7201a8\"],[0.3333333333333333,\"#9c179e\"],[0.4444444444444444,\"#bd3786\"],[0.5555555555555556,\"#d8576b\"],[0.6666666666666666,\"#ed7953\"],[0.7777777777777778,\"#fb9f3a\"],[0.8888888888888888,\"#fdca26\"],[1.0,\"#f0f921\"]],\"type\":\"heatmap\"}],\"heatmapgl\":[{\"colorbar\":{\"outlinewidth\":0,\"ticks\":\"\"},\"colorscale\":[[0.0,\"#0d0887\"],[0.1111111111111111,\"#46039f\"],[0.2222222222222222,\"#7201a8\"],[0.3333333333333333,\"#9c179e\"],[0.4444444444444444,\"#bd3786\"],[0.5555555555555556,\"#d8576b\"],[0.6666666666666666,\"#ed7953\"],[0.7777777777777778,\"#fb9f3a\"],[0.8888888888888888,\"#fdca26\"],[1.0,\"#f0f921\"]],\"type\":\"heatmapgl\"}],\"histogram\":[{\"marker\":{\"pattern\":{\"fillmode\":\"overlay\",\"size\":10,\"solidity\":0.2}},\"type\":\"histogram\"}],\"histogram2d\":[{\"colorbar\":{\"outlinewidth\":0,\"ticks\":\"\"},\"colorscale\":[[0.0,\"#0d0887\"],[0.1111111111111111,\"#46039f\"],[0.2222222222222222,\"#7201a8\"],[0.3333333333333333,\"#9c179e\"],[0.4444444444444444,\"#bd3786\"],[0.5555555555555556,\"#d8576b\"],[0.6666666666666666,\"#ed7953\"],[0.7777777777777778,\"#fb9f3a\"],[0.8888888888888888,\"#fdca26\"],[1.0,\"#f0f921\"]],\"type\":\"histogram2d\"}],\"histogram2dcontour\":[{\"colorbar\":{\"outlinewidth\":0,\"ticks\":\"\"},\"colorscale\":[[0.0,\"#0d0887\"],[0.1111111111111111,\"#46039f\"],[0.2222222222222222,\"#7201a8\"],[0.3333333333333333,\"#9c179e\"],[0.4444444444444444,\"#bd3786\"],[0.5555555555555556,\"#d8576b\"],[0.6666666666666666,\"#ed7953\"],[0.7777777777777778,\"#fb9f3a\"],[0.8888888888888888,\"#fdca26\"],[1.0,\"#f0f921\"]],\"type\":\"histogram2dcontour\"}],\"mesh3d\":[{\"colorbar\":{\"outlinewidth\":0,\"ticks\":\"\"},\"type\":\"mesh3d\"}],\"parcoords\":[{\"line\":{\"colorbar\":{\"outlinewidth\":0,\"ticks\":\"\"}},\"type\":\"parcoords\"}],\"pie\":[{\"automargin\":true,\"type\":\"pie\"}],\"scatter\":[{\"marker\":{\"colorbar\":{\"outlinewidth\":0,\"ticks\":\"\"}},\"type\":\"scatter\"}],\"scatter3d\":[{\"line\":{\"colorbar\":{\"outlinewidth\":0,\"ticks\":\"\"}},\"marker\":{\"colorbar\":{\"outlinewidth\":0,\"ticks\":\"\"}},\"type\":\"scatter3d\"}],\"scattercarpet\":[{\"marker\":{\"colorbar\":{\"outlinewidth\":0,\"ticks\":\"\"}},\"type\":\"scattercarpet\"}],\"scattergeo\":[{\"marker\":{\"colorbar\":{\"outlinewidth\":0,\"ticks\":\"\"}},\"type\":\"scattergeo\"}],\"scattergl\":[{\"marker\":{\"colorbar\":{\"outlinewidth\":0,\"ticks\":\"\"}},\"type\":\"scattergl\"}],\"scattermapbox\":[{\"marker\":{\"colorbar\":{\"outlinewidth\":0,\"ticks\":\"\"}},\"type\":\"scattermapbox\"}],\"scatterpolar\":[{\"marker\":{\"colorbar\":{\"outlinewidth\":0,\"ticks\":\"\"}},\"type\":\"scatterpolar\"}],\"scatterpolargl\":[{\"marker\":{\"colorbar\":{\"outlinewidth\":0,\"ticks\":\"\"}},\"type\":\"scatterpolargl\"}],\"scatterternary\":[{\"marker\":{\"colorbar\":{\"outlinewidth\":0,\"ticks\":\"\"}},\"type\":\"scatterternary\"}],\"surface\":[{\"colorbar\":{\"outlinewidth\":0,\"ticks\":\"\"},\"colorscale\":[[0.0,\"#0d0887\"],[0.1111111111111111,\"#46039f\"],[0.2222222222222222,\"#7201a8\"],[0.3333333333333333,\"#9c179e\"],[0.4444444444444444,\"#bd3786\"],[0.5555555555555556,\"#d8576b\"],[0.6666666666666666,\"#ed7953\"],[0.7777777777777778,\"#fb9f3a\"],[0.8888888888888888,\"#fdca26\"],[1.0,\"#f0f921\"]],\"type\":\"surface\"}],\"table\":[{\"cells\":{\"fill\":{\"color\":\"#EBF0F8\"},\"line\":{\"color\":\"white\"}},\"header\":{\"fill\":{\"color\":\"#C8D4E3\"},\"line\":{\"color\":\"white\"}},\"type\":\"table\"}]},\"layout\":{\"annotationdefaults\":{\"arrowcolor\":\"#2a3f5f\",\"arrowhead\":0,\"arrowwidth\":1},\"autotypenumbers\":\"strict\",\"coloraxis\":{\"colorbar\":{\"outlinewidth\":0,\"ticks\":\"\"}},\"colorscale\":{\"diverging\":[[0,\"#8e0152\"],[0.1,\"#c51b7d\"],[0.2,\"#de77ae\"],[0.3,\"#f1b6da\"],[0.4,\"#fde0ef\"],[0.5,\"#f7f7f7\"],[0.6,\"#e6f5d0\"],[0.7,\"#b8e186\"],[0.8,\"#7fbc41\"],[0.9,\"#4d9221\"],[1,\"#276419\"]],\"sequential\":[[0.0,\"#0d0887\"],[0.1111111111111111,\"#46039f\"],[0.2222222222222222,\"#7201a8\"],[0.3333333333333333,\"#9c179e\"],[0.4444444444444444,\"#bd3786\"],[0.5555555555555556,\"#d8576b\"],[0.6666666666666666,\"#ed7953\"],[0.7777777777777778,\"#fb9f3a\"],[0.8888888888888888,\"#fdca26\"],[1.0,\"#f0f921\"]],\"sequentialminus\":[[0.0,\"#0d0887\"],[0.1111111111111111,\"#46039f\"],[0.2222222222222222,\"#7201a8\"],[0.3333333333333333,\"#9c179e\"],[0.4444444444444444,\"#bd3786\"],[0.5555555555555556,\"#d8576b\"],[0.6666666666666666,\"#ed7953\"],[0.7777777777777778,\"#fb9f3a\"],[0.8888888888888888,\"#fdca26\"],[1.0,\"#f0f921\"]]},\"colorway\":[\"#636efa\",\"#EF553B\",\"#00cc96\",\"#ab63fa\",\"#FFA15A\",\"#19d3f3\",\"#FF6692\",\"#B6E880\",\"#FF97FF\",\"#FECB52\"],\"font\":{\"color\":\"#2a3f5f\"},\"geo\":{\"bgcolor\":\"white\",\"lakecolor\":\"white\",\"landcolor\":\"#E5ECF6\",\"showlakes\":true,\"showland\":true,\"subunitcolor\":\"white\"},\"hoverlabel\":{\"align\":\"left\"},\"hovermode\":\"closest\",\"mapbox\":{\"style\":\"light\"},\"paper_bgcolor\":\"white\",\"plot_bgcolor\":\"#E5ECF6\",\"polar\":{\"angularaxis\":{\"gridcolor\":\"white\",\"linecolor\":\"white\",\"ticks\":\"\"},\"bgcolor\":\"#E5ECF6\",\"radialaxis\":{\"gridcolor\":\"white\",\"linecolor\":\"white\",\"ticks\":\"\"}},\"scene\":{\"xaxis\":{\"backgroundcolor\":\"#E5ECF6\",\"gridcolor\":\"white\",\"gridwidth\":2,\"linecolor\":\"white\",\"showbackground\":true,\"ticks\":\"\",\"zerolinecolor\":\"white\"},\"yaxis\":{\"backgroundcolor\":\"#E5ECF6\",\"gridcolor\":\"white\",\"gridwidth\":2,\"linecolor\":\"white\",\"showbackground\":true,\"ticks\":\"\",\"zerolinecolor\":\"white\"},\"zaxis\":{\"backgroundcolor\":\"#E5ECF6\",\"gridcolor\":\"white\",\"gridwidth\":2,\"linecolor\":\"white\",\"showbackground\":true,\"ticks\":\"\",\"zerolinecolor\":\"white\"}},\"shapedefaults\":{\"line\":{\"color\":\"#2a3f5f\"}},\"ternary\":{\"aaxis\":{\"gridcolor\":\"white\",\"linecolor\":\"white\",\"ticks\":\"\"},\"baxis\":{\"gridcolor\":\"white\",\"linecolor\":\"white\",\"ticks\":\"\"},\"bgcolor\":\"#E5ECF6\",\"caxis\":{\"gridcolor\":\"white\",\"linecolor\":\"white\",\"ticks\":\"\"}},\"title\":{\"x\":0.05},\"xaxis\":{\"automargin\":true,\"gridcolor\":\"white\",\"linecolor\":\"white\",\"ticks\":\"\",\"title\":{\"standoff\":15},\"zerolinecolor\":\"white\",\"zerolinewidth\":2},\"yaxis\":{\"automargin\":true,\"gridcolor\":\"white\",\"linecolor\":\"white\",\"ticks\":\"\",\"title\":{\"standoff\":15},\"zerolinecolor\":\"white\",\"zerolinewidth\":2}}},\"width\":800,\"xaxis\":{\"mirror\":\"allticks\",\"rangemode\":\"tozero\",\"showgrid\":false,\"showline\":true,\"showticklabels\":true,\"ticks\":\"outside\",\"type\":\"linear\",\"zeroline\":false},\"yaxis\":{\"mirror\":\"allticks\",\"rangemode\":\"tozero\",\"showgrid\":false,\"showline\":true,\"showticklabels\":true,\"tickmode\":\"array\",\"ticks\":\"outside\",\"ticktext\":[\"Engineer, data\",\"Data or business analyst\",\"Data scientist or machine learning specialist\",\"Scientist\",\"Academic researcher\",\"Engineer, site reliability\",\"DevOps specialist\",\"Senior executive/VP\",\"Engineering manager\",\"Developer, desktop or enterprise applications\",\"Developer, game or graphics\",\"Developer, embedded applications or devices\",\"Marketing or sales professional\",\"Developer, back-end\",\"Educator\",\"Product manager\",\"Developer, QA or test\",\"System administrator\",\"Database administrator\",\"Developer, mobile\",\"Designer\",\"Developer, front-end\",\"Developer, full-stack\"],\"tickvals\":[-5.0,-15.0,-25.0,-35.0,-45.0,-55.0,-65.0,-75.0,-85.0,-95.0,-105.0,-115.0,-125.0,-135.0,-145.0,-155.0,-165.0,-175.0,-185.0,-195.0,-205.0,-215.0,-225.0],\"type\":\"linear\",\"zeroline\":false}},                        {\"responsive\": true}                    ).then(function(){\n",
       "                            \n",
       "var gd = document.getElementById('9ce4b318-7a67-478d-a67c-51ebed3e2f45');\n",
       "var x = new MutationObserver(function (mutations, observer) {{\n",
       "        var display = window.getComputedStyle(gd).display;\n",
       "        if (!display || display === 'none') {{\n",
       "            console.log([gd, 'removed!']);\n",
       "            Plotly.purge(gd);\n",
       "            observer.disconnect();\n",
       "        }}\n",
       "}});\n",
       "\n",
       "// Listen for the removal of the full notebook cells\n",
       "var notebookContainer = gd.closest('#notebook-container');\n",
       "if (notebookContainer) {{\n",
       "    x.observe(notebookContainer, {childList: true});\n",
       "}}\n",
       "\n",
       "// Listen for the clearing of the current output cell\n",
       "var outputEl = gd.closest('.output');\n",
       "if (outputEl) {{\n",
       "    x.observe(outputEl, {childList: true});\n",
       "}}\n",
       "\n",
       "                        })                };                });            </script>        </div>"
      ]
     },
     "metadata": {},
     "output_type": "display_data"
    }
   ],
   "source": [
    "fig = ff.create_dendrogram(skills,labels=sorted_roles,orientation='left',color_threshold=0)\n",
    "fig.update_layout(height=600,width=800,showlegend=False)\n",
    "fig.show()"
   ]
  },
  {
   "cell_type": "markdown",
   "id": "a29a9a1d-3811-4985-a314-916d67a25e5c",
   "metadata": {},
   "source": [
    "Normalizing features"
   ]
  },
  {
   "cell_type": "code",
   "execution_count": null,
   "id": "830f1c5a-e163-4c4f-800f-26ad95999ed6",
   "metadata": {},
   "outputs": [],
   "source": []
  }
 ],
 "metadata": {
  "kernelspec": {
   "display_name": "Python 3",
   "language": "python",
   "name": "python3"
  },
  "language_info": {
   "codemirror_mode": {
    "name": "ipython",
    "version": 3
   },
   "file_extension": ".py",
   "mimetype": "text/x-python",
   "name": "python",
   "nbconvert_exporter": "python",
   "pygments_lexer": "ipython3",
   "version": "3.8.8"
  }
 },
 "nbformat": 4,
 "nbformat_minor": 5
}
