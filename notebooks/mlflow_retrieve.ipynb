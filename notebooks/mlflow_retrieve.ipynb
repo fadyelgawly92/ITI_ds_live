{
 "cells": [
  {
   "cell_type": "code",
   "execution_count": 1,
   "id": "93e8e17c-59be-493c-8bd1-e511d3914be7",
   "metadata": {},
   "outputs": [],
   "source": [
    "EXPERIMENT_NAME = \"live_illustration\""
   ]
  },
  {
   "cell_type": "code",
   "execution_count": 2,
   "id": "a480ed3c-fea8-4dc8-b8d4-777ce42033dc",
   "metadata": {},
   "outputs": [],
   "source": [
    "import mlflow\n",
    "from mlflow.tracking import MlflowClient"
   ]
  },
  {
   "cell_type": "code",
   "execution_count": 3,
   "id": "25af031b-ed16-44ef-a3a3-9c171de6eb90",
   "metadata": {},
   "outputs": [],
   "source": [
    "# initialize client\n",
    "client = MlflowClient()"
   ]
  },
  {
   "cell_type": "code",
   "execution_count": 4,
   "id": "db110566-7f48-49cc-9a05-b749e7d2f466",
   "metadata": {},
   "outputs": [
    {
     "data": {
      "text/plain": [
       "<Experiment: artifact_location='file:///C:/Users/Access/ITI/data_science_skills/notebooks/mlruns/1', experiment_id='1', lifecycle_stage='active', name='live_illustration', tags={}>"
      ]
     },
     "execution_count": 4,
     "metadata": {},
     "output_type": "execute_result"
    }
   ],
   "source": [
    "exp = client.get_experiment_by_name(EXPERIMENT_NAME)\n",
    "exp"
   ]
  },
  {
   "cell_type": "code",
   "execution_count": 5,
   "id": "106f857a-c6a0-4a50-881f-c437c14da14e",
   "metadata": {},
   "outputs": [
    {
     "data": {
      "text/plain": [
       "'1'"
      ]
     },
     "execution_count": 5,
     "metadata": {},
     "output_type": "execute_result"
    }
   ],
   "source": [
    "exp.experiment_id"
   ]
  },
  {
   "cell_type": "code",
   "execution_count": 6,
   "id": "07f62c31-406f-49bb-9f5b-093fd82e05f8",
   "metadata": {},
   "outputs": [
    {
     "data": {
      "text/plain": [
       "[<Experiment: artifact_location='file:///C:/Users/Access/ITI/data_science_skills/notebooks/mlruns/0', experiment_id='0', lifecycle_stage='active', name='Default', tags={}>,\n",
       " <Experiment: artifact_location='file:///C:/Users/Access/ITI/data_science_skills/notebooks/mlruns/1', experiment_id='1', lifecycle_stage='active', name='live_illustration', tags={}>]"
      ]
     },
     "execution_count": 6,
     "metadata": {},
     "output_type": "execute_result"
    }
   ],
   "source": [
    "client.list_experiments()"
   ]
  },
  {
   "cell_type": "code",
   "execution_count": 7,
   "id": "023945f0-a399-4a15-aaec-e8adb5b5f318",
   "metadata": {},
   "outputs": [
    {
     "data": {
      "text/html": [
       "<div>\n",
       "<style scoped>\n",
       "    .dataframe tbody tr th:only-of-type {\n",
       "        vertical-align: middle;\n",
       "    }\n",
       "\n",
       "    .dataframe tbody tr th {\n",
       "        vertical-align: top;\n",
       "    }\n",
       "\n",
       "    .dataframe thead th {\n",
       "        text-align: right;\n",
       "    }\n",
       "</style>\n",
       "<table border=\"1\" class=\"dataframe\">\n",
       "  <thead>\n",
       "    <tr style=\"text-align: right;\">\n",
       "      <th></th>\n",
       "      <th>run_id</th>\n",
       "      <th>experiment_id</th>\n",
       "      <th>status</th>\n",
       "      <th>artifact_uri</th>\n",
       "      <th>start_time</th>\n",
       "      <th>end_time</th>\n",
       "      <th>metrics.MSE</th>\n",
       "      <th>params.random_state</th>\n",
       "      <th>params.pca_var</th>\n",
       "      <th>tags.mlflow.user</th>\n",
       "      <th>tags.mlflow.source.name</th>\n",
       "      <th>tags.mlflow.source.type</th>\n",
       "    </tr>\n",
       "  </thead>\n",
       "  <tbody>\n",
       "    <tr>\n",
       "      <th>0</th>\n",
       "      <td>eec57ddf585245758bdd807021cb0ea5</td>\n",
       "      <td>1</td>\n",
       "      <td>FINISHED</td>\n",
       "      <td>file:///C:/Users/Access/ITI/data_science_skill...</td>\n",
       "      <td>2022-09-20 12:24:38.360000+00:00</td>\n",
       "      <td>2022-09-20 12:24:38.400000+00:00</td>\n",
       "      <td>31.836607</td>\n",
       "      <td>0</td>\n",
       "      <td>0.9</td>\n",
       "      <td>Access</td>\n",
       "      <td>C:\\Users\\Access\\anaconda3\\lib\\site-packages\\ip...</td>\n",
       "      <td>LOCAL</td>\n",
       "    </tr>\n",
       "    <tr>\n",
       "      <th>1</th>\n",
       "      <td>cee522341d974033bbf6bcaee501a42b</td>\n",
       "      <td>1</td>\n",
       "      <td>FINISHED</td>\n",
       "      <td>file:///C:/Users/Access/ITI/data_science_skill...</td>\n",
       "      <td>2022-09-18 20:06:14.939000+00:00</td>\n",
       "      <td>2022-09-18 20:06:14.980000+00:00</td>\n",
       "      <td>31.836607</td>\n",
       "      <td>0</td>\n",
       "      <td>0.9</td>\n",
       "      <td>Access</td>\n",
       "      <td>C:\\Users\\Access\\anaconda3\\lib\\site-packages\\ip...</td>\n",
       "      <td>LOCAL</td>\n",
       "    </tr>\n",
       "    <tr>\n",
       "      <th>2</th>\n",
       "      <td>f9ec14f7a45f462eaf07c96460a88047</td>\n",
       "      <td>1</td>\n",
       "      <td>FINISHED</td>\n",
       "      <td>file:///C:/Users/Access/ITI/data_science_skill...</td>\n",
       "      <td>2022-09-18 19:49:46.015000+00:00</td>\n",
       "      <td>2022-09-18 19:49:46.061000+00:00</td>\n",
       "      <td>31.831237</td>\n",
       "      <td>0</td>\n",
       "      <td>0.8</td>\n",
       "      <td>Access</td>\n",
       "      <td>C:\\Users\\Access\\anaconda3\\lib\\site-packages\\ip...</td>\n",
       "      <td>LOCAL</td>\n",
       "    </tr>\n",
       "    <tr>\n",
       "      <th>3</th>\n",
       "      <td>7066983ed865407494c05fb7458c9d7c</td>\n",
       "      <td>1</td>\n",
       "      <td>FINISHED</td>\n",
       "      <td>file:///C:/Users/Access/ITI/data_science_skill...</td>\n",
       "      <td>2022-09-18 19:47:22.584000+00:00</td>\n",
       "      <td>2022-09-18 19:47:22.624000+00:00</td>\n",
       "      <td>31.831237</td>\n",
       "      <td>0</td>\n",
       "      <td>0.8</td>\n",
       "      <td>Access</td>\n",
       "      <td>C:\\Users\\Access\\anaconda3\\lib\\site-packages\\ip...</td>\n",
       "      <td>LOCAL</td>\n",
       "    </tr>\n",
       "    <tr>\n",
       "      <th>4</th>\n",
       "      <td>675a5f4d1f034600b19bf0fb88799f31</td>\n",
       "      <td>1</td>\n",
       "      <td>FINISHED</td>\n",
       "      <td>file:///C:/Users/Access/ITI/data_science_skill...</td>\n",
       "      <td>2022-09-18 19:43:47.152000+00:00</td>\n",
       "      <td>2022-09-18 19:43:47.185000+00:00</td>\n",
       "      <td>31.831237</td>\n",
       "      <td>0</td>\n",
       "      <td>0.8</td>\n",
       "      <td>Access</td>\n",
       "      <td>C:\\Users\\Access\\anaconda3\\lib\\site-packages\\ip...</td>\n",
       "      <td>LOCAL</td>\n",
       "    </tr>\n",
       "    <tr>\n",
       "      <th>5</th>\n",
       "      <td>c3e5fdd075414ca889d211884669412f</td>\n",
       "      <td>1</td>\n",
       "      <td>FINISHED</td>\n",
       "      <td>file:///C:/Users/Access/ITI/data_science_skill...</td>\n",
       "      <td>2022-09-18 19:43:35.261000+00:00</td>\n",
       "      <td>2022-09-18 19:43:35.300000+00:00</td>\n",
       "      <td>31.831237</td>\n",
       "      <td>0</td>\n",
       "      <td>0.8</td>\n",
       "      <td>Access</td>\n",
       "      <td>C:\\Users\\Access\\anaconda3\\lib\\site-packages\\ip...</td>\n",
       "      <td>LOCAL</td>\n",
       "    </tr>\n",
       "  </tbody>\n",
       "</table>\n",
       "</div>"
      ],
      "text/plain": [
       "                             run_id experiment_id    status  \\\n",
       "0  eec57ddf585245758bdd807021cb0ea5             1  FINISHED   \n",
       "1  cee522341d974033bbf6bcaee501a42b             1  FINISHED   \n",
       "2  f9ec14f7a45f462eaf07c96460a88047             1  FINISHED   \n",
       "3  7066983ed865407494c05fb7458c9d7c             1  FINISHED   \n",
       "4  675a5f4d1f034600b19bf0fb88799f31             1  FINISHED   \n",
       "5  c3e5fdd075414ca889d211884669412f             1  FINISHED   \n",
       "\n",
       "                                        artifact_uri  \\\n",
       "0  file:///C:/Users/Access/ITI/data_science_skill...   \n",
       "1  file:///C:/Users/Access/ITI/data_science_skill...   \n",
       "2  file:///C:/Users/Access/ITI/data_science_skill...   \n",
       "3  file:///C:/Users/Access/ITI/data_science_skill...   \n",
       "4  file:///C:/Users/Access/ITI/data_science_skill...   \n",
       "5  file:///C:/Users/Access/ITI/data_science_skill...   \n",
       "\n",
       "                        start_time                         end_time  \\\n",
       "0 2022-09-20 12:24:38.360000+00:00 2022-09-20 12:24:38.400000+00:00   \n",
       "1 2022-09-18 20:06:14.939000+00:00 2022-09-18 20:06:14.980000+00:00   \n",
       "2 2022-09-18 19:49:46.015000+00:00 2022-09-18 19:49:46.061000+00:00   \n",
       "3 2022-09-18 19:47:22.584000+00:00 2022-09-18 19:47:22.624000+00:00   \n",
       "4 2022-09-18 19:43:47.152000+00:00 2022-09-18 19:43:47.185000+00:00   \n",
       "5 2022-09-18 19:43:35.261000+00:00 2022-09-18 19:43:35.300000+00:00   \n",
       "\n",
       "   metrics.MSE params.random_state params.pca_var tags.mlflow.user  \\\n",
       "0    31.836607                   0            0.9           Access   \n",
       "1    31.836607                   0            0.9           Access   \n",
       "2    31.831237                   0            0.8           Access   \n",
       "3    31.831237                   0            0.8           Access   \n",
       "4    31.831237                   0            0.8           Access   \n",
       "5    31.831237                   0            0.8           Access   \n",
       "\n",
       "                             tags.mlflow.source.name tags.mlflow.source.type  \n",
       "0  C:\\Users\\Access\\anaconda3\\lib\\site-packages\\ip...                   LOCAL  \n",
       "1  C:\\Users\\Access\\anaconda3\\lib\\site-packages\\ip...                   LOCAL  \n",
       "2  C:\\Users\\Access\\anaconda3\\lib\\site-packages\\ip...                   LOCAL  \n",
       "3  C:\\Users\\Access\\anaconda3\\lib\\site-packages\\ip...                   LOCAL  \n",
       "4  C:\\Users\\Access\\anaconda3\\lib\\site-packages\\ip...                   LOCAL  \n",
       "5  C:\\Users\\Access\\anaconda3\\lib\\site-packages\\ip...                   LOCAL  "
      ]
     },
     "execution_count": 7,
     "metadata": {},
     "output_type": "execute_result"
    }
   ],
   "source": [
    "mlflow.search_runs([exp.experiment_id])"
   ]
  },
  {
   "cell_type": "code",
   "execution_count": null,
   "id": "c8987c81-9f9f-41fb-9ff6-80339154e8d9",
   "metadata": {},
   "outputs": [],
   "source": []
  }
 ],
 "metadata": {
  "kernelspec": {
   "display_name": "Python 3",
   "language": "python",
   "name": "python3"
  },
  "language_info": {
   "codemirror_mode": {
    "name": "ipython",
    "version": 3
   },
   "file_extension": ".py",
   "mimetype": "text/x-python",
   "name": "python",
   "nbconvert_exporter": "python",
   "pygments_lexer": "ipython3",
   "version": "3.8.8"
  }
 },
 "nbformat": 4,
 "nbformat_minor": 5
}
